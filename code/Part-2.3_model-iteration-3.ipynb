{
 "cells": [
  {
   "cell_type": "markdown",
   "id": "7f9f0a03-abf0-4d72-ac34-fffeb37672bb",
   "metadata": {
    "tags": []
   },
   "source": [
    "# Project 2: Ames Housing Data and Kaggle Challenge\n",
    "\n",
    "## Part II - Modeling\n",
    "\n",
    "Author: Charles Ramey\n",
    "\n",
    "Date: 03/19/2023\n",
    "\n",
    "---"
   ]
  },
  {
   "cell_type": "markdown",
   "id": "51dcc8a9-8a5e-437a-b794-2d4eb91566a9",
   "metadata": {},
   "source": [
    "#### Links\n",
    "\n",
    "For the first and second iterations, see the following notebooks:\n",
    "- [`Part-2.1_model-iteration-1.ipynb`](../code/Part-2.1_model-iteration-1.ipynb)\n",
    "- [`Part-2.2_model-iteration-2.ipynb`](../code/Part-2.2_model-iteration-2.ipynb)\n",
    "\n",
    "To see the conclusions and recommendations of this project, see the following notebook:\n",
    "- [`Part-3_conclusion-and-recommendations.ipynb`](../code/Part-3_conclusion-and-recommendations.ipynb)"
   ]
  },
  {
   "cell_type": "markdown",
   "id": "09abf9c2-72ea-40d6-915b-ddce7162f1e6",
   "metadata": {},
   "source": [
    "### Contents\n",
    "\n",
    "- [Preprocessing](#Preprocessing)\n",
    "- [Linear Model](#Linear-Model)\n",
    "- [Ridge Model](#Ridge-Model)\n",
    "- [Lasso Model](#Lasso-Model)\n",
    "- [ElasticNet Model](#ElasticNet-Model)\n",
    "- [Predictions](#Predictions)"
   ]
  },
  {
   "cell_type": "markdown",
   "id": "2a459eca-e983-4bd6-8ff4-7ea01e943a52",
   "metadata": {},
   "source": [
    "## Model Iteration 3"
   ]
  },
  {
   "cell_type": "code",
   "execution_count": 1,
   "id": "4149ec16-822e-4e61-bf7f-376dfe5fb55b",
   "metadata": {
    "tags": []
   },
   "outputs": [],
   "source": [
    "import pandas as pd\n",
    "import numpy as np\n",
    "import matplotlib.pyplot as plt\n",
    "import seaborn as sns\n",
    "\n",
    "import scipy.stats as stats\n",
    "import statsmodels.api as sm\n",
    "\n",
    "from sklearn.linear_model import LinearRegression, Lasso, Ridge, LassoCV, RidgeCV, ElasticNet, ElasticNetCV\n",
    "from sklearn.model_selection import train_test_split, cross_val_score, GridSearchCV\n",
    "from sklearn.preprocessing import PolynomialFeatures, StandardScaler, OneHotEncoder, OrdinalEncoder\n",
    "from sklearn.compose import ColumnTransformer\n",
    "from sklearn.metrics import r2_score, mean_squared_error\n",
    "from sklearn.pipeline import Pipeline\n",
    "from sklearn import set_config\n",
    "\n",
    "import warnings"
   ]
  },
  {
   "cell_type": "code",
   "execution_count": 2,
   "id": "75228a9a-46f8-47fa-8395-c9eda59bdce8",
   "metadata": {
    "tags": []
   },
   "outputs": [],
   "source": [
    "set_config(transform_output='pandas')"
   ]
  },
  {
   "cell_type": "code",
   "execution_count": 3,
   "id": "312fda40-56ef-484a-b6dd-5aa9849e2b01",
   "metadata": {
    "tags": []
   },
   "outputs": [
    {
     "data": {
      "text/html": [
       "<div>\n",
       "<style scoped>\n",
       "    .dataframe tbody tr th:only-of-type {\n",
       "        vertical-align: middle;\n",
       "    }\n",
       "\n",
       "    .dataframe tbody tr th {\n",
       "        vertical-align: top;\n",
       "    }\n",
       "\n",
       "    .dataframe thead th {\n",
       "        text-align: right;\n",
       "    }\n",
       "</style>\n",
       "<table border=\"1\" class=\"dataframe\">\n",
       "  <thead>\n",
       "    <tr style=\"text-align: right;\">\n",
       "      <th></th>\n",
       "      <th>id</th>\n",
       "      <th>pid</th>\n",
       "      <th>ms_subclass</th>\n",
       "      <th>ms_zoning</th>\n",
       "      <th>lot_area</th>\n",
       "      <th>street</th>\n",
       "      <th>lot_shape</th>\n",
       "      <th>land_contour</th>\n",
       "      <th>utilities</th>\n",
       "      <th>lot_config</th>\n",
       "      <th>...</th>\n",
       "      <th>open_porch_sf</th>\n",
       "      <th>enclosed_porch</th>\n",
       "      <th>3ssn_porch</th>\n",
       "      <th>screen_porch</th>\n",
       "      <th>pool_area</th>\n",
       "      <th>misc_val</th>\n",
       "      <th>mo_sold</th>\n",
       "      <th>yr_sold</th>\n",
       "      <th>sale_type</th>\n",
       "      <th>saleprice</th>\n",
       "    </tr>\n",
       "  </thead>\n",
       "  <tbody>\n",
       "    <tr>\n",
       "      <th>0</th>\n",
       "      <td>109</td>\n",
       "      <td>533352170</td>\n",
       "      <td>60</td>\n",
       "      <td>RL</td>\n",
       "      <td>13517</td>\n",
       "      <td>Pave</td>\n",
       "      <td>IR1</td>\n",
       "      <td>Lvl</td>\n",
       "      <td>AllPub</td>\n",
       "      <td>CulDSac</td>\n",
       "      <td>...</td>\n",
       "      <td>44</td>\n",
       "      <td>0</td>\n",
       "      <td>0</td>\n",
       "      <td>0</td>\n",
       "      <td>0</td>\n",
       "      <td>0</td>\n",
       "      <td>3</td>\n",
       "      <td>2010</td>\n",
       "      <td>WD</td>\n",
       "      <td>130500</td>\n",
       "    </tr>\n",
       "    <tr>\n",
       "      <th>1</th>\n",
       "      <td>544</td>\n",
       "      <td>531379050</td>\n",
       "      <td>60</td>\n",
       "      <td>RL</td>\n",
       "      <td>11492</td>\n",
       "      <td>Pave</td>\n",
       "      <td>IR1</td>\n",
       "      <td>Lvl</td>\n",
       "      <td>AllPub</td>\n",
       "      <td>CulDSac</td>\n",
       "      <td>...</td>\n",
       "      <td>74</td>\n",
       "      <td>0</td>\n",
       "      <td>0</td>\n",
       "      <td>0</td>\n",
       "      <td>0</td>\n",
       "      <td>0</td>\n",
       "      <td>4</td>\n",
       "      <td>2009</td>\n",
       "      <td>WD</td>\n",
       "      <td>220000</td>\n",
       "    </tr>\n",
       "    <tr>\n",
       "      <th>2</th>\n",
       "      <td>153</td>\n",
       "      <td>535304180</td>\n",
       "      <td>20</td>\n",
       "      <td>RL</td>\n",
       "      <td>7922</td>\n",
       "      <td>Pave</td>\n",
       "      <td>Reg</td>\n",
       "      <td>Lvl</td>\n",
       "      <td>AllPub</td>\n",
       "      <td>Inside</td>\n",
       "      <td>...</td>\n",
       "      <td>52</td>\n",
       "      <td>0</td>\n",
       "      <td>0</td>\n",
       "      <td>0</td>\n",
       "      <td>0</td>\n",
       "      <td>0</td>\n",
       "      <td>1</td>\n",
       "      <td>2010</td>\n",
       "      <td>WD</td>\n",
       "      <td>109000</td>\n",
       "    </tr>\n",
       "    <tr>\n",
       "      <th>3</th>\n",
       "      <td>318</td>\n",
       "      <td>916386060</td>\n",
       "      <td>60</td>\n",
       "      <td>RL</td>\n",
       "      <td>9802</td>\n",
       "      <td>Pave</td>\n",
       "      <td>Reg</td>\n",
       "      <td>Lvl</td>\n",
       "      <td>AllPub</td>\n",
       "      <td>Inside</td>\n",
       "      <td>...</td>\n",
       "      <td>0</td>\n",
       "      <td>0</td>\n",
       "      <td>0</td>\n",
       "      <td>0</td>\n",
       "      <td>0</td>\n",
       "      <td>0</td>\n",
       "      <td>4</td>\n",
       "      <td>2010</td>\n",
       "      <td>WD</td>\n",
       "      <td>174000</td>\n",
       "    </tr>\n",
       "    <tr>\n",
       "      <th>4</th>\n",
       "      <td>255</td>\n",
       "      <td>906425045</td>\n",
       "      <td>50</td>\n",
       "      <td>RL</td>\n",
       "      <td>14235</td>\n",
       "      <td>Pave</td>\n",
       "      <td>IR1</td>\n",
       "      <td>Lvl</td>\n",
       "      <td>AllPub</td>\n",
       "      <td>Inside</td>\n",
       "      <td>...</td>\n",
       "      <td>59</td>\n",
       "      <td>0</td>\n",
       "      <td>0</td>\n",
       "      <td>0</td>\n",
       "      <td>0</td>\n",
       "      <td>0</td>\n",
       "      <td>3</td>\n",
       "      <td>2010</td>\n",
       "      <td>WD</td>\n",
       "      <td>138500</td>\n",
       "    </tr>\n",
       "    <tr>\n",
       "      <th>...</th>\n",
       "      <td>...</td>\n",
       "      <td>...</td>\n",
       "      <td>...</td>\n",
       "      <td>...</td>\n",
       "      <td>...</td>\n",
       "      <td>...</td>\n",
       "      <td>...</td>\n",
       "      <td>...</td>\n",
       "      <td>...</td>\n",
       "      <td>...</td>\n",
       "      <td>...</td>\n",
       "      <td>...</td>\n",
       "      <td>...</td>\n",
       "      <td>...</td>\n",
       "      <td>...</td>\n",
       "      <td>...</td>\n",
       "      <td>...</td>\n",
       "      <td>...</td>\n",
       "      <td>...</td>\n",
       "      <td>...</td>\n",
       "      <td>...</td>\n",
       "    </tr>\n",
       "    <tr>\n",
       "      <th>2046</th>\n",
       "      <td>1587</td>\n",
       "      <td>921126030</td>\n",
       "      <td>20</td>\n",
       "      <td>RL</td>\n",
       "      <td>11449</td>\n",
       "      <td>Pave</td>\n",
       "      <td>IR1</td>\n",
       "      <td>HLS</td>\n",
       "      <td>AllPub</td>\n",
       "      <td>Inside</td>\n",
       "      <td>...</td>\n",
       "      <td>276</td>\n",
       "      <td>0</td>\n",
       "      <td>0</td>\n",
       "      <td>0</td>\n",
       "      <td>0</td>\n",
       "      <td>0</td>\n",
       "      <td>1</td>\n",
       "      <td>2008</td>\n",
       "      <td>WD</td>\n",
       "      <td>298751</td>\n",
       "    </tr>\n",
       "    <tr>\n",
       "      <th>2047</th>\n",
       "      <td>785</td>\n",
       "      <td>905377130</td>\n",
       "      <td>30</td>\n",
       "      <td>RL</td>\n",
       "      <td>12342</td>\n",
       "      <td>Pave</td>\n",
       "      <td>IR1</td>\n",
       "      <td>Lvl</td>\n",
       "      <td>AllPub</td>\n",
       "      <td>Inside</td>\n",
       "      <td>...</td>\n",
       "      <td>0</td>\n",
       "      <td>0</td>\n",
       "      <td>0</td>\n",
       "      <td>0</td>\n",
       "      <td>0</td>\n",
       "      <td>0</td>\n",
       "      <td>3</td>\n",
       "      <td>2009</td>\n",
       "      <td>WD</td>\n",
       "      <td>82500</td>\n",
       "    </tr>\n",
       "    <tr>\n",
       "      <th>2048</th>\n",
       "      <td>916</td>\n",
       "      <td>909253010</td>\n",
       "      <td>50</td>\n",
       "      <td>RL</td>\n",
       "      <td>7558</td>\n",
       "      <td>Pave</td>\n",
       "      <td>Reg</td>\n",
       "      <td>Bnk</td>\n",
       "      <td>AllPub</td>\n",
       "      <td>Inside</td>\n",
       "      <td>...</td>\n",
       "      <td>0</td>\n",
       "      <td>0</td>\n",
       "      <td>0</td>\n",
       "      <td>0</td>\n",
       "      <td>0</td>\n",
       "      <td>0</td>\n",
       "      <td>3</td>\n",
       "      <td>2009</td>\n",
       "      <td>WD</td>\n",
       "      <td>177000</td>\n",
       "    </tr>\n",
       "    <tr>\n",
       "      <th>2049</th>\n",
       "      <td>639</td>\n",
       "      <td>535179160</td>\n",
       "      <td>20</td>\n",
       "      <td>RL</td>\n",
       "      <td>10400</td>\n",
       "      <td>Pave</td>\n",
       "      <td>Reg</td>\n",
       "      <td>Lvl</td>\n",
       "      <td>AllPub</td>\n",
       "      <td>Corner</td>\n",
       "      <td>...</td>\n",
       "      <td>189</td>\n",
       "      <td>140</td>\n",
       "      <td>0</td>\n",
       "      <td>0</td>\n",
       "      <td>0</td>\n",
       "      <td>0</td>\n",
       "      <td>11</td>\n",
       "      <td>2009</td>\n",
       "      <td>WD</td>\n",
       "      <td>144000</td>\n",
       "    </tr>\n",
       "    <tr>\n",
       "      <th>2050</th>\n",
       "      <td>10</td>\n",
       "      <td>527162130</td>\n",
       "      <td>60</td>\n",
       "      <td>RL</td>\n",
       "      <td>7500</td>\n",
       "      <td>Pave</td>\n",
       "      <td>Reg</td>\n",
       "      <td>Lvl</td>\n",
       "      <td>AllPub</td>\n",
       "      <td>Inside</td>\n",
       "      <td>...</td>\n",
       "      <td>60</td>\n",
       "      <td>0</td>\n",
       "      <td>0</td>\n",
       "      <td>0</td>\n",
       "      <td>0</td>\n",
       "      <td>0</td>\n",
       "      <td>6</td>\n",
       "      <td>2010</td>\n",
       "      <td>WD</td>\n",
       "      <td>189000</td>\n",
       "    </tr>\n",
       "  </tbody>\n",
       "</table>\n",
       "<p>2051 rows × 55 columns</p>\n",
       "</div>"
      ],
      "text/plain": [
       "        id        pid  ms_subclass ms_zoning  lot_area street lot_shape  \\\n",
       "0      109  533352170           60        RL     13517   Pave       IR1   \n",
       "1      544  531379050           60        RL     11492   Pave       IR1   \n",
       "2      153  535304180           20        RL      7922   Pave       Reg   \n",
       "3      318  916386060           60        RL      9802   Pave       Reg   \n",
       "4      255  906425045           50        RL     14235   Pave       IR1   \n",
       "...    ...        ...          ...       ...       ...    ...       ...   \n",
       "2046  1587  921126030           20        RL     11449   Pave       IR1   \n",
       "2047   785  905377130           30        RL     12342   Pave       IR1   \n",
       "2048   916  909253010           50        RL      7558   Pave       Reg   \n",
       "2049   639  535179160           20        RL     10400   Pave       Reg   \n",
       "2050    10  527162130           60        RL      7500   Pave       Reg   \n",
       "\n",
       "     land_contour utilities lot_config  ... open_porch_sf enclosed_porch  \\\n",
       "0             Lvl    AllPub    CulDSac  ...            44              0   \n",
       "1             Lvl    AllPub    CulDSac  ...            74              0   \n",
       "2             Lvl    AllPub     Inside  ...            52              0   \n",
       "3             Lvl    AllPub     Inside  ...             0              0   \n",
       "4             Lvl    AllPub     Inside  ...            59              0   \n",
       "...           ...       ...        ...  ...           ...            ...   \n",
       "2046          HLS    AllPub     Inside  ...           276              0   \n",
       "2047          Lvl    AllPub     Inside  ...             0              0   \n",
       "2048          Bnk    AllPub     Inside  ...             0              0   \n",
       "2049          Lvl    AllPub     Corner  ...           189            140   \n",
       "2050          Lvl    AllPub     Inside  ...            60              0   \n",
       "\n",
       "     3ssn_porch screen_porch pool_area misc_val  mo_sold  yr_sold  sale_type  \\\n",
       "0             0            0         0        0        3     2010        WD    \n",
       "1             0            0         0        0        4     2009        WD    \n",
       "2             0            0         0        0        1     2010        WD    \n",
       "3             0            0         0        0        4     2010        WD    \n",
       "4             0            0         0        0        3     2010        WD    \n",
       "...         ...          ...       ...      ...      ...      ...        ...   \n",
       "2046          0            0         0        0        1     2008        WD    \n",
       "2047          0            0         0        0        3     2009        WD    \n",
       "2048          0            0         0        0        3     2009        WD    \n",
       "2049          0            0         0        0       11     2009        WD    \n",
       "2050          0            0         0        0        6     2010        WD    \n",
       "\n",
       "      saleprice  \n",
       "0        130500  \n",
       "1        220000  \n",
       "2        109000  \n",
       "3        174000  \n",
       "4        138500  \n",
       "...         ...  \n",
       "2046     298751  \n",
       "2047      82500  \n",
       "2048     177000  \n",
       "2049     144000  \n",
       "2050     189000  \n",
       "\n",
       "[2051 rows x 55 columns]"
      ]
     },
     "execution_count": 3,
     "metadata": {},
     "output_type": "execute_result"
    }
   ],
   "source": [
    "df_train = pd.read_csv('../datasets/train_cleaned.csv')\n",
    "df_test = pd.read_csv('../datasets/test_cleaned.csv')\n",
    "df_train"
   ]
  },
  {
   "cell_type": "markdown",
   "id": "cbba1654-7efb-4db0-8aec-19b55f73d920",
   "metadata": {},
   "source": [
    "### Preprocessing & Feature Engineering"
   ]
  },
  {
   "cell_type": "markdown",
   "id": "2b951ca3-c43e-4d69-911c-36b564dc5e13",
   "metadata": {},
   "source": [
    "This iteration seeks to find a balance between the simplicity of the first iteration, and the high-variance second iteration. To do so, we will attempt to remove features that exhibit significant collinearity with other features besides `saleprice`. To identify some of the highest correlation pairs, the top-20 unique pairs by correlation are listed below. This matrix was used to reduced the working dataframe."
   ]
  },
  {
   "cell_type": "code",
   "execution_count": 4,
   "id": "fe3c164b-964a-4ba9-bd13-5b1612d088a5",
   "metadata": {
    "tags": []
   },
   "outputs": [
    {
     "data": {
      "text/plain": [
       "bedroom_abvgr   gr_liv_area       0.507579\n",
       "full_bath       overall_qual      0.515080\n",
       "totrms_abvgrd   full_bath         0.519630\n",
       "saleprice       full_bath         0.537969\n",
       "                year_remod/add    0.550370\n",
       "gr_liv_area     1st_flr_sf        0.562441\n",
       "                overall_qual      0.566701\n",
       "saleprice       year_built        0.571849\n",
       "totrms_abvgrd   2nd_flr_sf        0.575327\n",
       "year_remod/add  overall_qual      0.584654\n",
       "year_built      overall_qual      0.602964\n",
       "half_bath       2nd_flr_sf        0.614656\n",
       "full_bath       gr_liv_area       0.617323\n",
       "saleprice       1st_flr_sf        0.618486\n",
       "year_remod/add  year_built        0.629116\n",
       "gr_liv_area     2nd_flr_sf        0.639092\n",
       "totrms_abvgrd   bedroom_abvgr     0.655439\n",
       "saleprice       gr_liv_area       0.697038\n",
       "                overall_qual      0.800207\n",
       "totrms_abvgrd   gr_liv_area       0.813333\n",
       "dtype: float64"
      ]
     },
     "execution_count": 4,
     "metadata": {},
     "output_type": "execute_result"
    }
   ],
   "source": [
    "# https://www.geeksforgeeks.org/sort-correlation-matrix-in-python/\n",
    "\n",
    "corr_mat = df_train.corr(numeric_only=True)\n",
    "  \n",
    "upper_corr_mat = corr_mat.where(\n",
    "    np.triu(np.ones(corr_mat.shape), k=1).astype(bool))\n",
    "  \n",
    "unique_corr_pairs = upper_corr_mat.unstack().dropna()\n",
    "  \n",
    "sorted_mat = unique_corr_pairs.sort_values()\n",
    "sorted_mat.iloc[-20:]"
   ]
  },
  {
   "cell_type": "markdown",
   "id": "7e59140e-809e-4013-aaef-78da005edde7",
   "metadata": {},
   "source": [
    "Once again, features are grouped by the encoding they require. As you can see, the number of categorical features has been significantly reduced. Several numeric features have also been removed."
   ]
  },
  {
   "cell_type": "code",
   "execution_count": 5,
   "id": "356999e8-19bd-45d3-b811-17d9983088a4",
   "metadata": {
    "tags": []
   },
   "outputs": [],
   "source": [
    "# features to be OneHotEncoded\n",
    "feats_for_ohe = ['street', 'utilities', 'neighborhood',\n",
    "                'central_air','paved_drive',\n",
    "                ]\n",
    "# features to be OrdinalEncoded\n",
    "feats_for_oenc = ['overall_qual', 'overall_cond']"
   ]
  },
  {
   "cell_type": "code",
   "execution_count": 6,
   "id": "c01bfc32-b010-44f6-a5fa-3ee8a43119ac",
   "metadata": {
    "tags": []
   },
   "outputs": [],
   "source": [
    "oenc = OrdinalEncoder(categories = [\n",
    "    [1,2,3,4,5,6,7,8,9,10],\n",
    "    [1,2,3,4,5,6,7,8,9,10]]\n",
    ")"
   ]
  },
  {
   "cell_type": "code",
   "execution_count": 7,
   "id": "59c94be9-be30-4d34-abba-b9d88659b15c",
   "metadata": {
    "tags": []
   },
   "outputs": [
    {
     "data": {
      "text/plain": [
       "((2051, 2), (878, 2))"
      ]
     },
     "execution_count": 7,
     "metadata": {},
     "output_type": "execute_result"
    }
   ],
   "source": [
    "df_train_oenc = oenc.fit_transform(df_train[feats_for_oenc])\n",
    "df_test_oenc = oenc.transform(df_test[feats_for_oenc])\n",
    "\n",
    "df_train_oenc.shape, df_test_oenc.shape"
   ]
  },
  {
   "cell_type": "code",
   "execution_count": 8,
   "id": "bfad4b90-47ee-4658-b703-fceeb1516fe2",
   "metadata": {
    "tags": []
   },
   "outputs": [
    {
     "data": {
      "text/plain": [
       "((2051, 38), (878, 38))"
      ]
     },
     "execution_count": 8,
     "metadata": {},
     "output_type": "execute_result"
    }
   ],
   "source": [
    "ohe = OneHotEncoder(sparse_output=False, handle_unknown='ignore')\n",
    "df_train_ohe = ohe.fit_transform(df_train[feats_for_ohe])\n",
    "df_test_ohe = ohe.transform(df_test[feats_for_ohe])\n",
    "\n",
    "df_train_ohe.shape, df_test_ohe.shape"
   ]
  },
  {
   "cell_type": "code",
   "execution_count": 9,
   "id": "46f3bc3a-674f-4a8e-add3-f4a09aa04a73",
   "metadata": {
    "tags": []
   },
   "outputs": [],
   "source": [
    "df_train_s = df_train.drop(columns = ['land_slope', 'overall_qual', 'overall_cond', 'exter_qual',\n",
    "                            'exter_cond', 'heating_qc', 'kitchen_qual','street', 'utilities', 'lot_config',\n",
    "                            'neighborhood', 'bldg_type', 'low_qual_fin_sf', 'fireplaces',\n",
    "                            'roof_matl', 'exterior_1st', 'heating', 'central_air','paved_drive','pid', \n",
    "                            'ms_subclass', 'ms_zoning','lot_shape', 'land_contour', 'misc_val',\n",
    "                            'condition_1', 'condition_2', 'house_style', 'year_built',\n",
    "                            'roof_style', 'exterior_2nd', 'foundation', 'electrical',\n",
    "                            'totrms_abvgrd', 'functional', 'mo_sold', 'yr_sold', 'sale_type'])\n",
    "\n",
    "df_test_s = df_test.drop(columns = ['land_slope', 'overall_qual', 'overall_cond', 'exter_qual',\n",
    "                            'exter_cond', 'heating_qc', 'kitchen_qual','street', 'utilities', 'lot_config',\n",
    "                            'neighborhood', 'bldg_type', 'low_qual_fin_sf', 'fireplaces',\n",
    "                            'roof_matl', 'exterior_1st', 'heating', 'central_air','paved_drive','pid', \n",
    "                            'ms_subclass', 'ms_zoning', 'lot_shape', 'land_contour', 'misc_val',\n",
    "                            'condition_1', 'condition_2', 'house_style', 'year_built',\n",
    "                            'roof_style', 'exterior_2nd', 'foundation', 'electrical',\n",
    "                            'totrms_abvgrd', 'functional', 'mo_sold', 'yr_sold', 'sale_type'])"
   ]
  },
  {
   "cell_type": "code",
   "execution_count": 10,
   "id": "457b6ae8-3fa3-4e13-9d24-43dbb53f5c48",
   "metadata": {
    "tags": []
   },
   "outputs": [
    {
     "data": {
      "text/plain": [
       "Index(['id', 'lot_area', 'year_remod/add', '1st_flr_sf', '2nd_flr_sf',\n",
       "       'gr_liv_area', 'full_bath', 'half_bath', 'bedroom_abvgr',\n",
       "       'kitchen_abvgr', 'wood_deck_sf', 'open_porch_sf', 'enclosed_porch',\n",
       "       '3ssn_porch', 'screen_porch', 'pool_area', 'saleprice'],\n",
       "      dtype='object')"
      ]
     },
     "execution_count": 10,
     "metadata": {},
     "output_type": "execute_result"
    }
   ],
   "source": [
    "df_train_s.columns"
   ]
  },
  {
   "cell_type": "code",
   "execution_count": 11,
   "id": "a1c8154f-98ea-4158-8c5a-f6864568dc16",
   "metadata": {
    "tags": []
   },
   "outputs": [],
   "source": [
    "df_train_oenc['id'] = df_train['id']\n",
    "df_train_ohe['id'] = df_train['id']\n",
    "\n",
    "df_test_oenc['id'] = df_test['id']\n",
    "df_test_ohe['id'] = df_test['id']"
   ]
  },
  {
   "cell_type": "code",
   "execution_count": 12,
   "id": "5fe9560d-2da2-4f3b-9a0d-53111135d53f",
   "metadata": {
    "tags": []
   },
   "outputs": [],
   "source": [
    "new_df_train = pd.merge(df_train_s, df_train_oenc, how='outer')\n",
    "new_df_train = pd.merge(new_df_train, df_train_ohe, how='outer')\n",
    "\n",
    "new_df_test = pd.merge(df_test_s, df_test_oenc, how='outer')\n",
    "new_df_test = pd.merge(new_df_test, df_test_ohe, how='outer')"
   ]
  },
  {
   "cell_type": "code",
   "execution_count": 13,
   "id": "933aa4a4-0daf-4d98-be6c-3c6a3d7f6cdf",
   "metadata": {
    "tags": []
   },
   "outputs": [
    {
     "data": {
      "text/plain": [
       "((2051, 57), (878, 56))"
      ]
     },
     "execution_count": 13,
     "metadata": {},
     "output_type": "execute_result"
    }
   ],
   "source": [
    "new_df_train.shape, new_df_test.shape"
   ]
  },
  {
   "cell_type": "code",
   "execution_count": 14,
   "id": "11b82862-65f0-4446-aa1c-bc91a57bd968",
   "metadata": {
    "tags": []
   },
   "outputs": [],
   "source": [
    "X = new_df_train.drop(columns = ['saleprice'])\n",
    "y = new_df_train['saleprice']"
   ]
  },
  {
   "cell_type": "code",
   "execution_count": 15,
   "id": "9e646c72-d26a-4dc5-a007-e8a38006f6e4",
   "metadata": {
    "tags": []
   },
   "outputs": [
    {
     "data": {
      "text/plain": [
       "((2051, 56), (2051,), (878, 56))"
      ]
     },
     "execution_count": 15,
     "metadata": {},
     "output_type": "execute_result"
    }
   ],
   "source": [
    "X.shape, y.shape, new_df_test.shape"
   ]
  },
  {
   "cell_type": "code",
   "execution_count": 16,
   "id": "2616500d-758e-4683-b6db-984f41b6b6c5",
   "metadata": {
    "tags": []
   },
   "outputs": [],
   "source": [
    "# The portion of the training data that is being split for model validation is \n",
    "# defined as X_val and y_val to avoid confusion with the test dataset.\n",
    "X_train, X_val, y_train, y_val = train_test_split(\n",
    "    X,\n",
    "    y,\n",
    "    test_size = 0.2,\n",
    "    random_state = 5)"
   ]
  },
  {
   "cell_type": "code",
   "execution_count": 17,
   "id": "003fea2f-993f-4a66-bdca-4a4447ba981e",
   "metadata": {
    "tags": []
   },
   "outputs": [],
   "source": [
    "tr_id = X_train['id']\n",
    "val_id = X_val['id']"
   ]
  },
  {
   "cell_type": "code",
   "execution_count": 18,
   "id": "4e557f7c-fe7a-4c35-ad8d-9574b2d4ab32",
   "metadata": {
    "tags": []
   },
   "outputs": [],
   "source": [
    "poly = PolynomialFeatures(\n",
    "    degree = 2,\n",
    "    interaction_only= True,\n",
    "    include_bias=False)"
   ]
  },
  {
   "cell_type": "code",
   "execution_count": 19,
   "id": "ddb83761-ad56-44d4-aa7f-c11b36275aba",
   "metadata": {
    "tags": []
   },
   "outputs": [],
   "source": [
    "X_train = poly.fit_transform(\n",
    "    X_train.drop(columns = 'id'))\n",
    "\n",
    "X_train = pd.DataFrame(X_train, columns = poly.get_feature_names_out())\n",
    "\n",
    "X_val = pd.DataFrame(\n",
    "    poly.transform(X_val.drop(columns = 'id')),\n",
    "    columns = poly.get_feature_names_out())"
   ]
  },
  {
   "cell_type": "code",
   "execution_count": 20,
   "id": "c57aad70-75b1-45ab-8472-cb0e4ecfc488",
   "metadata": {
    "tags": []
   },
   "outputs": [
    {
     "data": {
      "text/plain": [
       "((1640, 1540), (411, 1540))"
      ]
     },
     "execution_count": 20,
     "metadata": {},
     "output_type": "execute_result"
    }
   ],
   "source": [
    "X_train.shape, X_val.shape"
   ]
  },
  {
   "cell_type": "code",
   "execution_count": 21,
   "id": "496e0035-7ccb-4781-97a4-e7cdf23c5e9d",
   "metadata": {
    "tags": []
   },
   "outputs": [],
   "source": [
    "ss = StandardScaler()\n",
    "\n",
    "Xs_train = ss.fit_transform(X_train)\n",
    "Xs_train = pd.DataFrame(Xs_train, columns = ss.get_feature_names_out())\n",
    "\n",
    "Xs_val = pd.DataFrame(ss.transform(X_val), columns = ss.get_feature_names_out())"
   ]
  },
  {
   "cell_type": "code",
   "execution_count": 22,
   "id": "491cfa02-0337-478f-acb5-dcffd8cbc41c",
   "metadata": {
    "tags": []
   },
   "outputs": [],
   "source": [
    "def model_outputs(model, Xs_train, Xs_val, y_train, y_val):\n",
    "    results_dict = {'Training score': model.score(Xs_train, y_train),\n",
    "    'Testing score': model.score(Xs_val, y_val),\n",
    "    'Training cross-validation score': cross_val_score(model, Xs_train, y_train, cv=5).mean(),\n",
    "    'Testing cross-validation score': cross_val_score(model, Xs_val, y_val, cv=5).mean(),\n",
    "    'Training RMSE score': mean_squared_error(y_train, model.predict(Xs_train), squared = False),\n",
    "    'Testing RMSE score': mean_squared_error(y_val, model.predict(Xs_val), squared = False)\n",
    "    }\n",
    "    \n",
    "    return pd.DataFrame.from_dict(results_dict, orient = 'index', columns = ['score'])"
   ]
  },
  {
   "cell_type": "markdown",
   "id": "27e975f7-953d-4d78-bf67-2a67af0f834f",
   "metadata": {},
   "source": [
    "### Baseline and Linear Models"
   ]
  },
  {
   "cell_type": "code",
   "execution_count": 23,
   "id": "b77567e7-63e7-4b6e-bff0-c7270643d206",
   "metadata": {
    "tags": []
   },
   "outputs": [
    {
     "data": {
      "text/html": [
       "<style>#sk-container-id-1 {color: black;background-color: white;}#sk-container-id-1 pre{padding: 0;}#sk-container-id-1 div.sk-toggleable {background-color: white;}#sk-container-id-1 label.sk-toggleable__label {cursor: pointer;display: block;width: 100%;margin-bottom: 0;padding: 0.3em;box-sizing: border-box;text-align: center;}#sk-container-id-1 label.sk-toggleable__label-arrow:before {content: \"▸\";float: left;margin-right: 0.25em;color: #696969;}#sk-container-id-1 label.sk-toggleable__label-arrow:hover:before {color: black;}#sk-container-id-1 div.sk-estimator:hover label.sk-toggleable__label-arrow:before {color: black;}#sk-container-id-1 div.sk-toggleable__content {max-height: 0;max-width: 0;overflow: hidden;text-align: left;background-color: #f0f8ff;}#sk-container-id-1 div.sk-toggleable__content pre {margin: 0.2em;color: black;border-radius: 0.25em;background-color: #f0f8ff;}#sk-container-id-1 input.sk-toggleable__control:checked~div.sk-toggleable__content {max-height: 200px;max-width: 100%;overflow: auto;}#sk-container-id-1 input.sk-toggleable__control:checked~label.sk-toggleable__label-arrow:before {content: \"▾\";}#sk-container-id-1 div.sk-estimator input.sk-toggleable__control:checked~label.sk-toggleable__label {background-color: #d4ebff;}#sk-container-id-1 div.sk-label input.sk-toggleable__control:checked~label.sk-toggleable__label {background-color: #d4ebff;}#sk-container-id-1 input.sk-hidden--visually {border: 0;clip: rect(1px 1px 1px 1px);clip: rect(1px, 1px, 1px, 1px);height: 1px;margin: -1px;overflow: hidden;padding: 0;position: absolute;width: 1px;}#sk-container-id-1 div.sk-estimator {font-family: monospace;background-color: #f0f8ff;border: 1px dotted black;border-radius: 0.25em;box-sizing: border-box;margin-bottom: 0.5em;}#sk-container-id-1 div.sk-estimator:hover {background-color: #d4ebff;}#sk-container-id-1 div.sk-parallel-item::after {content: \"\";width: 100%;border-bottom: 1px solid gray;flex-grow: 1;}#sk-container-id-1 div.sk-label:hover label.sk-toggleable__label {background-color: #d4ebff;}#sk-container-id-1 div.sk-serial::before {content: \"\";position: absolute;border-left: 1px solid gray;box-sizing: border-box;top: 0;bottom: 0;left: 50%;z-index: 0;}#sk-container-id-1 div.sk-serial {display: flex;flex-direction: column;align-items: center;background-color: white;padding-right: 0.2em;padding-left: 0.2em;position: relative;}#sk-container-id-1 div.sk-item {position: relative;z-index: 1;}#sk-container-id-1 div.sk-parallel {display: flex;align-items: stretch;justify-content: center;background-color: white;position: relative;}#sk-container-id-1 div.sk-item::before, #sk-container-id-1 div.sk-parallel-item::before {content: \"\";position: absolute;border-left: 1px solid gray;box-sizing: border-box;top: 0;bottom: 0;left: 50%;z-index: -1;}#sk-container-id-1 div.sk-parallel-item {display: flex;flex-direction: column;z-index: 1;position: relative;background-color: white;}#sk-container-id-1 div.sk-parallel-item:first-child::after {align-self: flex-end;width: 50%;}#sk-container-id-1 div.sk-parallel-item:last-child::after {align-self: flex-start;width: 50%;}#sk-container-id-1 div.sk-parallel-item:only-child::after {width: 0;}#sk-container-id-1 div.sk-dashed-wrapped {border: 1px dashed gray;margin: 0 0.4em 0.5em 0.4em;box-sizing: border-box;padding-bottom: 0.4em;background-color: white;}#sk-container-id-1 div.sk-label label {font-family: monospace;font-weight: bold;display: inline-block;line-height: 1.2em;}#sk-container-id-1 div.sk-label-container {text-align: center;}#sk-container-id-1 div.sk-container {/* jupyter's `normalize.less` sets `[hidden] { display: none; }` but bootstrap.min.css set `[hidden] { display: none !important; }` so we also need the `!important` here to be able to override the default hidden behavior on the sphinx rendered scikit-learn.org. See: https://github.com/scikit-learn/scikit-learn/issues/21755 */display: inline-block !important;position: relative;}#sk-container-id-1 div.sk-text-repr-fallback {display: none;}</style><div id=\"sk-container-id-1\" class=\"sk-top-container\"><div class=\"sk-text-repr-fallback\"><pre>LinearRegression()</pre><b>In a Jupyter environment, please rerun this cell to show the HTML representation or trust the notebook. <br />On GitHub, the HTML representation is unable to render, please try loading this page with nbviewer.org.</b></div><div class=\"sk-container\" hidden><div class=\"sk-item\"><div class=\"sk-estimator sk-toggleable\"><input class=\"sk-toggleable__control sk-hidden--visually\" id=\"sk-estimator-id-1\" type=\"checkbox\" checked><label for=\"sk-estimator-id-1\" class=\"sk-toggleable__label sk-toggleable__label-arrow\">LinearRegression</label><div class=\"sk-toggleable__content\"><pre>LinearRegression()</pre></div></div></div></div></div>"
      ],
      "text/plain": [
       "LinearRegression()"
      ]
     },
     "execution_count": 23,
     "metadata": {},
     "output_type": "execute_result"
    }
   ],
   "source": [
    "lr = LinearRegression()\n",
    "\n",
    "lr.fit(Xs_train, y_train)"
   ]
  },
  {
   "cell_type": "markdown",
   "id": "4f9262bf-428b-4200-98ef-713113c7a195",
   "metadata": {},
   "source": [
    "#### Baseline Model"
   ]
  },
  {
   "cell_type": "code",
   "execution_count": 24,
   "id": "ac06471f-4ce7-4222-9abf-1d1cebc508c1",
   "metadata": {},
   "outputs": [
    {
     "name": "stdout",
     "output_type": "stream",
     "text": [
      "Baseline score: -1.7871906177109264e+30\n"
     ]
    }
   ],
   "source": [
    "y_base = np.array([np.mean(y_train)] * len(y_train)).reshape(-1, 1)\n",
    "print(f\"Baseline score: {lr.score(Xs_train, y_base)}\")"
   ]
  },
  {
   "cell_type": "markdown",
   "id": "307ae1fc-7a72-4110-8c2b-05cfcfaf7a8a",
   "metadata": {},
   "source": [
    "#### Linear Model"
   ]
  },
  {
   "cell_type": "code",
   "execution_count": 25,
   "id": "1f1fe57e-9e19-41be-b183-07d58acff769",
   "metadata": {
    "tags": []
   },
   "outputs": [
    {
     "data": {
      "text/html": [
       "<div>\n",
       "<style scoped>\n",
       "    .dataframe tbody tr th:only-of-type {\n",
       "        vertical-align: middle;\n",
       "    }\n",
       "\n",
       "    .dataframe tbody tr th {\n",
       "        vertical-align: top;\n",
       "    }\n",
       "\n",
       "    .dataframe thead th {\n",
       "        text-align: right;\n",
       "    }\n",
       "</style>\n",
       "<table border=\"1\" class=\"dataframe\">\n",
       "  <thead>\n",
       "    <tr style=\"text-align: right;\">\n",
       "      <th></th>\n",
       "      <th>score</th>\n",
       "    </tr>\n",
       "  </thead>\n",
       "  <tbody>\n",
       "    <tr>\n",
       "      <th>Training score</th>\n",
       "      <td>9.574530e-01</td>\n",
       "    </tr>\n",
       "    <tr>\n",
       "      <th>Testing score</th>\n",
       "      <td>-3.772380e+26</td>\n",
       "    </tr>\n",
       "    <tr>\n",
       "      <th>Training cross-validation score</th>\n",
       "      <td>-2.069389e+25</td>\n",
       "    </tr>\n",
       "    <tr>\n",
       "      <th>Testing cross-validation score</th>\n",
       "      <td>-1.545988e+05</td>\n",
       "    </tr>\n",
       "    <tr>\n",
       "      <th>Training RMSE score</th>\n",
       "      <td>1.620890e+04</td>\n",
       "    </tr>\n",
       "    <tr>\n",
       "      <th>Testing RMSE score</th>\n",
       "      <td>1.581407e+18</td>\n",
       "    </tr>\n",
       "  </tbody>\n",
       "</table>\n",
       "</div>"
      ],
      "text/plain": [
       "                                        score\n",
       "Training score                   9.574530e-01\n",
       "Testing score                   -3.772380e+26\n",
       "Training cross-validation score -2.069389e+25\n",
       "Testing cross-validation score  -1.545988e+05\n",
       "Training RMSE score              1.620890e+04\n",
       "Testing RMSE score               1.581407e+18"
      ]
     },
     "execution_count": 25,
     "metadata": {},
     "output_type": "execute_result"
    }
   ],
   "source": [
    "model_outputs(lr, Xs_train, Xs_val, y_train, y_val)"
   ]
  },
  {
   "cell_type": "markdown",
   "id": "e84c1411-03f2-4b3d-9417-966ef6a6902f",
   "metadata": {},
   "source": [
    "Once again, the linear model is not suited for this data, so no further analysis will be done using the model."
   ]
  },
  {
   "cell_type": "markdown",
   "id": "a739aff9-2149-4b3d-9ae6-657d625fb39d",
   "metadata": {},
   "source": [
    "### Ridge Model"
   ]
  },
  {
   "cell_type": "code",
   "execution_count": 26,
   "id": "0d71da69-e029-455d-9a79-1363b77f5a85",
   "metadata": {
    "tags": []
   },
   "outputs": [],
   "source": [
    "ridge = RidgeCV(alphas = np.logspace(0,5, 100))"
   ]
  },
  {
   "cell_type": "code",
   "execution_count": 27,
   "id": "a362c19b-d6ff-4efd-989d-32b07fe3d60f",
   "metadata": {
    "tags": []
   },
   "outputs": [],
   "source": [
    "ridge.fit(Xs_train, y_train);"
   ]
  },
  {
   "cell_type": "code",
   "execution_count": 28,
   "id": "23c634c0-66a6-4416-ae5f-5e343c20de66",
   "metadata": {
    "tags": []
   },
   "outputs": [
    {
     "data": {
      "text/html": [
       "<div>\n",
       "<style scoped>\n",
       "    .dataframe tbody tr th:only-of-type {\n",
       "        vertical-align: middle;\n",
       "    }\n",
       "\n",
       "    .dataframe tbody tr th {\n",
       "        vertical-align: top;\n",
       "    }\n",
       "\n",
       "    .dataframe thead th {\n",
       "        text-align: right;\n",
       "    }\n",
       "</style>\n",
       "<table border=\"1\" class=\"dataframe\">\n",
       "  <thead>\n",
       "    <tr style=\"text-align: right;\">\n",
       "      <th></th>\n",
       "      <th>score</th>\n",
       "    </tr>\n",
       "  </thead>\n",
       "  <tbody>\n",
       "    <tr>\n",
       "      <th>Training score</th>\n",
       "      <td>0.919166</td>\n",
       "    </tr>\n",
       "    <tr>\n",
       "      <th>Testing score</th>\n",
       "      <td>0.836981</td>\n",
       "    </tr>\n",
       "    <tr>\n",
       "      <th>Training cross-validation score</th>\n",
       "      <td>0.838692</td>\n",
       "    </tr>\n",
       "    <tr>\n",
       "      <th>Testing cross-validation score</th>\n",
       "      <td>0.807844</td>\n",
       "    </tr>\n",
       "    <tr>\n",
       "      <th>Training RMSE score</th>\n",
       "      <td>22341.661149</td>\n",
       "    </tr>\n",
       "    <tr>\n",
       "      <th>Testing RMSE score</th>\n",
       "      <td>32874.152729</td>\n",
       "    </tr>\n",
       "  </tbody>\n",
       "</table>\n",
       "</div>"
      ],
      "text/plain": [
       "                                        score\n",
       "Training score                       0.919166\n",
       "Testing score                        0.836981\n",
       "Training cross-validation score      0.838692\n",
       "Testing cross-validation score       0.807844\n",
       "Training RMSE score              22341.661149\n",
       "Testing RMSE score               32874.152729"
      ]
     },
     "execution_count": 28,
     "metadata": {},
     "output_type": "execute_result"
    }
   ],
   "source": [
    "model_outputs(ridge, Xs_train, Xs_val, y_train, y_val)"
   ]
  },
  {
   "cell_type": "markdown",
   "id": "71192d2d-3e33-47cf-8e57-10f0976c300f",
   "metadata": {},
   "source": [
    "The Ridge model, which has been the most promising so far, does perform well once again. The model received a training score over 91%, comparable 5-fold cross-validation scores for the training data and test data, and moderately low RMSE scores. However, the model does appear to perform worse overall than the Ridge model of the second iteration."
   ]
  },
  {
   "cell_type": "code",
   "execution_count": 29,
   "id": "22144c59-cd5a-4f58-93bc-e3b01572a156",
   "metadata": {
    "tags": []
   },
   "outputs": [
    {
     "data": {
      "text/plain": [
       "475.0810162102798"
      ]
     },
     "execution_count": 29,
     "metadata": {},
     "output_type": "execute_result"
    }
   ],
   "source": [
    "ridge.alpha_"
   ]
  },
  {
   "cell_type": "code",
   "execution_count": 30,
   "id": "0c45b44f-a095-40c2-882e-9e496126ae43",
   "metadata": {
    "tags": []
   },
   "outputs": [
    {
     "data": {
      "text/plain": [
       "''"
      ]
     },
     "execution_count": 30,
     "metadata": {},
     "output_type": "execute_result"
    },
    {
     "data": {
      "image/png": "[encoded data removed]",
      "text/plain": [
       "<Figure size 500x500 with 1 Axes>"
      ]
     },
     "metadata": {},
     "output_type": "display_data"
    }
   ],
   "source": [
    "ridge_pred = ridge.predict(Xs_val)\n",
    "\n",
    "ridge_resid = y_val - ridge_pred\n",
    "\n",
    "fig, ax = plt.subplots()\n",
    "fig.set_size_inches(5, 5)\n",
    "\n",
    "ax.scatter(ridge_pred, y_val, s=3)\n",
    "ax.set_title('Actual Price vs Ridge-Predicted Price')\n",
    "ax.set_xlabel('Ridge-Predicted Sale Price')\n",
    "ax.set_ylabel('Actual Sale Price')\n",
    ";"
   ]
  },
  {
   "cell_type": "code",
   "execution_count": 31,
   "id": "3477b182-6cc6-414b-85b0-262f8a1bd3a8",
   "metadata": {
    "tags": []
   },
   "outputs": [
    {
     "data": {
      "image/png": "[encoded data removed]",
      "text/plain": [
       "<Figure size 500x500 with 1 Axes>"
      ]
     },
     "metadata": {},
     "output_type": "display_data"
    }
   ],
   "source": [
    "sns.displot(data=ridge_resid, bins=15).set(title='Distribution of Ridge Residuals');"
   ]
  },
  {
   "cell_type": "markdown",
   "id": "745dee63-ec15-43b4-a2cb-011d98631167",
   "metadata": {},
   "source": [
    "### Lasso Model"
   ]
  },
  {
   "cell_type": "code",
   "execution_count": 32,
   "id": "ed859f47-fefc-4c79-a59c-37c40955f93b",
   "metadata": {
    "tags": []
   },
   "outputs": [],
   "source": [
    "lasso = LassoCV(alphas = np.arange(0.001, 10, 1))"
   ]
  },
  {
   "cell_type": "code",
   "execution_count": 33,
   "id": "7b58ac89-b65c-4ada-bd71-1d705e45686a",
   "metadata": {
    "tags": []
   },
   "outputs": [],
   "source": [
    "with warnings.catch_warnings():\n",
    "    warnings.simplefilter('ignore')\n",
    "    lasso.fit(Xs_train, y_train)"
   ]
  },
  {
   "cell_type": "code",
   "execution_count": 34,
   "id": "184e5895-0284-44ed-90a5-f2d300d32a01",
   "metadata": {
    "tags": []
   },
   "outputs": [
    {
     "name": "stdout",
     "output_type": "stream",
     "text": [
      "                                        score\n",
      "Training score                       0.954956\n",
      "Testing score                        0.787468\n",
      "Training cross-validation score      0.731058\n",
      "Testing cross-validation score      -0.026278\n",
      "Training RMSE score              16677.753397\n",
      "Testing RMSE score               37536.038756\n"
     ]
    }
   ],
   "source": [
    "with warnings.catch_warnings():\n",
    "    warnings.simplefilter('ignore')\n",
    "    print(model_outputs(lasso, Xs_train, Xs_val, y_train, y_val))"
   ]
  },
  {
   "cell_type": "markdown",
   "id": "3b3bf321-ef2e-4bf8-b097-773df43320ce",
   "metadata": {},
   "source": [
    "The Lasso model of the third iteration is once more clearly overfit. The model performs very well on the training data, however there is high variance. Furthermore, the 5-fold cross-validation score of the testing data is miniscule and negative, proving that the Lasso model does not generalize well at all."
   ]
  },
  {
   "cell_type": "code",
   "execution_count": 35,
   "id": "33a7f104-b717-45e3-857e-7c9ac2731fa0",
   "metadata": {
    "tags": []
   },
   "outputs": [
    {
     "data": {
      "text/plain": [
       "7.0009999999999994"
      ]
     },
     "execution_count": 35,
     "metadata": {},
     "output_type": "execute_result"
    }
   ],
   "source": [
    "lasso.alpha_"
   ]
  },
  {
   "cell_type": "code",
   "execution_count": 36,
   "id": "af034eb2-b092-4658-bc35-bd5e98b22d22",
   "metadata": {
    "tags": []
   },
   "outputs": [
    {
     "data": {
      "text/plain": [
       "''"
      ]
     },
     "execution_count": 36,
     "metadata": {},
     "output_type": "execute_result"
    },
    {
     "data": {
      "image/png": "[encoded data removed]",
      "text/plain": [
       "<Figure size 500x500 with 1 Axes>"
      ]
     },
     "metadata": {},
     "output_type": "display_data"
    }
   ],
   "source": [
    "lasso_pred = lasso.predict(Xs_val)\n",
    "\n",
    "lasso_resid = y_val - lasso_pred\n",
    "\n",
    "fig, ax = plt.subplots()\n",
    "fig.set_size_inches(5, 5)\n",
    "\n",
    "ax.scatter(lasso_pred, y_val, s=3)\n",
    "ax.set_title('Actual Price vs Lasso-Predicted Price')\n",
    "ax.set_xlabel('Lasso-Predicted Sale Price')\n",
    "ax.set_ylabel('Actual Sale Price')\n",
    ";"
   ]
  },
  {
   "cell_type": "code",
   "execution_count": 37,
   "id": "5f463de1-2d92-4c37-b066-6257e0c9ec76",
   "metadata": {
    "tags": []
   },
   "outputs": [
    {
     "data": {
      "image/png": "[encoded data removed]",
      "text/plain": [
       "<Figure size 500x500 with 1 Axes>"
      ]
     },
     "metadata": {},
     "output_type": "display_data"
    }
   ],
   "source": [
    "sns.displot(data=lasso_resid, bins=15).set(title='Distribution of Lasso Residuals');"
   ]
  },
  {
   "cell_type": "markdown",
   "id": "81bfbb98-82bf-46bf-8a97-483daa288b21",
   "metadata": {},
   "source": [
    "### ElasticNet Model"
   ]
  },
  {
   "cell_type": "code",
   "execution_count": 38,
   "id": "c26ebc9b-4973-403e-a161-8d82dc8adb15",
   "metadata": {},
   "outputs": [],
   "source": [
    "enet = ElasticNetCV(\n",
    "    l1_ratio=0.3, \n",
    "    alphas = np.arange(0.006, 0.01, 0.001))"
   ]
  },
  {
   "cell_type": "code",
   "execution_count": 39,
   "id": "0950f78d-7e33-43d2-b325-1b30fb0fabe1",
   "metadata": {
    "tags": []
   },
   "outputs": [],
   "source": [
    "with warnings.catch_warnings():\n",
    "    warnings.simplefilter('ignore')\n",
    "    enet.fit(Xs_train, y_train)"
   ]
  },
  {
   "cell_type": "code",
   "execution_count": 40,
   "id": "2eb42753-04ef-49a5-9ab9-292f4e9d716f",
   "metadata": {
    "tags": []
   },
   "outputs": [
    {
     "name": "stdout",
     "output_type": "stream",
     "text": [
      "                                        score\n",
      "Training score                       0.952090\n",
      "Testing score                        0.800054\n",
      "Training cross-validation score      0.756036\n",
      "Testing cross-validation score       0.523634\n",
      "Training RMSE score              17200.063052\n",
      "Testing RMSE score               36407.596957\n"
     ]
    }
   ],
   "source": [
    "with warnings.catch_warnings():\n",
    "    warnings.simplefilter('ignore')\n",
    "    print(model_outputs(enet, Xs_train, Xs_val, y_train, y_val))"
   ]
  },
  {
   "cell_type": "markdown",
   "id": "9b3ee93a-33a7-44af-bc47-8a99c3ffd42d",
   "metadata": {},
   "source": [
    "Again, the ElasticNet model performs very well on the training data, but it is extremely high-variance and overfit. The model does not generalize well to new data."
   ]
  },
  {
   "cell_type": "code",
   "execution_count": 41,
   "id": "ead409f1-fc4c-4317-be72-2dd0def6b1b8",
   "metadata": {
    "tags": []
   },
   "outputs": [
    {
     "data": {
      "text/plain": [
       "0.007"
      ]
     },
     "execution_count": 41,
     "metadata": {},
     "output_type": "execute_result"
    }
   ],
   "source": [
    "enet.alpha_"
   ]
  },
  {
   "cell_type": "code",
   "execution_count": 42,
   "id": "11a5129a-8161-4e09-ae8a-54bfe0eee59f",
   "metadata": {
    "tags": []
   },
   "outputs": [
    {
     "data": {
      "text/plain": [
       "''"
      ]
     },
     "execution_count": 42,
     "metadata": {},
     "output_type": "execute_result"
    },
    {
     "data": {
      "image/png": "[encoded data removed]",
      "text/plain": [
       "<Figure size 500x500 with 1 Axes>"
      ]
     },
     "metadata": {},
     "output_type": "display_data"
    }
   ],
   "source": [
    "enet_pred = enet.predict(Xs_val)\n",
    "\n",
    "enet_resid = y_val - enet_pred\n",
    "\n",
    "fig, ax = plt.subplots()\n",
    "fig.set_size_inches(5, 5)\n",
    "\n",
    "ax.scatter(enet_pred, y_val, s=3)\n",
    "ax.set_title('Actual Price vs ENet-Predicted Price')\n",
    "ax.set_xlabel('ENet--Predicted Sale Price')\n",
    "ax.set_ylabel('Actual Sale Price')\n",
    ";"
   ]
  },
  {
   "cell_type": "code",
   "execution_count": 43,
   "id": "599612d3-17f0-47cf-8c57-2bc629ed77c7",
   "metadata": {
    "tags": []
   },
   "outputs": [
    {
     "data": {
      "image/png": "[encoded data removed]",
      "text/plain": [
       "<Figure size 500x500 with 1 Axes>"
      ]
     },
     "metadata": {},
     "output_type": "display_data"
    }
   ],
   "source": [
    "sns.displot(data=enet_resid, bins=15).set(title='Distribution of ENet Residuals');"
   ]
  },
  {
   "cell_type": "markdown",
   "id": "2f6aa122-fd37-49a2-bfaa-1fbad86f5531",
   "metadata": {},
   "source": [
    "### Predictions"
   ]
  },
  {
   "cell_type": "code",
   "execution_count": 44,
   "id": "f50afa41-6c27-4e80-ba63-13068803282f",
   "metadata": {
    "tags": []
   },
   "outputs": [
    {
     "data": {
      "text/html": [
       "<div>\n",
       "<style scoped>\n",
       "    .dataframe tbody tr th:only-of-type {\n",
       "        vertical-align: middle;\n",
       "    }\n",
       "\n",
       "    .dataframe tbody tr th {\n",
       "        vertical-align: top;\n",
       "    }\n",
       "\n",
       "    .dataframe thead th {\n",
       "        text-align: right;\n",
       "    }\n",
       "</style>\n",
       "<table border=\"1\" class=\"dataframe\">\n",
       "  <thead>\n",
       "    <tr style=\"text-align: right;\">\n",
       "      <th></th>\n",
       "      <th>id</th>\n",
       "      <th>pid</th>\n",
       "      <th>ms_subclass</th>\n",
       "      <th>ms_zoning</th>\n",
       "      <th>lot_area</th>\n",
       "      <th>street</th>\n",
       "      <th>lot_shape</th>\n",
       "      <th>land_contour</th>\n",
       "      <th>utilities</th>\n",
       "      <th>lot_config</th>\n",
       "      <th>...</th>\n",
       "      <th>wood_deck_sf</th>\n",
       "      <th>open_porch_sf</th>\n",
       "      <th>enclosed_porch</th>\n",
       "      <th>3ssn_porch</th>\n",
       "      <th>screen_porch</th>\n",
       "      <th>pool_area</th>\n",
       "      <th>misc_val</th>\n",
       "      <th>mo_sold</th>\n",
       "      <th>yr_sold</th>\n",
       "      <th>sale_type</th>\n",
       "    </tr>\n",
       "  </thead>\n",
       "  <tbody>\n",
       "    <tr>\n",
       "      <th>0</th>\n",
       "      <td>2658</td>\n",
       "      <td>902301120</td>\n",
       "      <td>190</td>\n",
       "      <td>RM</td>\n",
       "      <td>9142</td>\n",
       "      <td>Pave</td>\n",
       "      <td>Reg</td>\n",
       "      <td>Lvl</td>\n",
       "      <td>AllPub</td>\n",
       "      <td>Inside</td>\n",
       "      <td>...</td>\n",
       "      <td>0</td>\n",
       "      <td>60</td>\n",
       "      <td>112</td>\n",
       "      <td>0</td>\n",
       "      <td>0</td>\n",
       "      <td>0</td>\n",
       "      <td>0</td>\n",
       "      <td>4</td>\n",
       "      <td>2006</td>\n",
       "      <td>WD</td>\n",
       "    </tr>\n",
       "  </tbody>\n",
       "</table>\n",
       "<p>1 rows × 54 columns</p>\n",
       "</div>"
      ],
      "text/plain": [
       "     id        pid  ms_subclass ms_zoning  lot_area street lot_shape  \\\n",
       "0  2658  902301120          190        RM      9142   Pave       Reg   \n",
       "\n",
       "  land_contour utilities lot_config  ... wood_deck_sf open_porch_sf  \\\n",
       "0          Lvl    AllPub     Inside  ...            0            60   \n",
       "\n",
       "  enclosed_porch 3ssn_porch screen_porch pool_area  misc_val  mo_sold  \\\n",
       "0            112          0            0         0         0        4   \n",
       "\n",
       "   yr_sold  sale_type  \n",
       "0     2006        WD   \n",
       "\n",
       "[1 rows x 54 columns]"
      ]
     },
     "execution_count": 44,
     "metadata": {},
     "output_type": "execute_result"
    }
   ],
   "source": [
    "df_test.head(1)"
   ]
  },
  {
   "cell_type": "code",
   "execution_count": 45,
   "id": "8949254a-6e02-4f28-bd65-3dc7128a6b97",
   "metadata": {
    "tags": []
   },
   "outputs": [],
   "source": [
    "test_id = new_df_test['id']"
   ]
  },
  {
   "cell_type": "code",
   "execution_count": 46,
   "id": "343d173f-42f8-4059-9b05-3652f8263db2",
   "metadata": {
    "tags": []
   },
   "outputs": [],
   "source": [
    "new_df_test = poly.transform(new_df_test.drop(columns ='id'))"
   ]
  },
  {
   "cell_type": "code",
   "execution_count": 47,
   "id": "7cefdfa8-9785-447a-a11c-4fb4a9fe2774",
   "metadata": {
    "tags": []
   },
   "outputs": [],
   "source": [
    "ridge_sub = Ridge(alpha = ridge.alpha_)"
   ]
  },
  {
   "cell_type": "code",
   "execution_count": 48,
   "id": "8153ec74-411d-4568-9a74-3cd7e2807c3e",
   "metadata": {
    "tags": []
   },
   "outputs": [],
   "source": [
    "with warnings.catch_warnings():\n",
    "    warnings.simplefilter('ignore')\n",
    "\n",
    "    # preprocessed with standard scalar\n",
    "    Xs_test = pd.DataFrame(\n",
    "        ss.transform(new_df_test),\n",
    "        columns = poly.get_feature_names_out()\n",
    "    )"
   ]
  },
  {
   "cell_type": "code",
   "execution_count": 49,
   "id": "243c919f-ffeb-46a1-9179-cd21b607a967",
   "metadata": {
    "tags": []
   },
   "outputs": [],
   "source": [
    "with warnings.catch_warnings():\n",
    "    warnings.simplefilter('ignore')\n",
    "    #fit\n",
    "    ridge_sub.fit(Xs_train, y_train)"
   ]
  },
  {
   "cell_type": "code",
   "execution_count": 50,
   "id": "03f431ff-018c-44ca-a19a-4d58ac0a7052",
   "metadata": {
    "tags": []
   },
   "outputs": [],
   "source": [
    "preds = ridge_sub.predict(Xs_test)"
   ]
  },
  {
   "cell_type": "code",
   "execution_count": 51,
   "id": "60f5e83e-3dd9-4898-9fa2-6309231f9a43",
   "metadata": {
    "tags": []
   },
   "outputs": [],
   "source": [
    "preds = pd.DataFrame({'Id': test_id, 'Saleprice': preds})"
   ]
  },
  {
   "cell_type": "code",
   "execution_count": 52,
   "id": "da6f3927-535e-4cd6-b458-819caf6f2fde",
   "metadata": {
    "tags": []
   },
   "outputs": [
    {
     "data": {
      "text/html": [
       "<div>\n",
       "<style scoped>\n",
       "    .dataframe tbody tr th:only-of-type {\n",
       "        vertical-align: middle;\n",
       "    }\n",
       "\n",
       "    .dataframe tbody tr th {\n",
       "        vertical-align: top;\n",
       "    }\n",
       "\n",
       "    .dataframe thead th {\n",
       "        text-align: right;\n",
       "    }\n",
       "</style>\n",
       "<table border=\"1\" class=\"dataframe\">\n",
       "  <thead>\n",
       "    <tr style=\"text-align: right;\">\n",
       "      <th></th>\n",
       "      <th>Id</th>\n",
       "      <th>Saleprice</th>\n",
       "    </tr>\n",
       "  </thead>\n",
       "  <tbody>\n",
       "    <tr>\n",
       "      <th>0</th>\n",
       "      <td>2658</td>\n",
       "      <td>122375.905423</td>\n",
       "    </tr>\n",
       "    <tr>\n",
       "      <th>1</th>\n",
       "      <td>2718</td>\n",
       "      <td>160698.854622</td>\n",
       "    </tr>\n",
       "    <tr>\n",
       "      <th>2</th>\n",
       "      <td>2414</td>\n",
       "      <td>187673.527535</td>\n",
       "    </tr>\n",
       "    <tr>\n",
       "      <th>3</th>\n",
       "      <td>1989</td>\n",
       "      <td>107642.094550</td>\n",
       "    </tr>\n",
       "    <tr>\n",
       "      <th>4</th>\n",
       "      <td>625</td>\n",
       "      <td>167479.951454</td>\n",
       "    </tr>\n",
       "  </tbody>\n",
       "</table>\n",
       "</div>"
      ],
      "text/plain": [
       "     Id      Saleprice\n",
       "0  2658  122375.905423\n",
       "1  2718  160698.854622\n",
       "2  2414  187673.527535\n",
       "3  1989  107642.094550\n",
       "4   625  167479.951454"
      ]
     },
     "execution_count": 52,
     "metadata": {},
     "output_type": "execute_result"
    }
   ],
   "source": [
    "preds.head()"
   ]
  },
  {
   "cell_type": "code",
   "execution_count": 53,
   "id": "12cfb225-ee52-46bf-9f18-d9d673f8c1c4",
   "metadata": {
    "tags": []
   },
   "outputs": [],
   "source": [
    "preds.to_csv('../prediction_results/ridge_3_medium.csv', index=False)"
   ]
  }
 ],
 "metadata": {
  "kernelspec": {
   "display_name": "Python 3 (ipykernel)",
   "language": "python",
   "name": "python3"
  },
  "language_info": {
   "codemirror_mode": {
    "name": "ipython",
    "version": 3
   },
   "file_extension": ".py",
   "mimetype": "text/x-python",
   "name": "python",
   "nbconvert_exporter": "python",
   "pygments_lexer": "ipython3",
   "version": "3.10.7"
  }
 },
 "nbformat": 4,
 "nbformat_minor": 5
}
