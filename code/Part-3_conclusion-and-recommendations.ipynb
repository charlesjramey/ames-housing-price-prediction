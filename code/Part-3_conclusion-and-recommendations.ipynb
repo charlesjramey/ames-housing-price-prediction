{
 "cells": [
  {
   "cell_type": "markdown",
   "id": "c25a6f6a-543b-4815-8630-6a2b39f5aae4",
   "metadata": {},
   "source": [
    "# Project 2: Ames Housing Data and Kaggle Challenge\n",
    "\n",
    "## Part III - Conclusion and Recommendations\n",
    "\n",
    "Author: Charles Ramey\n",
    "\n",
    "Date: 03/19/2023\n",
    "\n",
    "---"
   ]
  },
  {
   "cell_type": "markdown",
   "id": "c02ef768-4184-4547-9d29-58ce950af1cd",
   "metadata": {
    "tags": []
   },
   "source": [
    "#### Links\n",
    "\n",
    "For modeling, see the following notebooks:\n",
    "- [`Part-2.1_model-iteration-1.ipynb`](../code/Part-2.1_model-iteration-1.ipynb)\n",
    "- [`Part-2.2_model-iteration-2.ipynb`](../code/Part-2.2_model-iteration-2.ipynb)\n",
    "- [`Part-2.3_model-iteration-3.ipynb`](../code/Part-2.3_model-iteration-3.ipynb)\n"
   ]
  },
  {
   "cell_type": "markdown",
   "id": "7d040d18-020a-441a-8af1-e810b64d0bd4",
   "metadata": {},
   "source": [
    "## Conclusion and Recommendations"
   ]
  },
  {
   "cell_type": "markdown",
   "id": "eecab744-fde6-4418-85ec-354ec6cd53d7",
   "metadata": {},
   "source": [
    "The conclusion of this report is that a Ridge model would perform best when predicting housing sale prices based on the given characteristics; however, the models contained herein should not be used for determining an accurate market value for a potential home listing. With even the best model's error falling between $21,000-31,000, the model is likely to predict home values that deviate greater than 10-15% from the average home value. With such a large window of error, a market value established using the best Ridge model would likely mislead home sellers and their agents, causing them to potentially set the starting asking price too high or too low.\n",
    "\n",
    "Using machine learning to help real estate agents accurately determine market value does have promise, and the benefit of being able to value a home that does not have comparable sales cannot be understated. Yet, greater refinement of the models would be necessary to achieve a confidence level high enough for real estate agents to deviate from the traditional CMA approach. Some recommendations to improve the models and the interpretation thereof include:\n",
    "- Performing a deeper, more methodical cleaning of the available data to remove outliers and impute missing values where reasonable.\n",
    "- Using a different k-value for cross-validation. This project used a k-value of 5 across the board to maintain consistency, though 10 is another common k-value for cross-validation.\n",
    "- Collecting more data to train the model on, including more recent data as well as housing data outside of Ames, IA.\n",
    "- Including sale data (month/season) in the model data. This project did not look seasonal relationships to sale price, though time of year is a commonly regarded factor that impacts the value of a home."
   ]
  },
  {
   "cell_type": "code",
   "execution_count": null,
   "id": "6ec183c0-0226-4fa4-99ba-a4a89e93e622",
   "metadata": {},
   "outputs": [],
   "source": []
  }
 ],
 "metadata": {
  "kernelspec": {
   "display_name": "Python 3 (ipykernel)",
   "language": "python",
   "name": "python3"
  },
  "language_info": {
   "codemirror_mode": {
    "name": "ipython",
    "version": 3
   },
   "file_extension": ".py",
   "mimetype": "text/x-python",
   "name": "python",
   "nbconvert_exporter": "python",
   "pygments_lexer": "ipython3",
   "version": "3.10.7"
  }
 },
 "nbformat": 4,
 "nbformat_minor": 5
}
