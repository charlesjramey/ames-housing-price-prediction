{
 "cells": [
  {
   "cell_type": "markdown",
   "id": "a7a73bfa-6f77-4c06-a275-9ab8c592df19",
   "metadata": {},
   "source": [
    "# Project 2: Ames Housing Data and Kaggle Challenge\n",
    "\n",
    "## Part I - Problem Setup and Data Cleaning\n",
    "\n",
    "Author: Charles Ramey\n",
    "\n",
    "Date: 03/19/2023\n",
    "\n",
    "---"
   ]
  },
  {
   "cell_type": "markdown",
   "id": "3493678f-85b0-4693-853a-a9aed79cacda",
   "metadata": {},
   "source": [
    "## Problem Statement\n",
    "\n",
    "For home sellers and their real estate agents, setting the initial asking price for a home is often one of the most difficult stages of the selling process. There are several tools for establishing a market value for the home, and once it is established, sellers and their agent may choose to price the home above or below that market value for various reasons, often strategic. Choosing and implementing a pricing strategy that will maximize the value sellers get for their home begins by setting an accurate market value. This project aims to use machine learning and the comprehensive Ames housing dataset to create a general model for predicting the sale value of a home, and give home sellers and their agents a reasonable baseline for dictating the initial asking price."
   ]
  },
  {
   "cell_type": "markdown",
   "id": "09514279-a8a2-4c17-98bf-999de9576681",
   "metadata": {},
   "source": [
    "#### Links\n",
    "\n",
    "For modeling, see the following notebooks:\n",
    "- [`Part-2.1_model-iteration-1.ipynb`](../code/Part-2.1_model-iteration-1.ipynb)\n",
    "- [`Part-2.2_model-iteration-2.ipynb`](../code/Part-2.2_model-iteration-2.ipynb)\n",
    "- [`Part-2.3_model-iteration-3.ipynb`](../code/Part-2.3_model-iteration-3.ipynb)\n",
    "\n",
    "To see the conclusions and recommendations of this project, see the following notebook:\n",
    "- [`Part-3_conclusion-and-recommendations.ipynb`](../code/Part-3_conclusion-and-recommendations.ipynb)"
   ]
  },
  {
   "cell_type": "markdown",
   "id": "0e1db3b3-860b-4947-ad16-04097ac5d4eb",
   "metadata": {},
   "source": [
    "### Contents\n",
    "\n",
    "- [Background](#Background)\n",
    "- [Data Import & Cleaning](#Data-Import-and-Cleaning)\n",
    "- [Exploratory Data Analysis (EDA)](#Exploratory-Data-Analysis-(EDA))\n",
    "- [Sources](#Sources)"
   ]
  },
  {
   "cell_type": "markdown",
   "id": "43b7a556-b48e-40dc-9a2e-2d8a1ea6dd42",
   "metadata": {},
   "source": [
    "## Background\n",
    "\n",
    "There are a variety of reasons that a home might sell at a different price than the asking price. Home owners believe in the value of their property, and may insist on starting with an asking price above what the market may dictate. In fact, about [38% of recent sellers reported reducing the asking price at least once](https://www.nar.realtor/research-and-statistics/quick-real-estate-statistics). Inversely, many sellers take advantage of the [real estate pricing pyramid](https://palermolistings.com/market-data/the-great-pyramid-of-real-estate) and opt for a strategy of pricing their home 10-15% below market value to increase the pool of potential buyers to 75-90%. Growing the buyer pool can lead to more offers, and ultimately drive the price of the home up. Regardless of the strategy, the home selling process almost always begins with establishing the market value of the home.\n",
    "\n",
    "To determine \"market value\", agents will typically perform what is called a [Comparative Market Analysis](https://www.investopedia.com/terms/c/comparative-market-analysis.asp#:~:text=A%20comparative%20market%20analysis%20(CMA)%20is%20an%20estimate%20of%20a,for%20the%20property%20and%20comparables.), or CMA. A CMA is an evaluation of recent sales of comparable homes to get an idea of what a home might sell for in the current market. Real estate agents have conducted CMA's for a long time, and has only become easier with the internet and [mutiple listing services](https://www.nar.realtor/nar-doj-settlement/multiple-listing-service-mls-what-is-it). However, with limited time and resources, agents are typically only able to evaluate a handful of comprable home sales, and in many cases there may not be a truly \"comparable\" home sale. By using a machine learning model and aggregate housing and sale data, a real estate agent could get a good approximation of a home's value, without the burdern of identifying comparable homes that have sold recently."
   ]
  },
  {
   "cell_type": "markdown",
   "id": "d85f4424-6745-4e90-a628-1f95cd25eb60",
   "metadata": {},
   "source": [
    "### Datasets\n",
    "\n",
    "- [`train.csv`](https://www.kaggle.com/competitions/221-ames-competition/data?select=test.csv): Ames housing data used to train the model.\n",
    "- [`test.csv`](https://www.kaggle.com/competitions/221-ames-competition/data?select=test.csv): Ames housing data used to test the model's accuracy. In this project, this data will also represent potential home listing for a real estate agent."
   ]
  },
  {
   "cell_type": "markdown",
   "id": "24e03f0f-822d-4852-96fa-6eae2f1d8395",
   "metadata": {},
   "source": [
    "### Disclaimer\n",
    "\n",
    "During the creation of this notebook and the analysis contained herein, the author frequently referenced available documentation for imported libraries. Much of the coding syntax within this notebook is derived from various online sources, including stackoverflow and other public forums. The author does not claim the following code as fully original, and sources are cited where possible."
   ]
  },
  {
   "cell_type": "markdown",
   "id": "4eb4c1c2-54bc-48c9-8933-fb2f72f9f944",
   "metadata": {},
   "source": [
    "## Data Import and Cleaning"
   ]
  },
  {
   "cell_type": "markdown",
   "id": "fcc3a5b2-62c9-4972-a30f-198c8f48ad2c",
   "metadata": {},
   "source": [
    "### Library Imports"
   ]
  },
  {
   "cell_type": "code",
   "execution_count": 1,
   "id": "964855c1-528c-4270-8479-fa022f13211d",
   "metadata": {
    "tags": []
   },
   "outputs": [],
   "source": [
    "import pandas as pd\n",
    "import numpy as np\n",
    "import os\n",
    "\n",
    "import matplotlib.pyplot as plt\n",
    "import seaborn as sns"
   ]
  },
  {
   "cell_type": "markdown",
   "id": "365160c8-e716-43d3-bf29-e9b599d83243",
   "metadata": {},
   "source": [
    "Below, a directory is created to store the results of the models."
   ]
  },
  {
   "cell_type": "code",
   "execution_count": 2,
   "id": "b38f043e-6b96-47bb-be20-f1561d98e351",
   "metadata": {
    "tags": []
   },
   "outputs": [],
   "source": [
    "# os.mkdir('../prediction_results')"
   ]
  },
  {
   "cell_type": "markdown",
   "id": "9995dd3b-f56d-4c9b-acbd-84bcc09f344d",
   "metadata": {},
   "source": [
    "### Data Import\n",
    "\n",
    "The first code block below imports the two datasets used within this analysis and defines the dataframes with labels that are easy to reference. Each dataframe is cleaned and condensed in the following section."
   ]
  },
  {
   "cell_type": "code",
   "execution_count": 3,
   "id": "7585618a-ac34-48b8-b2bf-84f0cffe572e",
   "metadata": {
    "tags": []
   },
   "outputs": [
    {
     "data": {
      "text/html": [
       "<div>\n",
       "<style scoped>\n",
       "    .dataframe tbody tr th:only-of-type {\n",
       "        vertical-align: middle;\n",
       "    }\n",
       "\n",
       "    .dataframe tbody tr th {\n",
       "        vertical-align: top;\n",
       "    }\n",
       "\n",
       "    .dataframe thead th {\n",
       "        text-align: right;\n",
       "    }\n",
       "</style>\n",
       "<table border=\"1\" class=\"dataframe\">\n",
       "  <thead>\n",
       "    <tr style=\"text-align: right;\">\n",
       "      <th></th>\n",
       "      <th>Id</th>\n",
       "      <th>PID</th>\n",
       "      <th>MS SubClass</th>\n",
       "      <th>MS Zoning</th>\n",
       "      <th>Lot Frontage</th>\n",
       "      <th>Lot Area</th>\n",
       "      <th>Street</th>\n",
       "      <th>Alley</th>\n",
       "      <th>Lot Shape</th>\n",
       "      <th>Land Contour</th>\n",
       "      <th>...</th>\n",
       "      <th>Screen Porch</th>\n",
       "      <th>Pool Area</th>\n",
       "      <th>Pool QC</th>\n",
       "      <th>Fence</th>\n",
       "      <th>Misc Feature</th>\n",
       "      <th>Misc Val</th>\n",
       "      <th>Mo Sold</th>\n",
       "      <th>Yr Sold</th>\n",
       "      <th>Sale Type</th>\n",
       "      <th>SalePrice</th>\n",
       "    </tr>\n",
       "  </thead>\n",
       "  <tbody>\n",
       "    <tr>\n",
       "      <th>0</th>\n",
       "      <td>109</td>\n",
       "      <td>533352170</td>\n",
       "      <td>60</td>\n",
       "      <td>RL</td>\n",
       "      <td>NaN</td>\n",
       "      <td>13517</td>\n",
       "      <td>Pave</td>\n",
       "      <td>NaN</td>\n",
       "      <td>IR1</td>\n",
       "      <td>Lvl</td>\n",
       "      <td>...</td>\n",
       "      <td>0</td>\n",
       "      <td>0</td>\n",
       "      <td>NaN</td>\n",
       "      <td>NaN</td>\n",
       "      <td>NaN</td>\n",
       "      <td>0</td>\n",
       "      <td>3</td>\n",
       "      <td>2010</td>\n",
       "      <td>WD</td>\n",
       "      <td>130500</td>\n",
       "    </tr>\n",
       "    <tr>\n",
       "      <th>1</th>\n",
       "      <td>544</td>\n",
       "      <td>531379050</td>\n",
       "      <td>60</td>\n",
       "      <td>RL</td>\n",
       "      <td>43.0</td>\n",
       "      <td>11492</td>\n",
       "      <td>Pave</td>\n",
       "      <td>NaN</td>\n",
       "      <td>IR1</td>\n",
       "      <td>Lvl</td>\n",
       "      <td>...</td>\n",
       "      <td>0</td>\n",
       "      <td>0</td>\n",
       "      <td>NaN</td>\n",
       "      <td>NaN</td>\n",
       "      <td>NaN</td>\n",
       "      <td>0</td>\n",
       "      <td>4</td>\n",
       "      <td>2009</td>\n",
       "      <td>WD</td>\n",
       "      <td>220000</td>\n",
       "    </tr>\n",
       "    <tr>\n",
       "      <th>2</th>\n",
       "      <td>153</td>\n",
       "      <td>535304180</td>\n",
       "      <td>20</td>\n",
       "      <td>RL</td>\n",
       "      <td>68.0</td>\n",
       "      <td>7922</td>\n",
       "      <td>Pave</td>\n",
       "      <td>NaN</td>\n",
       "      <td>Reg</td>\n",
       "      <td>Lvl</td>\n",
       "      <td>...</td>\n",
       "      <td>0</td>\n",
       "      <td>0</td>\n",
       "      <td>NaN</td>\n",
       "      <td>NaN</td>\n",
       "      <td>NaN</td>\n",
       "      <td>0</td>\n",
       "      <td>1</td>\n",
       "      <td>2010</td>\n",
       "      <td>WD</td>\n",
       "      <td>109000</td>\n",
       "    </tr>\n",
       "    <tr>\n",
       "      <th>3</th>\n",
       "      <td>318</td>\n",
       "      <td>916386060</td>\n",
       "      <td>60</td>\n",
       "      <td>RL</td>\n",
       "      <td>73.0</td>\n",
       "      <td>9802</td>\n",
       "      <td>Pave</td>\n",
       "      <td>NaN</td>\n",
       "      <td>Reg</td>\n",
       "      <td>Lvl</td>\n",
       "      <td>...</td>\n",
       "      <td>0</td>\n",
       "      <td>0</td>\n",
       "      <td>NaN</td>\n",
       "      <td>NaN</td>\n",
       "      <td>NaN</td>\n",
       "      <td>0</td>\n",
       "      <td>4</td>\n",
       "      <td>2010</td>\n",
       "      <td>WD</td>\n",
       "      <td>174000</td>\n",
       "    </tr>\n",
       "    <tr>\n",
       "      <th>4</th>\n",
       "      <td>255</td>\n",
       "      <td>906425045</td>\n",
       "      <td>50</td>\n",
       "      <td>RL</td>\n",
       "      <td>82.0</td>\n",
       "      <td>14235</td>\n",
       "      <td>Pave</td>\n",
       "      <td>NaN</td>\n",
       "      <td>IR1</td>\n",
       "      <td>Lvl</td>\n",
       "      <td>...</td>\n",
       "      <td>0</td>\n",
       "      <td>0</td>\n",
       "      <td>NaN</td>\n",
       "      <td>NaN</td>\n",
       "      <td>NaN</td>\n",
       "      <td>0</td>\n",
       "      <td>3</td>\n",
       "      <td>2010</td>\n",
       "      <td>WD</td>\n",
       "      <td>138500</td>\n",
       "    </tr>\n",
       "  </tbody>\n",
       "</table>\n",
       "<p>5 rows × 81 columns</p>\n",
       "</div>"
      ],
      "text/plain": [
       "    Id        PID  MS SubClass MS Zoning  Lot Frontage  Lot Area Street Alley  \\\n",
       "0  109  533352170           60        RL           NaN     13517   Pave   NaN   \n",
       "1  544  531379050           60        RL          43.0     11492   Pave   NaN   \n",
       "2  153  535304180           20        RL          68.0      7922   Pave   NaN   \n",
       "3  318  916386060           60        RL          73.0      9802   Pave   NaN   \n",
       "4  255  906425045           50        RL          82.0     14235   Pave   NaN   \n",
       "\n",
       "  Lot Shape Land Contour  ... Screen Porch Pool Area Pool QC Fence  \\\n",
       "0       IR1          Lvl  ...            0         0     NaN   NaN   \n",
       "1       IR1          Lvl  ...            0         0     NaN   NaN   \n",
       "2       Reg          Lvl  ...            0         0     NaN   NaN   \n",
       "3       Reg          Lvl  ...            0         0     NaN   NaN   \n",
       "4       IR1          Lvl  ...            0         0     NaN   NaN   \n",
       "\n",
       "  Misc Feature Misc Val Mo Sold Yr Sold  Sale Type  SalePrice  \n",
       "0          NaN        0       3    2010        WD      130500  \n",
       "1          NaN        0       4    2009        WD      220000  \n",
       "2          NaN        0       1    2010        WD      109000  \n",
       "3          NaN        0       4    2010        WD      174000  \n",
       "4          NaN        0       3    2010        WD      138500  \n",
       "\n",
       "[5 rows x 81 columns]"
      ]
     },
     "execution_count": 3,
     "metadata": {},
     "output_type": "execute_result"
    }
   ],
   "source": [
    "df_train = pd.read_csv('../datasets/train.csv')\n",
    "df_test = pd.read_csv('../datasets/test.csv')\n",
    "df_train.head()"
   ]
  },
  {
   "cell_type": "code",
   "execution_count": 4,
   "id": "0a3f7ca6-270e-4c17-ae17-657de631c15b",
   "metadata": {
    "tags": []
   },
   "outputs": [
    {
     "data": {
      "text/plain": [
       "((2051, 81), (878, 80))"
      ]
     },
     "execution_count": 4,
     "metadata": {},
     "output_type": "execute_result"
    }
   ],
   "source": [
    "df_train.shape, df_test.shape"
   ]
  },
  {
   "cell_type": "markdown",
   "id": "825ebcb1-5bb5-4124-8183-98a13301d71f",
   "metadata": {
    "tags": []
   },
   "source": [
    "The `df_test` dataframe contains 80 columns compared to the 81 columns contained in `df_train` because it does not contain `saleprice` data."
   ]
  },
  {
   "cell_type": "markdown",
   "id": "1f6a1b9e-337c-4846-9828-15350ccbdaac",
   "metadata": {},
   "source": [
    "### Cleaning"
   ]
  },
  {
   "cell_type": "markdown",
   "id": "f7d72589-d1f6-4003-9591-cd314f9dfc90",
   "metadata": {},
   "source": [
    "To make the column headers easier to use in the remainder of the notebook, the headers are converted to snake case."
   ]
  },
  {
   "cell_type": "code",
   "execution_count": 5,
   "id": "8d594263-444a-471f-b5a3-99fb8526b71b",
   "metadata": {
    "tags": []
   },
   "outputs": [],
   "source": [
    "df_train.columns = df_train.columns.str.lower().str.replace(' ','_')\n",
    "df_test.columns = df_test.columns.str.lower().str.replace(' ','_')"
   ]
  },
  {
   "cell_type": "code",
   "execution_count": 6,
   "id": "c59a04ec-2733-48c1-8166-801db8d10a14",
   "metadata": {
    "tags": []
   },
   "outputs": [
    {
     "data": {
      "text/plain": [
       "id                int64\n",
       "pid               int64\n",
       "ms_subclass       int64\n",
       "ms_zoning        object\n",
       "lot_frontage    float64\n",
       "                 ...   \n",
       "misc_val          int64\n",
       "mo_sold           int64\n",
       "yr_sold           int64\n",
       "sale_type        object\n",
       "saleprice         int64\n",
       "Length: 81, dtype: object"
      ]
     },
     "execution_count": 6,
     "metadata": {},
     "output_type": "execute_result"
    }
   ],
   "source": [
    "df_train.dtypes"
   ]
  },
  {
   "cell_type": "code",
   "execution_count": 7,
   "id": "d4b5f599-03a1-493d-b256-fd0b8bde3d05",
   "metadata": {
    "tags": []
   },
   "outputs": [
    {
     "data": {
      "text/plain": [
       "{'saleprice'}"
      ]
     },
     "execution_count": 7,
     "metadata": {},
     "output_type": "execute_result"
    }
   ],
   "source": [
    "set(df_train.columns) - set(df_test.columns)"
   ]
  },
  {
   "cell_type": "markdown",
   "id": "612d5fd6-107b-4506-8f42-e9fc851d0a04",
   "metadata": {},
   "source": [
    "Here, we've verified that the mismatched column is indeed `saleprice`."
   ]
  },
  {
   "cell_type": "code",
   "execution_count": 8,
   "id": "5e919895-7841-441d-aa8f-0841c31509e3",
   "metadata": {
    "tags": []
   },
   "outputs": [
    {
     "data": {
      "text/plain": [
       "pool_qc           2042\n",
       "misc_feature      1986\n",
       "alley             1911\n",
       "fence             1651\n",
       "fireplace_qu      1000\n",
       "lot_frontage       330\n",
       "garage_finish      114\n",
       "garage_qual        114\n",
       "garage_yr_blt      114\n",
       "garage_cond        114\n",
       "garage_type        113\n",
       "bsmt_exposure       58\n",
       "bsmtfin_type_2      56\n",
       "bsmtfin_type_1      55\n",
       "bsmt_cond           55\n",
       "bsmt_qual           55\n",
       "mas_vnr_area        22\n",
       "mas_vnr_type        22\n",
       "bsmt_half_bath       2\n",
       "bsmt_full_bath       2\n",
       "garage_area          1\n",
       "total_bsmt_sf        1\n",
       "bsmt_unf_sf          1\n",
       "bsmtfin_sf_2         1\n",
       "bsmtfin_sf_1         1\n",
       "garage_cars          1\n",
       "dtype: int64"
      ]
     },
     "execution_count": 8,
     "metadata": {},
     "output_type": "execute_result"
    }
   ],
   "source": [
    "df_train.isnull().sum().sort_values(ascending = False).loc[lambda x: x > 0]"
   ]
  },
  {
   "cell_type": "markdown",
   "id": "276e8160-936f-492a-b345-a155e0ac2337",
   "metadata": {},
   "source": [
    "Above, the dataframe is checked for null values. We find that several columns contain entries with null values, ranging from 1 to 2042 null entries. For this analysis, we will not attempt to impute missing values, so all columns containing null values are dropped from the training dataset in the cell below."
   ]
  },
  {
   "cell_type": "code",
   "execution_count": 9,
   "id": "272ab092-4203-4400-af06-7ce8a69510d8",
   "metadata": {
    "tags": []
   },
   "outputs": [],
   "source": [
    "# train.dropna(axis=1, thresh=(len(train)-2), inplace=True)\n",
    "df_train.dropna(axis=1, inplace=True)"
   ]
  },
  {
   "cell_type": "code",
   "execution_count": 10,
   "id": "a4bafb79-4d00-461a-a656-8ec90a1e2ddc",
   "metadata": {
    "tags": []
   },
   "outputs": [
    {
     "data": {
      "text/plain": [
       "((2051, 55), (878, 80))"
      ]
     },
     "execution_count": 10,
     "metadata": {},
     "output_type": "execute_result"
    }
   ],
   "source": [
    "df_train.shape, df_test.shape"
   ]
  },
  {
   "cell_type": "markdown",
   "id": "4652aa9c-288a-44cd-8c7a-948613b4419f",
   "metadata": {},
   "source": [
    "After dropping columns with null values from the training dataset, we now have more columns remaining in the test dataset. If we attempted to columns with null values from the test data the same way that we did above for the training data, we may accidentally drop differnet columns since the datasets make contain null values in different columns. Instead, we set the redefine the test dataframe to include the same columns as the training dataset, less the `saleprice` column."
   ]
  },
  {
   "cell_type": "code",
   "execution_count": 11,
   "id": "9928f0f7-d6d0-4c74-b173-e34358bf5303",
   "metadata": {
    "tags": []
   },
   "outputs": [],
   "source": [
    "df_test = df_test[[col for col in df_train.columns if col != 'saleprice']].copy()"
   ]
  },
  {
   "cell_type": "code",
   "execution_count": 12,
   "id": "47666d1d-5982-4403-9ebc-b42b2686f75f",
   "metadata": {
    "tags": []
   },
   "outputs": [
    {
     "data": {
      "text/plain": [
       "((2051, 55), (878, 54))"
      ]
     },
     "execution_count": 12,
     "metadata": {},
     "output_type": "execute_result"
    }
   ],
   "source": [
    "df_train.shape, df_test.shape"
   ]
  },
  {
   "cell_type": "markdown",
   "id": "95bd2ae3-c79e-4e58-8bbf-0dc5b66c23ca",
   "metadata": {},
   "source": [
    "Once again, we have balanced dataframes. The cell below double checks that all columns containing null values have been removed from the training data."
   ]
  },
  {
   "cell_type": "code",
   "execution_count": 13,
   "id": "b3ebaaa1-0ff9-489f-87ac-eb9d3634cced",
   "metadata": {
    "tags": []
   },
   "outputs": [
    {
     "data": {
      "text/plain": [
       "Series([], dtype: int64)"
      ]
     },
     "execution_count": 13,
     "metadata": {},
     "output_type": "execute_result"
    }
   ],
   "source": [
    "df_train.isnull().sum().sort_values(ascending = False).loc[lambda x: x > 0]"
   ]
  },
  {
   "cell_type": "markdown",
   "id": "08771d10-c007-4904-932a-ae8ddf8d20db",
   "metadata": {},
   "source": [
    "### Save Cleaned Dataframes\n",
    "\n",
    "Having cleaned the data to our liking, we'll now save the cleaned dataframes so we can easily read them into our modeling notebooks."
   ]
  },
  {
   "cell_type": "code",
   "execution_count": 14,
   "id": "c261b517-f769-4f49-9ceb-d4393372e39c",
   "metadata": {
    "tags": []
   },
   "outputs": [],
   "source": [
    "df_train.to_csv('../datasets/train_cleaned.csv', index=False)\n",
    "df_test.to_csv('../datasets/test_cleaned.csv', index=False)"
   ]
  },
  {
   "cell_type": "markdown",
   "id": "97e8d7b3-58ec-4511-8faf-86f4a2c433a8",
   "metadata": {},
   "source": [
    "## Exploratory Data Analysis (EDA)\n",
    "\n",
    "Before diving into the preprocessing and modeling, we'll take a quick look at some of the summary statistics to get a better understanding of the data we're working with. Below, we can see the shape of our training dataframe, as well as details about the types of data contained in each column.  More about these features can be found in the data dictionary, [here](https://www.kaggle.com/competitions/221-ames-competition/data)."
   ]
  },
  {
   "cell_type": "code",
   "execution_count": 15,
   "id": "42b9343d-21d3-420d-a5ac-c851d1210783",
   "metadata": {
    "tags": []
   },
   "outputs": [
    {
     "name": "stdout",
     "output_type": "stream",
     "text": [
      "<class 'pandas.core.frame.DataFrame'>\n",
      "RangeIndex: 2051 entries, 0 to 2050\n",
      "Data columns (total 55 columns):\n",
      " #   Column           Non-Null Count  Dtype \n",
      "---  ------           --------------  ----- \n",
      " 0   id               2051 non-null   int64 \n",
      " 1   pid              2051 non-null   int64 \n",
      " 2   ms_subclass      2051 non-null   int64 \n",
      " 3   ms_zoning        2051 non-null   object\n",
      " 4   lot_area         2051 non-null   int64 \n",
      " 5   street           2051 non-null   object\n",
      " 6   lot_shape        2051 non-null   object\n",
      " 7   land_contour     2051 non-null   object\n",
      " 8   utilities        2051 non-null   object\n",
      " 9   lot_config       2051 non-null   object\n",
      " 10  land_slope       2051 non-null   object\n",
      " 11  neighborhood     2051 non-null   object\n",
      " 12  condition_1      2051 non-null   object\n",
      " 13  condition_2      2051 non-null   object\n",
      " 14  bldg_type        2051 non-null   object\n",
      " 15  house_style      2051 non-null   object\n",
      " 16  overall_qual     2051 non-null   int64 \n",
      " 17  overall_cond     2051 non-null   int64 \n",
      " 18  year_built       2051 non-null   int64 \n",
      " 19  year_remod/add   2051 non-null   int64 \n",
      " 20  roof_style       2051 non-null   object\n",
      " 21  roof_matl        2051 non-null   object\n",
      " 22  exterior_1st     2051 non-null   object\n",
      " 23  exterior_2nd     2051 non-null   object\n",
      " 24  exter_qual       2051 non-null   object\n",
      " 25  exter_cond       2051 non-null   object\n",
      " 26  foundation       2051 non-null   object\n",
      " 27  heating          2051 non-null   object\n",
      " 28  heating_qc       2051 non-null   object\n",
      " 29  central_air      2051 non-null   object\n",
      " 30  electrical       2051 non-null   object\n",
      " 31  1st_flr_sf       2051 non-null   int64 \n",
      " 32  2nd_flr_sf       2051 non-null   int64 \n",
      " 33  low_qual_fin_sf  2051 non-null   int64 \n",
      " 34  gr_liv_area      2051 non-null   int64 \n",
      " 35  full_bath        2051 non-null   int64 \n",
      " 36  half_bath        2051 non-null   int64 \n",
      " 37  bedroom_abvgr    2051 non-null   int64 \n",
      " 38  kitchen_abvgr    2051 non-null   int64 \n",
      " 39  kitchen_qual     2051 non-null   object\n",
      " 40  totrms_abvgrd    2051 non-null   int64 \n",
      " 41  functional       2051 non-null   object\n",
      " 42  fireplaces       2051 non-null   int64 \n",
      " 43  paved_drive      2051 non-null   object\n",
      " 44  wood_deck_sf     2051 non-null   int64 \n",
      " 45  open_porch_sf    2051 non-null   int64 \n",
      " 46  enclosed_porch   2051 non-null   int64 \n",
      " 47  3ssn_porch       2051 non-null   int64 \n",
      " 48  screen_porch     2051 non-null   int64 \n",
      " 49  pool_area        2051 non-null   int64 \n",
      " 50  misc_val         2051 non-null   int64 \n",
      " 51  mo_sold          2051 non-null   int64 \n",
      " 52  yr_sold          2051 non-null   int64 \n",
      " 53  sale_type        2051 non-null   object\n",
      " 54  saleprice        2051 non-null   int64 \n",
      "dtypes: int64(28), object(27)\n",
      "memory usage: 881.4+ KB\n"
     ]
    }
   ],
   "source": [
    "df_train.info()"
   ]
  },
  {
   "cell_type": "code",
   "execution_count": 16,
   "id": "fd512bb9-df85-4276-b358-ec49b441f3d3",
   "metadata": {
    "tags": []
   },
   "outputs": [
    {
     "data": {
      "text/html": [
       "<div>\n",
       "<style scoped>\n",
       "    .dataframe tbody tr th:only-of-type {\n",
       "        vertical-align: middle;\n",
       "    }\n",
       "\n",
       "    .dataframe tbody tr th {\n",
       "        vertical-align: top;\n",
       "    }\n",
       "\n",
       "    .dataframe thead th {\n",
       "        text-align: right;\n",
       "    }\n",
       "</style>\n",
       "<table border=\"1\" class=\"dataframe\">\n",
       "  <thead>\n",
       "    <tr style=\"text-align: right;\">\n",
       "      <th></th>\n",
       "      <th>id</th>\n",
       "      <th>pid</th>\n",
       "      <th>ms_subclass</th>\n",
       "      <th>lot_area</th>\n",
       "      <th>overall_qual</th>\n",
       "      <th>overall_cond</th>\n",
       "      <th>year_built</th>\n",
       "      <th>year_remod/add</th>\n",
       "      <th>1st_flr_sf</th>\n",
       "      <th>2nd_flr_sf</th>\n",
       "      <th>...</th>\n",
       "      <th>wood_deck_sf</th>\n",
       "      <th>open_porch_sf</th>\n",
       "      <th>enclosed_porch</th>\n",
       "      <th>3ssn_porch</th>\n",
       "      <th>screen_porch</th>\n",
       "      <th>pool_area</th>\n",
       "      <th>misc_val</th>\n",
       "      <th>mo_sold</th>\n",
       "      <th>yr_sold</th>\n",
       "      <th>saleprice</th>\n",
       "    </tr>\n",
       "  </thead>\n",
       "  <tbody>\n",
       "    <tr>\n",
       "      <th>count</th>\n",
       "      <td>2051.000000</td>\n",
       "      <td>2.051000e+03</td>\n",
       "      <td>2051.000000</td>\n",
       "      <td>2051.000000</td>\n",
       "      <td>2051.000000</td>\n",
       "      <td>2051.000000</td>\n",
       "      <td>2051.000000</td>\n",
       "      <td>2051.000000</td>\n",
       "      <td>2051.000000</td>\n",
       "      <td>2051.000000</td>\n",
       "      <td>...</td>\n",
       "      <td>2051.000000</td>\n",
       "      <td>2051.000000</td>\n",
       "      <td>2051.000000</td>\n",
       "      <td>2051.000000</td>\n",
       "      <td>2051.000000</td>\n",
       "      <td>2051.000000</td>\n",
       "      <td>2051.000000</td>\n",
       "      <td>2051.000000</td>\n",
       "      <td>2051.000000</td>\n",
       "      <td>2051.000000</td>\n",
       "    </tr>\n",
       "    <tr>\n",
       "      <th>mean</th>\n",
       "      <td>1474.033642</td>\n",
       "      <td>7.135900e+08</td>\n",
       "      <td>57.008776</td>\n",
       "      <td>10065.208191</td>\n",
       "      <td>6.112140</td>\n",
       "      <td>5.562165</td>\n",
       "      <td>1971.708922</td>\n",
       "      <td>1984.190151</td>\n",
       "      <td>1164.488055</td>\n",
       "      <td>329.329108</td>\n",
       "      <td>...</td>\n",
       "      <td>93.833740</td>\n",
       "      <td>47.556802</td>\n",
       "      <td>22.571916</td>\n",
       "      <td>2.591419</td>\n",
       "      <td>16.511458</td>\n",
       "      <td>2.397855</td>\n",
       "      <td>51.574354</td>\n",
       "      <td>6.219893</td>\n",
       "      <td>2007.775719</td>\n",
       "      <td>181469.701609</td>\n",
       "    </tr>\n",
       "    <tr>\n",
       "      <th>std</th>\n",
       "      <td>843.980841</td>\n",
       "      <td>1.886918e+08</td>\n",
       "      <td>42.824223</td>\n",
       "      <td>6742.488909</td>\n",
       "      <td>1.426271</td>\n",
       "      <td>1.104497</td>\n",
       "      <td>30.177889</td>\n",
       "      <td>21.036250</td>\n",
       "      <td>396.446923</td>\n",
       "      <td>425.671046</td>\n",
       "      <td>...</td>\n",
       "      <td>128.549416</td>\n",
       "      <td>66.747241</td>\n",
       "      <td>59.845110</td>\n",
       "      <td>25.229615</td>\n",
       "      <td>57.374204</td>\n",
       "      <td>37.782570</td>\n",
       "      <td>573.393985</td>\n",
       "      <td>2.744736</td>\n",
       "      <td>1.312014</td>\n",
       "      <td>79258.659352</td>\n",
       "    </tr>\n",
       "    <tr>\n",
       "      <th>min</th>\n",
       "      <td>1.000000</td>\n",
       "      <td>5.263011e+08</td>\n",
       "      <td>20.000000</td>\n",
       "      <td>1300.000000</td>\n",
       "      <td>1.000000</td>\n",
       "      <td>1.000000</td>\n",
       "      <td>1872.000000</td>\n",
       "      <td>1950.000000</td>\n",
       "      <td>334.000000</td>\n",
       "      <td>0.000000</td>\n",
       "      <td>...</td>\n",
       "      <td>0.000000</td>\n",
       "      <td>0.000000</td>\n",
       "      <td>0.000000</td>\n",
       "      <td>0.000000</td>\n",
       "      <td>0.000000</td>\n",
       "      <td>0.000000</td>\n",
       "      <td>0.000000</td>\n",
       "      <td>1.000000</td>\n",
       "      <td>2006.000000</td>\n",
       "      <td>12789.000000</td>\n",
       "    </tr>\n",
       "    <tr>\n",
       "      <th>25%</th>\n",
       "      <td>753.500000</td>\n",
       "      <td>5.284581e+08</td>\n",
       "      <td>20.000000</td>\n",
       "      <td>7500.000000</td>\n",
       "      <td>5.000000</td>\n",
       "      <td>5.000000</td>\n",
       "      <td>1953.500000</td>\n",
       "      <td>1964.500000</td>\n",
       "      <td>879.500000</td>\n",
       "      <td>0.000000</td>\n",
       "      <td>...</td>\n",
       "      <td>0.000000</td>\n",
       "      <td>0.000000</td>\n",
       "      <td>0.000000</td>\n",
       "      <td>0.000000</td>\n",
       "      <td>0.000000</td>\n",
       "      <td>0.000000</td>\n",
       "      <td>0.000000</td>\n",
       "      <td>4.000000</td>\n",
       "      <td>2007.000000</td>\n",
       "      <td>129825.000000</td>\n",
       "    </tr>\n",
       "    <tr>\n",
       "      <th>50%</th>\n",
       "      <td>1486.000000</td>\n",
       "      <td>5.354532e+08</td>\n",
       "      <td>50.000000</td>\n",
       "      <td>9430.000000</td>\n",
       "      <td>6.000000</td>\n",
       "      <td>5.000000</td>\n",
       "      <td>1974.000000</td>\n",
       "      <td>1993.000000</td>\n",
       "      <td>1093.000000</td>\n",
       "      <td>0.000000</td>\n",
       "      <td>...</td>\n",
       "      <td>0.000000</td>\n",
       "      <td>27.000000</td>\n",
       "      <td>0.000000</td>\n",
       "      <td>0.000000</td>\n",
       "      <td>0.000000</td>\n",
       "      <td>0.000000</td>\n",
       "      <td>0.000000</td>\n",
       "      <td>6.000000</td>\n",
       "      <td>2008.000000</td>\n",
       "      <td>162500.000000</td>\n",
       "    </tr>\n",
       "    <tr>\n",
       "      <th>75%</th>\n",
       "      <td>2198.000000</td>\n",
       "      <td>9.071801e+08</td>\n",
       "      <td>70.000000</td>\n",
       "      <td>11513.500000</td>\n",
       "      <td>7.000000</td>\n",
       "      <td>6.000000</td>\n",
       "      <td>2001.000000</td>\n",
       "      <td>2004.000000</td>\n",
       "      <td>1405.000000</td>\n",
       "      <td>692.500000</td>\n",
       "      <td>...</td>\n",
       "      <td>168.000000</td>\n",
       "      <td>70.000000</td>\n",
       "      <td>0.000000</td>\n",
       "      <td>0.000000</td>\n",
       "      <td>0.000000</td>\n",
       "      <td>0.000000</td>\n",
       "      <td>0.000000</td>\n",
       "      <td>8.000000</td>\n",
       "      <td>2009.000000</td>\n",
       "      <td>214000.000000</td>\n",
       "    </tr>\n",
       "    <tr>\n",
       "      <th>max</th>\n",
       "      <td>2930.000000</td>\n",
       "      <td>9.241520e+08</td>\n",
       "      <td>190.000000</td>\n",
       "      <td>159000.000000</td>\n",
       "      <td>10.000000</td>\n",
       "      <td>9.000000</td>\n",
       "      <td>2010.000000</td>\n",
       "      <td>2010.000000</td>\n",
       "      <td>5095.000000</td>\n",
       "      <td>1862.000000</td>\n",
       "      <td>...</td>\n",
       "      <td>1424.000000</td>\n",
       "      <td>547.000000</td>\n",
       "      <td>432.000000</td>\n",
       "      <td>508.000000</td>\n",
       "      <td>490.000000</td>\n",
       "      <td>800.000000</td>\n",
       "      <td>17000.000000</td>\n",
       "      <td>12.000000</td>\n",
       "      <td>2010.000000</td>\n",
       "      <td>611657.000000</td>\n",
       "    </tr>\n",
       "  </tbody>\n",
       "</table>\n",
       "<p>8 rows × 28 columns</p>\n",
       "</div>"
      ],
      "text/plain": [
       "                id           pid  ms_subclass       lot_area  overall_qual  \\\n",
       "count  2051.000000  2.051000e+03  2051.000000    2051.000000   2051.000000   \n",
       "mean   1474.033642  7.135900e+08    57.008776   10065.208191      6.112140   \n",
       "std     843.980841  1.886918e+08    42.824223    6742.488909      1.426271   \n",
       "min       1.000000  5.263011e+08    20.000000    1300.000000      1.000000   \n",
       "25%     753.500000  5.284581e+08    20.000000    7500.000000      5.000000   \n",
       "50%    1486.000000  5.354532e+08    50.000000    9430.000000      6.000000   \n",
       "75%    2198.000000  9.071801e+08    70.000000   11513.500000      7.000000   \n",
       "max    2930.000000  9.241520e+08   190.000000  159000.000000     10.000000   \n",
       "\n",
       "       overall_cond   year_built  year_remod/add   1st_flr_sf   2nd_flr_sf  \\\n",
       "count   2051.000000  2051.000000     2051.000000  2051.000000  2051.000000   \n",
       "mean       5.562165  1971.708922     1984.190151  1164.488055   329.329108   \n",
       "std        1.104497    30.177889       21.036250   396.446923   425.671046   \n",
       "min        1.000000  1872.000000     1950.000000   334.000000     0.000000   \n",
       "25%        5.000000  1953.500000     1964.500000   879.500000     0.000000   \n",
       "50%        5.000000  1974.000000     1993.000000  1093.000000     0.000000   \n",
       "75%        6.000000  2001.000000     2004.000000  1405.000000   692.500000   \n",
       "max        9.000000  2010.000000     2010.000000  5095.000000  1862.000000   \n",
       "\n",
       "       ...  wood_deck_sf  open_porch_sf  enclosed_porch   3ssn_porch  \\\n",
       "count  ...   2051.000000    2051.000000     2051.000000  2051.000000   \n",
       "mean   ...     93.833740      47.556802       22.571916     2.591419   \n",
       "std    ...    128.549416      66.747241       59.845110    25.229615   \n",
       "min    ...      0.000000       0.000000        0.000000     0.000000   \n",
       "25%    ...      0.000000       0.000000        0.000000     0.000000   \n",
       "50%    ...      0.000000      27.000000        0.000000     0.000000   \n",
       "75%    ...    168.000000      70.000000        0.000000     0.000000   \n",
       "max    ...   1424.000000     547.000000      432.000000   508.000000   \n",
       "\n",
       "       screen_porch    pool_area      misc_val      mo_sold      yr_sold  \\\n",
       "count   2051.000000  2051.000000   2051.000000  2051.000000  2051.000000   \n",
       "mean      16.511458     2.397855     51.574354     6.219893  2007.775719   \n",
       "std       57.374204    37.782570    573.393985     2.744736     1.312014   \n",
       "min        0.000000     0.000000      0.000000     1.000000  2006.000000   \n",
       "25%        0.000000     0.000000      0.000000     4.000000  2007.000000   \n",
       "50%        0.000000     0.000000      0.000000     6.000000  2008.000000   \n",
       "75%        0.000000     0.000000      0.000000     8.000000  2009.000000   \n",
       "max      490.000000   800.000000  17000.000000    12.000000  2010.000000   \n",
       "\n",
       "           saleprice  \n",
       "count    2051.000000  \n",
       "mean   181469.701609  \n",
       "std     79258.659352  \n",
       "min     12789.000000  \n",
       "25%    129825.000000  \n",
       "50%    162500.000000  \n",
       "75%    214000.000000  \n",
       "max    611657.000000  \n",
       "\n",
       "[8 rows x 28 columns]"
      ]
     },
     "execution_count": 16,
     "metadata": {},
     "output_type": "execute_result"
    }
   ],
   "source": [
    "df_train.describe()"
   ]
  },
  {
   "cell_type": "markdown",
   "id": "9372c44d-8788-4999-b981-cf51751a1b37",
   "metadata": {},
   "source": [
    "From the summary statistics above, we can see that the average sale price is `~$180,000`. But let's take a look at how sale prices are actually distributed.\n",
    "\n",
    "Below, we can see a steep peak around `~$150,000`. However, we can see that the data is right-skewed with a small numer of homes selling for more the `$400,000`."
   ]
  },
  {
   "cell_type": "code",
   "execution_count": 17,
   "id": "7238f5d5-44a6-47d0-a34c-f63545095b5c",
   "metadata": {
    "tags": []
   },
   "outputs": [
    {
     "data": {
      "image/png": "[encoded data removed]",
      "text/plain": [
       "<Figure size 500x500 with 1 Axes>"
      ]
     },
     "metadata": {},
     "output_type": "display_data"
    }
   ],
   "source": [
    "sns.displot(data=df_train['saleprice']).set(title='Distribution of Sale Prices');"
   ]
  },
  {
   "cell_type": "markdown",
   "id": "8fcfd591-8095-4829-ae79-7a9aae16e0a8",
   "metadata": {},
   "source": [
    "Let's also take a peak at the relationship between sale price and a few categories we might expect to be correlated to price. Here, we'll look at:\n",
    "- Lot Area\n",
    "- Overall Quality\n",
    "- Overall Condition\n",
    "- 1st Floor Square Footage\n",
    "- 2nd Floor Square Footage"
   ]
  },
  {
   "cell_type": "code",
   "execution_count": 18,
   "id": "8585eeda-dddc-481e-a072-60f9d30e240c",
   "metadata": {
    "tags": []
   },
   "outputs": [
    {
     "data": {
      "image/png": "[encoded data removed]",
      "text/plain": [
       "<Figure size 1200x200 with 5 Axes>"
      ]
     },
     "metadata": {},
     "output_type": "display_data"
    }
   ],
   "source": [
    "df = df_train[['lot_area','overall_qual','overall_cond','1st_flr_sf','2nd_flr_sf','saleprice']]\n",
    "\n",
    "fig, axs = plt.subplots(1, 5, figsize = (12, 2), sharey = True)\n",
    "\n",
    "for i in range(5):\n",
    "    sns.scatterplot(x=df[df.columns[i]], y=df_train['saleprice'], ax = axs[i])\\\n",
    "        # .set(title = ads.columns[i])\n",
    "    \n",
    "plt.suptitle('Sale Prices vs Features');"
   ]
  },
  {
   "cell_type": "markdown",
   "id": "d60e8329-0fcc-47ce-a3eb-9dd4598adc24",
   "metadata": {},
   "source": [
    "We can see a vaguely positive relationship for each of these features, so we'll train our first set of models on these features to start simple."
   ]
  },
  {
   "cell_type": "markdown",
   "id": "711e62cb-fe6d-49c4-8edf-bf420f7b156c",
   "metadata": {
    "tags": []
   },
   "source": [
    "## Sources\n",
    "\n",
    "1. [https://www.nar.realtor/research-and-statistics/quick-real-estate-statistics](https://www.nar.realtor/research-and-statistics/quick-real-estate-statistics)\n",
    "2. [https://palermolistings.com/market-data/the-great-pyramid-of-real-estate](https://palermolistings.com/market-data/the-great-pyramid-of-real-estate)\n",
    "3. [https://www.investopedia.com/terms/c/comparative-market-analysis](https://www.investopedia.com/terms/c/comparative-market-analysis.asp#:~:text=A%20comparative%20market%20analysis%20(CMA)%20is%20an%20estimate%20of%20a,for%20the%20property%20and%20comparables.)\n",
    "4. [https://www.nar.realtor/nar-doj-settlement/multiple-listing-service-mls-what-is-it](https://www.nar.realtor/nar-doj-settlement/multiple-listing-service-mls-what-is-it)\n",
    "5. [https://www.kaggle.com/competitions/221-ames-competition/data](https://www.kaggle.com/competitions/221-ames-competition/data)\n",
    "6. [https://pandas.pydata.org/docs/reference/index.html](https://pandas.pydata.org/docs/reference/index.html)\n",
    "7. [https://scikit-learn.org/stable/modules/classes.html](https://scikit-learn.org/stable/modules/classes.html)\n",
    "8. [https://matplotlib.org/stable/api/index.html](https://matplotlib.org/stable/api/index.html)\n",
    "9. [https://seaborn.pydata.org/api.html](https://seaborn.pydata.org/api.html)\n",
    "10. [https://stackoverflow.com/questions](https://stackoverflow.com/questions)"
   ]
  }
 ],
 "metadata": {
  "kernelspec": {
   "display_name": "Python 3 (ipykernel)",
   "language": "python",
   "name": "python3"
  },
  "language_info": {
   "codemirror_mode": {
    "name": "ipython",
    "version": 3
   },
   "file_extension": ".py",
   "mimetype": "text/x-python",
   "name": "python",
   "nbconvert_exporter": "python",
   "pygments_lexer": "ipython3",
   "version": "3.10.7"
  }
 },
 "nbformat": 4,
 "nbformat_minor": 5
}
