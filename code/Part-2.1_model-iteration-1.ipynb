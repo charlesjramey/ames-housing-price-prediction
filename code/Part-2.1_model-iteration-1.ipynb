{
 "cells": [
  {
   "cell_type": "markdown",
   "id": "d76e4ec3-bd9c-4c27-8f55-c2328e7906fa",
   "metadata": {
    "tags": []
   },
   "source": [
    "# Project 2: Ames Housing Data and Kaggle Challenge\n",
    "\n",
    "## Part II - Modeling\n",
    "\n",
    "Author: Charles Ramey\n",
    "\n",
    "Date: 03/19/2023\n",
    "\n",
    "---"
   ]
  },
  {
   "cell_type": "markdown",
   "id": "5cc1cc0e-d8c5-4075-bf37-0381c284869d",
   "metadata": {},
   "source": [
    "#### Links\n",
    "\n",
    "For the second and third iterations, see the following notebooks:\n",
    "- [`Part-2.2_model-iteration-2.ipynb`](../code/Part-2.2_model-iteration-2.ipynb)\n",
    "- [`Part-2.3_model-iteration-3.ipynb`](../code/Part-2.3_model-iteration-3.ipynb)\n",
    "\n",
    "To see the conclusions and recommendations of this project, see the following notebook:\n",
    "- [`Part-3_conclusion-and-recommendations.ipynb`](../code/Part-3_conclusion-and-recommendations.ipynb)"
   ]
  },
  {
   "cell_type": "markdown",
   "id": "bffeafca-7fac-4f4b-91e6-f5ead45b7eed",
   "metadata": {},
   "source": [
    "### Contents\n",
    "\n",
    "- [Preprocessing](#Preprocessing)\n",
    "- [Linear Model](#Linear-Model)\n",
    "- [Ridge Model](#Ridge-Model)\n",
    "- [Lasso Model](#Lasso-Model)\n",
    "- [ElasticNet Model](#ElasticNet-Model)\n",
    "- [Predictions](#Predictions)"
   ]
  },
  {
   "cell_type": "markdown",
   "id": "9ded4425-8db3-4275-beed-4c2ddf337157",
   "metadata": {},
   "source": [
    "## Model Iteration 1"
   ]
  },
  {
   "cell_type": "code",
   "execution_count": 1,
   "id": "260f0f05-abcd-4138-9c5b-60c72993dcff",
   "metadata": {
    "tags": []
   },
   "outputs": [],
   "source": [
    "import pandas as pd\n",
    "import numpy as np\n",
    "import matplotlib.pyplot as plt\n",
    "import seaborn as sns\n",
    "\n",
    "import scipy.stats as stats\n",
    "import statsmodels.api as sm\n",
    "\n",
    "from sklearn.linear_model import LinearRegression, Lasso, Ridge, LassoCV, RidgeCV, ElasticNet, ElasticNetCV\n",
    "from sklearn.model_selection import train_test_split, cross_val_score, GridSearchCV\n",
    "from sklearn.preprocessing import PolynomialFeatures, StandardScaler\n",
    "from sklearn.metrics import r2_score, mean_squared_error\n",
    "from sklearn.pipeline import Pipeline\n",
    "\n",
    "import warnings"
   ]
  },
  {
   "cell_type": "code",
   "execution_count": 2,
   "id": "9e0b6389-e42d-4e3e-a1aa-477dafb632d9",
   "metadata": {
    "tags": []
   },
   "outputs": [
    {
     "data": {
      "text/html": [
       "<div>\n",
       "<style scoped>\n",
       "    .dataframe tbody tr th:only-of-type {\n",
       "        vertical-align: middle;\n",
       "    }\n",
       "\n",
       "    .dataframe tbody tr th {\n",
       "        vertical-align: top;\n",
       "    }\n",
       "\n",
       "    .dataframe thead th {\n",
       "        text-align: right;\n",
       "    }\n",
       "</style>\n",
       "<table border=\"1\" class=\"dataframe\">\n",
       "  <thead>\n",
       "    <tr style=\"text-align: right;\">\n",
       "      <th></th>\n",
       "      <th>id</th>\n",
       "      <th>pid</th>\n",
       "      <th>ms_subclass</th>\n",
       "      <th>ms_zoning</th>\n",
       "      <th>lot_area</th>\n",
       "      <th>street</th>\n",
       "      <th>lot_shape</th>\n",
       "      <th>land_contour</th>\n",
       "      <th>utilities</th>\n",
       "      <th>lot_config</th>\n",
       "      <th>...</th>\n",
       "      <th>open_porch_sf</th>\n",
       "      <th>enclosed_porch</th>\n",
       "      <th>3ssn_porch</th>\n",
       "      <th>screen_porch</th>\n",
       "      <th>pool_area</th>\n",
       "      <th>misc_val</th>\n",
       "      <th>mo_sold</th>\n",
       "      <th>yr_sold</th>\n",
       "      <th>sale_type</th>\n",
       "      <th>saleprice</th>\n",
       "    </tr>\n",
       "  </thead>\n",
       "  <tbody>\n",
       "    <tr>\n",
       "      <th>0</th>\n",
       "      <td>109</td>\n",
       "      <td>533352170</td>\n",
       "      <td>60</td>\n",
       "      <td>RL</td>\n",
       "      <td>13517</td>\n",
       "      <td>Pave</td>\n",
       "      <td>IR1</td>\n",
       "      <td>Lvl</td>\n",
       "      <td>AllPub</td>\n",
       "      <td>CulDSac</td>\n",
       "      <td>...</td>\n",
       "      <td>44</td>\n",
       "      <td>0</td>\n",
       "      <td>0</td>\n",
       "      <td>0</td>\n",
       "      <td>0</td>\n",
       "      <td>0</td>\n",
       "      <td>3</td>\n",
       "      <td>2010</td>\n",
       "      <td>WD</td>\n",
       "      <td>130500</td>\n",
       "    </tr>\n",
       "    <tr>\n",
       "      <th>1</th>\n",
       "      <td>544</td>\n",
       "      <td>531379050</td>\n",
       "      <td>60</td>\n",
       "      <td>RL</td>\n",
       "      <td>11492</td>\n",
       "      <td>Pave</td>\n",
       "      <td>IR1</td>\n",
       "      <td>Lvl</td>\n",
       "      <td>AllPub</td>\n",
       "      <td>CulDSac</td>\n",
       "      <td>...</td>\n",
       "      <td>74</td>\n",
       "      <td>0</td>\n",
       "      <td>0</td>\n",
       "      <td>0</td>\n",
       "      <td>0</td>\n",
       "      <td>0</td>\n",
       "      <td>4</td>\n",
       "      <td>2009</td>\n",
       "      <td>WD</td>\n",
       "      <td>220000</td>\n",
       "    </tr>\n",
       "    <tr>\n",
       "      <th>2</th>\n",
       "      <td>153</td>\n",
       "      <td>535304180</td>\n",
       "      <td>20</td>\n",
       "      <td>RL</td>\n",
       "      <td>7922</td>\n",
       "      <td>Pave</td>\n",
       "      <td>Reg</td>\n",
       "      <td>Lvl</td>\n",
       "      <td>AllPub</td>\n",
       "      <td>Inside</td>\n",
       "      <td>...</td>\n",
       "      <td>52</td>\n",
       "      <td>0</td>\n",
       "      <td>0</td>\n",
       "      <td>0</td>\n",
       "      <td>0</td>\n",
       "      <td>0</td>\n",
       "      <td>1</td>\n",
       "      <td>2010</td>\n",
       "      <td>WD</td>\n",
       "      <td>109000</td>\n",
       "    </tr>\n",
       "    <tr>\n",
       "      <th>3</th>\n",
       "      <td>318</td>\n",
       "      <td>916386060</td>\n",
       "      <td>60</td>\n",
       "      <td>RL</td>\n",
       "      <td>9802</td>\n",
       "      <td>Pave</td>\n",
       "      <td>Reg</td>\n",
       "      <td>Lvl</td>\n",
       "      <td>AllPub</td>\n",
       "      <td>Inside</td>\n",
       "      <td>...</td>\n",
       "      <td>0</td>\n",
       "      <td>0</td>\n",
       "      <td>0</td>\n",
       "      <td>0</td>\n",
       "      <td>0</td>\n",
       "      <td>0</td>\n",
       "      <td>4</td>\n",
       "      <td>2010</td>\n",
       "      <td>WD</td>\n",
       "      <td>174000</td>\n",
       "    </tr>\n",
       "    <tr>\n",
       "      <th>4</th>\n",
       "      <td>255</td>\n",
       "      <td>906425045</td>\n",
       "      <td>50</td>\n",
       "      <td>RL</td>\n",
       "      <td>14235</td>\n",
       "      <td>Pave</td>\n",
       "      <td>IR1</td>\n",
       "      <td>Lvl</td>\n",
       "      <td>AllPub</td>\n",
       "      <td>Inside</td>\n",
       "      <td>...</td>\n",
       "      <td>59</td>\n",
       "      <td>0</td>\n",
       "      <td>0</td>\n",
       "      <td>0</td>\n",
       "      <td>0</td>\n",
       "      <td>0</td>\n",
       "      <td>3</td>\n",
       "      <td>2010</td>\n",
       "      <td>WD</td>\n",
       "      <td>138500</td>\n",
       "    </tr>\n",
       "  </tbody>\n",
       "</table>\n",
       "<p>5 rows × 55 columns</p>\n",
       "</div>"
      ],
      "text/plain": [
       "    id        pid  ms_subclass ms_zoning  lot_area street lot_shape  \\\n",
       "0  109  533352170           60        RL     13517   Pave       IR1   \n",
       "1  544  531379050           60        RL     11492   Pave       IR1   \n",
       "2  153  535304180           20        RL      7922   Pave       Reg   \n",
       "3  318  916386060           60        RL      9802   Pave       Reg   \n",
       "4  255  906425045           50        RL     14235   Pave       IR1   \n",
       "\n",
       "  land_contour utilities lot_config  ... open_porch_sf enclosed_porch  \\\n",
       "0          Lvl    AllPub    CulDSac  ...            44              0   \n",
       "1          Lvl    AllPub    CulDSac  ...            74              0   \n",
       "2          Lvl    AllPub     Inside  ...            52              0   \n",
       "3          Lvl    AllPub     Inside  ...             0              0   \n",
       "4          Lvl    AllPub     Inside  ...            59              0   \n",
       "\n",
       "  3ssn_porch screen_porch pool_area misc_val  mo_sold  yr_sold  sale_type  \\\n",
       "0          0            0         0        0        3     2010        WD    \n",
       "1          0            0         0        0        4     2009        WD    \n",
       "2          0            0         0        0        1     2010        WD    \n",
       "3          0            0         0        0        4     2010        WD    \n",
       "4          0            0         0        0        3     2010        WD    \n",
       "\n",
       "   saleprice  \n",
       "0     130500  \n",
       "1     220000  \n",
       "2     109000  \n",
       "3     174000  \n",
       "4     138500  \n",
       "\n",
       "[5 rows x 55 columns]"
      ]
     },
     "execution_count": 2,
     "metadata": {},
     "output_type": "execute_result"
    }
   ],
   "source": [
    "df_train = pd.read_csv('../datasets/train_cleaned.csv')\n",
    "df_test = pd.read_csv('../datasets/test_cleaned.csv')\n",
    "df_train.head()"
   ]
  },
  {
   "cell_type": "markdown",
   "id": "44b841a5-e223-4993-8f94-64244dbbf8f4",
   "metadata": {},
   "source": [
    "### Preprocessing & Feature Engineering"
   ]
  },
  {
   "cell_type": "code",
   "execution_count": 3,
   "id": "e2132066-81c9-4ae2-8786-98bb313e19f2",
   "metadata": {
    "tags": []
   },
   "outputs": [],
   "source": [
    "X = df_train[['id','lot_area','overall_qual','overall_cond','1st_flr_sf','2nd_flr_sf']]\n",
    "y = df_train['saleprice']\n",
    "\n",
    "df_test = df_test[['id','lot_area','overall_qual','overall_cond','1st_flr_sf','2nd_flr_sf']]"
   ]
  },
  {
   "cell_type": "code",
   "execution_count": 4,
   "id": "245f0770-4c0c-4f7e-a9bc-d2d6daba810c",
   "metadata": {
    "tags": []
   },
   "outputs": [],
   "source": [
    "# The portion of the training data that is being split for model validation is \n",
    "# defined as X_val and y_val to avoid confusion with the test dataset.\n",
    "X_train, X_val, y_train, y_val = train_test_split(\n",
    "    X,\n",
    "    y,\n",
    "    test_size = 0.2,\n",
    "    random_state = 5)"
   ]
  },
  {
   "cell_type": "code",
   "execution_count": 5,
   "id": "55b42ccb-f343-48dc-8076-c5acd66407d0",
   "metadata": {
    "tags": []
   },
   "outputs": [
    {
     "data": {
      "text/plain": [
       "((1640, 6), (411, 6), (878, 6))"
      ]
     },
     "execution_count": 5,
     "metadata": {},
     "output_type": "execute_result"
    }
   ],
   "source": [
    "X_train.shape, X_val.shape, df_test.shape"
   ]
  },
  {
   "cell_type": "code",
   "execution_count": 6,
   "id": "28bacdf8-3a8b-42d9-adcc-bb35d44a695e",
   "metadata": {},
   "outputs": [],
   "source": [
    "tr_id = X_train['id']\n",
    "val_id = X_val['id']"
   ]
  },
  {
   "cell_type": "code",
   "execution_count": 7,
   "id": "f3fbbf4e-fa14-496e-868c-b7884a02c5e3",
   "metadata": {
    "tags": []
   },
   "outputs": [],
   "source": [
    "poly = PolynomialFeatures(\n",
    "    degree = 2,\n",
    "    interaction_only= True,\n",
    "    include_bias=False)"
   ]
  },
  {
   "cell_type": "code",
   "execution_count": 8,
   "id": "91a9115f-b5e3-4738-a123-0493958e255a",
   "metadata": {
    "tags": []
   },
   "outputs": [],
   "source": [
    "X_train = poly.fit_transform(\n",
    "    X_train.drop(columns = 'id'))\n",
    "\n",
    "X_train = pd.DataFrame(X_train, columns = poly.get_feature_names_out())\n",
    "\n",
    "X_val = pd.DataFrame(\n",
    "    poly.transform(X_val.drop(columns = 'id')),\n",
    "    columns = poly.get_feature_names_out())"
   ]
  },
  {
   "cell_type": "code",
   "execution_count": 9,
   "id": "8c9ad6a9-29bb-4490-9c3c-760cfc75a264",
   "metadata": {
    "tags": []
   },
   "outputs": [
    {
     "data": {
      "text/plain": [
       "((1640, 15), (411, 15))"
      ]
     },
     "execution_count": 9,
     "metadata": {},
     "output_type": "execute_result"
    }
   ],
   "source": [
    "X_train.shape, X_val.shape"
   ]
  },
  {
   "cell_type": "code",
   "execution_count": 10,
   "id": "4be6568a-bc23-4b1f-9f5b-eb1aa7dbdb65",
   "metadata": {
    "tags": []
   },
   "outputs": [],
   "source": [
    "ss = StandardScaler()\n",
    "\n",
    "Xs_train = ss.fit_transform(X_train)\n",
    "Xs_train = pd.DataFrame(Xs_train, columns = ss.get_feature_names_out())\n",
    "\n",
    "Xs_val = pd.DataFrame(ss.transform(X_val), columns = ss.get_feature_names_out())"
   ]
  },
  {
   "cell_type": "code",
   "execution_count": 11,
   "id": "1851ccbb-089f-4f63-a91e-8360ec556aed",
   "metadata": {
    "tags": []
   },
   "outputs": [],
   "source": [
    "def model_outputs(model, Xs_train, Xs_val, y_train, y_val):\n",
    "    results_dict = {'Training score': model.score(Xs_train, y_train),\n",
    "    'Testing score': model.score(Xs_val, y_val),\n",
    "    'Training cross-validation score': cross_val_score(model, Xs_train, y_train, cv=5).mean(),\n",
    "    'Testing cross-validation score': cross_val_score(model, Xs_val, y_val, cv=5).mean(),\n",
    "    'Training RMSE score': mean_squared_error(y_train, model.predict(Xs_train), squared = False),\n",
    "    'Testing RMSE score': mean_squared_error(y_val, model.predict(Xs_val), squared = False)\n",
    "    }\n",
    "    \n",
    "    return pd.DataFrame.from_dict(results_dict, orient = 'index', columns = ['score'])"
   ]
  },
  {
   "cell_type": "markdown",
   "id": "747c7519-98de-426c-b7ea-413af82c69fa",
   "metadata": {},
   "source": [
    "### Baseline and Linear Models"
   ]
  },
  {
   "cell_type": "code",
   "execution_count": 12,
   "id": "39b79c1f-8504-4705-be4d-dce969f0714c",
   "metadata": {
    "tags": []
   },
   "outputs": [
    {
     "data": {
      "text/html": [
       "<style>#sk-container-id-1 {color: black;background-color: white;}#sk-container-id-1 pre{padding: 0;}#sk-container-id-1 div.sk-toggleable {background-color: white;}#sk-container-id-1 label.sk-toggleable__label {cursor: pointer;display: block;width: 100%;margin-bottom: 0;padding: 0.3em;box-sizing: border-box;text-align: center;}#sk-container-id-1 label.sk-toggleable__label-arrow:before {content: \"▸\";float: left;margin-right: 0.25em;color: #696969;}#sk-container-id-1 label.sk-toggleable__label-arrow:hover:before {color: black;}#sk-container-id-1 div.sk-estimator:hover label.sk-toggleable__label-arrow:before {color: black;}#sk-container-id-1 div.sk-toggleable__content {max-height: 0;max-width: 0;overflow: hidden;text-align: left;background-color: #f0f8ff;}#sk-container-id-1 div.sk-toggleable__content pre {margin: 0.2em;color: black;border-radius: 0.25em;background-color: #f0f8ff;}#sk-container-id-1 input.sk-toggleable__control:checked~div.sk-toggleable__content {max-height: 200px;max-width: 100%;overflow: auto;}#sk-container-id-1 input.sk-toggleable__control:checked~label.sk-toggleable__label-arrow:before {content: \"▾\";}#sk-container-id-1 div.sk-estimator input.sk-toggleable__control:checked~label.sk-toggleable__label {background-color: #d4ebff;}#sk-container-id-1 div.sk-label input.sk-toggleable__control:checked~label.sk-toggleable__label {background-color: #d4ebff;}#sk-container-id-1 input.sk-hidden--visually {border: 0;clip: rect(1px 1px 1px 1px);clip: rect(1px, 1px, 1px, 1px);height: 1px;margin: -1px;overflow: hidden;padding: 0;position: absolute;width: 1px;}#sk-container-id-1 div.sk-estimator {font-family: monospace;background-color: #f0f8ff;border: 1px dotted black;border-radius: 0.25em;box-sizing: border-box;margin-bottom: 0.5em;}#sk-container-id-1 div.sk-estimator:hover {background-color: #d4ebff;}#sk-container-id-1 div.sk-parallel-item::after {content: \"\";width: 100%;border-bottom: 1px solid gray;flex-grow: 1;}#sk-container-id-1 div.sk-label:hover label.sk-toggleable__label {background-color: #d4ebff;}#sk-container-id-1 div.sk-serial::before {content: \"\";position: absolute;border-left: 1px solid gray;box-sizing: border-box;top: 0;bottom: 0;left: 50%;z-index: 0;}#sk-container-id-1 div.sk-serial {display: flex;flex-direction: column;align-items: center;background-color: white;padding-right: 0.2em;padding-left: 0.2em;position: relative;}#sk-container-id-1 div.sk-item {position: relative;z-index: 1;}#sk-container-id-1 div.sk-parallel {display: flex;align-items: stretch;justify-content: center;background-color: white;position: relative;}#sk-container-id-1 div.sk-item::before, #sk-container-id-1 div.sk-parallel-item::before {content: \"\";position: absolute;border-left: 1px solid gray;box-sizing: border-box;top: 0;bottom: 0;left: 50%;z-index: -1;}#sk-container-id-1 div.sk-parallel-item {display: flex;flex-direction: column;z-index: 1;position: relative;background-color: white;}#sk-container-id-1 div.sk-parallel-item:first-child::after {align-self: flex-end;width: 50%;}#sk-container-id-1 div.sk-parallel-item:last-child::after {align-self: flex-start;width: 50%;}#sk-container-id-1 div.sk-parallel-item:only-child::after {width: 0;}#sk-container-id-1 div.sk-dashed-wrapped {border: 1px dashed gray;margin: 0 0.4em 0.5em 0.4em;box-sizing: border-box;padding-bottom: 0.4em;background-color: white;}#sk-container-id-1 div.sk-label label {font-family: monospace;font-weight: bold;display: inline-block;line-height: 1.2em;}#sk-container-id-1 div.sk-label-container {text-align: center;}#sk-container-id-1 div.sk-container {/* jupyter's `normalize.less` sets `[hidden] { display: none; }` but bootstrap.min.css set `[hidden] { display: none !important; }` so we also need the `!important` here to be able to override the default hidden behavior on the sphinx rendered scikit-learn.org. See: https://github.com/scikit-learn/scikit-learn/issues/21755 */display: inline-block !important;position: relative;}#sk-container-id-1 div.sk-text-repr-fallback {display: none;}</style><div id=\"sk-container-id-1\" class=\"sk-top-container\"><div class=\"sk-text-repr-fallback\"><pre>LinearRegression()</pre><b>In a Jupyter environment, please rerun this cell to show the HTML representation or trust the notebook. <br />On GitHub, the HTML representation is unable to render, please try loading this page with nbviewer.org.</b></div><div class=\"sk-container\" hidden><div class=\"sk-item\"><div class=\"sk-estimator sk-toggleable\"><input class=\"sk-toggleable__control sk-hidden--visually\" id=\"sk-estimator-id-1\" type=\"checkbox\" checked><label for=\"sk-estimator-id-1\" class=\"sk-toggleable__label sk-toggleable__label-arrow\">LinearRegression</label><div class=\"sk-toggleable__content\"><pre>LinearRegression()</pre></div></div></div></div></div>"
      ],
      "text/plain": [
       "LinearRegression()"
      ]
     },
     "execution_count": 12,
     "metadata": {},
     "output_type": "execute_result"
    }
   ],
   "source": [
    "lr = LinearRegression()\n",
    "\n",
    "lr.fit(Xs_train, y_train)"
   ]
  },
  {
   "cell_type": "markdown",
   "id": "ee90af73-5fd1-42da-b605-77c8226be730",
   "metadata": {},
   "source": [
    "#### Baseline Model"
   ]
  },
  {
   "cell_type": "markdown",
   "id": "0ecde667-84c6-4339-8662-3ebf82cc9557",
   "metadata": {},
   "source": [
    "To get a baseline to compare our models in this iteration to, we'll use a linear model to predict the mean of the training data sale price and then score it."
   ]
  },
  {
   "cell_type": "code",
   "execution_count": 13,
   "id": "9d9084a3-d0e6-4a59-afda-033ac8bbaf33",
   "metadata": {
    "tags": []
   },
   "outputs": [
    {
     "data": {
      "text/plain": [
       "179677.99207317072"
      ]
     },
     "execution_count": 13,
     "metadata": {},
     "output_type": "execute_result"
    }
   ],
   "source": [
    "y_train.mean()"
   ]
  },
  {
   "cell_type": "code",
   "execution_count": 14,
   "id": "1abac266-06d7-4dcc-bc21-3922feb91831",
   "metadata": {},
   "outputs": [
    {
     "name": "stdout",
     "output_type": "stream",
     "text": [
      "Baseline score: -1.534191929274969e+30\n"
     ]
    }
   ],
   "source": [
    "y_base = np.array([np.mean(y_train)] * len(y_train)).reshape(-1, 1)\n",
    "print(f\"Baseline score: {lr.score(Xs_train, y_base)}\")"
   ]
  },
  {
   "cell_type": "markdown",
   "id": "8027b9e3-8440-4dd5-9769-22b067d4685f",
   "metadata": {},
   "source": [
    "As you can see, the baseline model does not perform well..."
   ]
  },
  {
   "cell_type": "markdown",
   "id": "c39d4c7d-4761-4f2d-8823-94f4b095061c",
   "metadata": {},
   "source": [
    "#### Linear Model"
   ]
  },
  {
   "cell_type": "code",
   "execution_count": 15,
   "id": "28fec71b-6712-47bc-a9de-79374ff5e73f",
   "metadata": {
    "tags": []
   },
   "outputs": [
    {
     "data": {
      "text/html": [
       "<div>\n",
       "<style scoped>\n",
       "    .dataframe tbody tr th:only-of-type {\n",
       "        vertical-align: middle;\n",
       "    }\n",
       "\n",
       "    .dataframe tbody tr th {\n",
       "        vertical-align: top;\n",
       "    }\n",
       "\n",
       "    .dataframe thead th {\n",
       "        text-align: right;\n",
       "    }\n",
       "</style>\n",
       "<table border=\"1\" class=\"dataframe\">\n",
       "  <thead>\n",
       "    <tr style=\"text-align: right;\">\n",
       "      <th></th>\n",
       "      <th>score</th>\n",
       "    </tr>\n",
       "  </thead>\n",
       "  <tbody>\n",
       "    <tr>\n",
       "      <th>Training score</th>\n",
       "      <td>0.841787</td>\n",
       "    </tr>\n",
       "    <tr>\n",
       "      <th>Testing score</th>\n",
       "      <td>0.753762</td>\n",
       "    </tr>\n",
       "    <tr>\n",
       "      <th>Training cross-validation score</th>\n",
       "      <td>0.800297</td>\n",
       "    </tr>\n",
       "    <tr>\n",
       "      <th>Testing cross-validation score</th>\n",
       "      <td>0.803884</td>\n",
       "    </tr>\n",
       "    <tr>\n",
       "      <th>Training RMSE score</th>\n",
       "      <td>31256.524697</td>\n",
       "    </tr>\n",
       "    <tr>\n",
       "      <th>Testing RMSE score</th>\n",
       "      <td>40402.962907</td>\n",
       "    </tr>\n",
       "  </tbody>\n",
       "</table>\n",
       "</div>"
      ],
      "text/plain": [
       "                                        score\n",
       "Training score                       0.841787\n",
       "Testing score                        0.753762\n",
       "Training cross-validation score      0.800297\n",
       "Testing cross-validation score       0.803884\n",
       "Training RMSE score              31256.524697\n",
       "Testing RMSE score               40402.962907"
      ]
     },
     "execution_count": 15,
     "metadata": {},
     "output_type": "execute_result"
    }
   ],
   "source": [
    "model_outputs(lr, Xs_train, Xs_val, y_train, y_val)"
   ]
  },
  {
   "cell_type": "markdown",
   "id": "bba2bbc5-e365-4716-a23f-c8ac12b6988a",
   "metadata": {},
   "source": [
    "Using the linear regression model, 84% of the variability in the price of the training data is explained by the features used in this iteration. The model has mild bias and does not generalize well, as the testing data scored 10% lower than the training data. The root mean squared error (RMSE) indicates that the model is likely to predict sale prices that are approximately $31,000-41,000 off of the true price."
   ]
  },
  {
   "cell_type": "code",
   "execution_count": 16,
   "id": "85ea0a51-0b31-47f8-8a53-03152e2feccd",
   "metadata": {
    "tags": []
   },
   "outputs": [
    {
     "data": {
      "text/plain": [
       "''"
      ]
     },
     "execution_count": 16,
     "metadata": {},
     "output_type": "execute_result"
    },
    {
     "data": {
      "image/png": "[encoded data removed]",
      "text/plain": [
       "<Figure size 500x500 with 1 Axes>"
      ]
     },
     "metadata": {},
     "output_type": "display_data"
    }
   ],
   "source": [
    "lr_pred = lr.predict(Xs_val)\n",
    "\n",
    "lr_resid = y_val - lr_pred\n",
    "\n",
    "fig, ax = plt.subplots()\n",
    "fig.set_size_inches(5, 5)\n",
    "\n",
    "ax.scatter(lr_pred, y_val, s=3)\n",
    "ax.set_title('Actual Price vs LR-Predicted Price')\n",
    "ax.set_xlabel('LR-Predicted Sale Price')\n",
    "ax.set_ylabel('Actual Sale Price')\n",
    ";"
   ]
  },
  {
   "cell_type": "code",
   "execution_count": 17,
   "id": "3a1990ee-45e7-48c6-95d5-66f64e296d0f",
   "metadata": {
    "tags": []
   },
   "outputs": [
    {
     "data": {
      "image/png": "[encoded data removed]",
      "text/plain": [
       "<Figure size 500x500 with 1 Axes>"
      ]
     },
     "metadata": {},
     "output_type": "display_data"
    }
   ],
   "source": [
    "sns.displot(data=lr_resid, bins=15).set(title='Distribution of LR Residuals');"
   ]
  },
  {
   "cell_type": "markdown",
   "id": "9e766675-5309-4fc4-9660-bda290fd4788",
   "metadata": {},
   "source": [
    "### Ridge Model"
   ]
  },
  {
   "cell_type": "code",
   "execution_count": 18,
   "id": "1a3d4547-d367-41ad-8560-e1f2d7406a77",
   "metadata": {
    "tags": []
   },
   "outputs": [],
   "source": [
    "ridge = RidgeCV(alphas = np.logspace(0,5, 100))"
   ]
  },
  {
   "cell_type": "code",
   "execution_count": 19,
   "id": "ed54ddd5-11be-4886-92fe-e263af52f40a",
   "metadata": {
    "tags": []
   },
   "outputs": [],
   "source": [
    "ridge.fit(Xs_train, y_train);"
   ]
  },
  {
   "cell_type": "code",
   "execution_count": 20,
   "id": "2ebb9064-ece6-4d2a-be1b-c9c9b5941045",
   "metadata": {
    "tags": []
   },
   "outputs": [
    {
     "data": {
      "text/html": [
       "<div>\n",
       "<style scoped>\n",
       "    .dataframe tbody tr th:only-of-type {\n",
       "        vertical-align: middle;\n",
       "    }\n",
       "\n",
       "    .dataframe tbody tr th {\n",
       "        vertical-align: top;\n",
       "    }\n",
       "\n",
       "    .dataframe thead th {\n",
       "        text-align: right;\n",
       "    }\n",
       "</style>\n",
       "<table border=\"1\" class=\"dataframe\">\n",
       "  <thead>\n",
       "    <tr style=\"text-align: right;\">\n",
       "      <th></th>\n",
       "      <th>score</th>\n",
       "    </tr>\n",
       "  </thead>\n",
       "  <tbody>\n",
       "    <tr>\n",
       "      <th>Training score</th>\n",
       "      <td>0.840648</td>\n",
       "    </tr>\n",
       "    <tr>\n",
       "      <th>Testing score</th>\n",
       "      <td>0.763939</td>\n",
       "    </tr>\n",
       "    <tr>\n",
       "      <th>Training cross-validation score</th>\n",
       "      <td>0.779031</td>\n",
       "    </tr>\n",
       "    <tr>\n",
       "      <th>Testing cross-validation score</th>\n",
       "      <td>0.817428</td>\n",
       "    </tr>\n",
       "    <tr>\n",
       "      <th>Training RMSE score</th>\n",
       "      <td>31368.797036</td>\n",
       "    </tr>\n",
       "    <tr>\n",
       "      <th>Testing RMSE score</th>\n",
       "      <td>39559.241008</td>\n",
       "    </tr>\n",
       "  </tbody>\n",
       "</table>\n",
       "</div>"
      ],
      "text/plain": [
       "                                        score\n",
       "Training score                       0.840648\n",
       "Testing score                        0.763939\n",
       "Training cross-validation score      0.779031\n",
       "Testing cross-validation score       0.817428\n",
       "Training RMSE score              31368.797036\n",
       "Testing RMSE score               39559.241008"
      ]
     },
     "execution_count": 20,
     "metadata": {},
     "output_type": "execute_result"
    }
   ],
   "source": [
    "model_outputs(ridge, Xs_train, Xs_val, y_train, y_val)"
   ]
  },
  {
   "cell_type": "markdown",
   "id": "a60b95b6-4a70-464d-a9e5-f58a564ad33e",
   "metadata": {},
   "source": [
    "The Ridge model appears to perform similar to the linear model, if not slightly worse. The model has higher bias and also does not generalize well. The model received a 5-fold cross-validation score of 78% on the training data, compared to 82% on the testing data."
   ]
  },
  {
   "cell_type": "code",
   "execution_count": 21,
   "id": "9a168f65-e5e1-4b79-93ee-5ff53803bce1",
   "metadata": {
    "tags": []
   },
   "outputs": [
    {
     "data": {
      "text/plain": [
       "4.0370172585965545"
      ]
     },
     "execution_count": 21,
     "metadata": {},
     "output_type": "execute_result"
    }
   ],
   "source": [
    "ridge.alpha_"
   ]
  },
  {
   "cell_type": "code",
   "execution_count": 22,
   "id": "56d8445d-a260-47c2-ac01-b68718f28b59",
   "metadata": {
    "tags": []
   },
   "outputs": [
    {
     "data": {
      "text/plain": [
       "''"
      ]
     },
     "execution_count": 22,
     "metadata": {},
     "output_type": "execute_result"
    },
    {
     "data": {
      "image/png": "[encoded data removed]",
      "text/plain": [
       "<Figure size 500x500 with 1 Axes>"
      ]
     },
     "metadata": {},
     "output_type": "display_data"
    }
   ],
   "source": [
    "ridge_pred = ridge.predict(Xs_val)\n",
    "\n",
    "ridge_resid = y_val - ridge_pred\n",
    "\n",
    "fig, ax = plt.subplots()\n",
    "fig.set_size_inches(5, 5)\n",
    "\n",
    "ax.scatter(ridge_pred, y_val, s=3)\n",
    "ax.set_title('Actual Price vs Ridge-Predicted Price')\n",
    "ax.set_xlabel('Ridge-Predicted Sale Price')\n",
    "ax.set_ylabel('Actual Sale Price')\n",
    ";"
   ]
  },
  {
   "cell_type": "code",
   "execution_count": 23,
   "id": "8fd24538-7001-499e-a761-5be095d2655c",
   "metadata": {
    "tags": []
   },
   "outputs": [
    {
     "data": {
      "image/png": "[encoded data removed]",
      "text/plain": [
       "<Figure size 500x500 with 1 Axes>"
      ]
     },
     "metadata": {},
     "output_type": "display_data"
    }
   ],
   "source": [
    "sns.displot(data=ridge_resid, bins=15).set(title='Distribution of Ridge Residuals');"
   ]
  },
  {
   "cell_type": "markdown",
   "id": "99941e08-db6d-4ae9-921f-e6ce6a9b8773",
   "metadata": {},
   "source": [
    "### Lasso Model"
   ]
  },
  {
   "cell_type": "code",
   "execution_count": 24,
   "id": "98011a3d-853e-47d3-bcb9-ef88299668b8",
   "metadata": {
    "tags": []
   },
   "outputs": [],
   "source": [
    "lasso = LassoCV(alphas = np.arange(0.001, 10, 1))"
   ]
  },
  {
   "cell_type": "code",
   "execution_count": 25,
   "id": "4f1ba6fb-cce3-4c20-bf99-65928a8fd4b0",
   "metadata": {
    "tags": []
   },
   "outputs": [],
   "source": [
    "with warnings.catch_warnings():\n",
    "    warnings.simplefilter('ignore')\n",
    "    lasso.fit(Xs_train, y_train)"
   ]
  },
  {
   "cell_type": "code",
   "execution_count": 26,
   "id": "12652b88-b25e-4e0d-affa-596b660866b4",
   "metadata": {
    "tags": []
   },
   "outputs": [
    {
     "name": "stdout",
     "output_type": "stream",
     "text": [
      "                                        score\n",
      "Training score                       0.841763\n",
      "Testing score                        0.753930\n",
      "Training cross-validation score      0.800087\n",
      "Testing cross-validation score       0.805636\n",
      "Training RMSE score              31258.836945\n",
      "Testing RMSE score               40389.186546\n"
     ]
    }
   ],
   "source": [
    "with warnings.catch_warnings():\n",
    "    warnings.simplefilter('ignore')\n",
    "    print(model_outputs(lasso, Xs_train, Xs_val, y_train, y_val))"
   ]
  },
  {
   "cell_type": "markdown",
   "id": "80417810-557c-4e87-a6e4-2380920061cb",
   "metadata": {},
   "source": [
    "The Lasso model, relative to the Ridge model, appears to generalize better, acheiving nearly identical 5-fold cross-validation scores on the training data and the testing data (80% and 81%, respectively.) However, the RMSE indicates that the Lasso model may be less accurate overall compared to the Ridge model."
   ]
  },
  {
   "cell_type": "code",
   "execution_count": 27,
   "id": "5b181ada-d4a5-4c6b-8305-019c9f4fa01b",
   "metadata": {
    "tags": []
   },
   "outputs": [
    {
     "data": {
      "text/plain": [
       "9.000999999999998"
      ]
     },
     "execution_count": 27,
     "metadata": {},
     "output_type": "execute_result"
    }
   ],
   "source": [
    "lasso.alpha_"
   ]
  },
  {
   "cell_type": "code",
   "execution_count": 28,
   "id": "0a66ad94-9966-413a-a1bf-e72a852178fc",
   "metadata": {
    "tags": []
   },
   "outputs": [],
   "source": [
    "lasso_2 = LassoCV(alphas = np.arange(8, 10, 0.1))"
   ]
  },
  {
   "cell_type": "code",
   "execution_count": 29,
   "id": "e205be87-594f-4f6d-9437-04ed40ee9886",
   "metadata": {
    "tags": []
   },
   "outputs": [],
   "source": [
    "with warnings.catch_warnings():\n",
    "    warnings.simplefilter('ignore')\n",
    "    lasso_2.fit(Xs_train, y_train)"
   ]
  },
  {
   "cell_type": "code",
   "execution_count": 30,
   "id": "bcb22ec0-3d38-46db-b659-b26458374def",
   "metadata": {
    "tags": []
   },
   "outputs": [
    {
     "name": "stdout",
     "output_type": "stream",
     "text": [
      "                                        score\n",
      "Training score                       0.841758\n",
      "Testing score                        0.753944\n",
      "Training cross-validation score      0.800330\n",
      "Testing cross-validation score       0.805780\n",
      "Training RMSE score              31259.319875\n",
      "Testing RMSE score               40388.034996\n"
     ]
    }
   ],
   "source": [
    "with warnings.catch_warnings():\n",
    "    warnings.simplefilter('ignore')\n",
    "    print(model_outputs(lasso_2, Xs_train, Xs_val, y_train, y_val))"
   ]
  },
  {
   "cell_type": "code",
   "execution_count": 31,
   "id": "fdaf33bf-2386-4089-b00b-a6264e6f7c4b",
   "metadata": {
    "tags": []
   },
   "outputs": [
    {
     "data": {
      "text/plain": [
       "9.899999999999993"
      ]
     },
     "execution_count": 31,
     "metadata": {},
     "output_type": "execute_result"
    }
   ],
   "source": [
    "lasso_2.alpha_"
   ]
  },
  {
   "cell_type": "code",
   "execution_count": 32,
   "id": "47bc2b94-3b23-4fc2-a5ab-2b32e6893baa",
   "metadata": {
    "tags": []
   },
   "outputs": [
    {
     "data": {
      "text/plain": [
       "''"
      ]
     },
     "execution_count": 32,
     "metadata": {},
     "output_type": "execute_result"
    },
    {
     "data": {
      "image/png": "[encoded data removed]",
      "text/plain": [
       "<Figure size 500x500 with 1 Axes>"
      ]
     },
     "metadata": {},
     "output_type": "display_data"
    }
   ],
   "source": [
    "lasso_pred = lasso.predict(Xs_val)\n",
    "\n",
    "lasso_resid = y_val - lasso_pred\n",
    "\n",
    "fig, ax = plt.subplots()\n",
    "fig.set_size_inches(5, 5)\n",
    "\n",
    "ax.scatter(lasso_pred, y_val, s=3)\n",
    "ax.set_title('Actual Price vs Lasso-Predicted Price')\n",
    "ax.set_xlabel('Lasso-Predicted Sale Price')\n",
    "ax.set_ylabel('Actual Sale Price')\n",
    ";"
   ]
  },
  {
   "cell_type": "code",
   "execution_count": 33,
   "id": "d516aae6-0658-4ef6-a732-dc9826d937e5",
   "metadata": {
    "tags": []
   },
   "outputs": [
    {
     "data": {
      "image/png": "[encoded data removed]",
      "text/plain": [
       "<Figure size 500x500 with 1 Axes>"
      ]
     },
     "metadata": {},
     "output_type": "display_data"
    }
   ],
   "source": [
    "sns.displot(data=lasso_resid, bins=15).set(title='Distribution of Lasso Residuals');"
   ]
  },
  {
   "cell_type": "markdown",
   "id": "306080c5-0188-4523-8e37-9d1058caea57",
   "metadata": {},
   "source": [
    "### ElasticNet Model"
   ]
  },
  {
   "cell_type": "code",
   "execution_count": 34,
   "id": "39d3af57-3b58-479a-892d-abe780662021",
   "metadata": {
    "tags": []
   },
   "outputs": [],
   "source": [
    "enet_params = {\n",
    "    'l1_ratio':[0.3, 0.4, 0.5, 0.6, 0.7],\n",
    "    'alpha': list(np.arange(0.001, 0.01, 0.001))\n",
    "}"
   ]
  },
  {
   "cell_type": "code",
   "execution_count": 35,
   "id": "5826aaee-6258-4431-9a5a-e83a3e1c5089",
   "metadata": {
    "tags": []
   },
   "outputs": [],
   "source": [
    "enet_gridsearcher = GridSearchCV(\n",
    "    ElasticNet(),\n",
    "    enet_params,\n",
    "    cv = 5,\n",
    "    verbose=1)"
   ]
  },
  {
   "cell_type": "code",
   "execution_count": 36,
   "id": "4f16a149-9e2e-447f-abed-958ca56575d6",
   "metadata": {
    "tags": []
   },
   "outputs": [
    {
     "name": "stdout",
     "output_type": "stream",
     "text": [
      "Fitting 5 folds for each of 45 candidates, totalling 225 fits\n"
     ]
    }
   ],
   "source": [
    "with warnings.catch_warnings():\n",
    "    warnings.simplefilter('ignore')\n",
    "    enet_gridsearcher.fit(Xs_train, y_train)"
   ]
  },
  {
   "cell_type": "code",
   "execution_count": 37,
   "id": "646512c0-1a8e-4372-93c4-336333807023",
   "metadata": {},
   "outputs": [
    {
     "data": {
      "text/plain": [
       "{'alpha': 0.007, 'l1_ratio': 0.3}"
      ]
     },
     "execution_count": 37,
     "metadata": {},
     "output_type": "execute_result"
    }
   ],
   "source": [
    "enet_gridsearcher.best_params_"
   ]
  },
  {
   "cell_type": "code",
   "execution_count": 38,
   "id": "827b5bee-3ad7-4f68-84ee-f4c552b3dafc",
   "metadata": {},
   "outputs": [],
   "source": [
    "enet = ElasticNetCV(\n",
    "    l1_ratio=0.3, \n",
    "    alphas = np.arange(0.006, 0.01, 0.001))"
   ]
  },
  {
   "cell_type": "code",
   "execution_count": 39,
   "id": "ed85a5a5-27f8-49bc-bc8b-26b28f7f7fa5",
   "metadata": {
    "tags": []
   },
   "outputs": [],
   "source": [
    "with warnings.catch_warnings():\n",
    "    warnings.simplefilter('ignore')\n",
    "    enet.fit(Xs_train, y_train)"
   ]
  },
  {
   "cell_type": "code",
   "execution_count": 40,
   "id": "0e8eacb7-ad35-484a-8dac-595e09f113d2",
   "metadata": {
    "tags": []
   },
   "outputs": [
    {
     "name": "stdout",
     "output_type": "stream",
     "text": [
      "                                        score\n",
      "Training score                       0.839362\n",
      "Testing score                        0.769018\n",
      "Training cross-validation score      0.802593\n",
      "Testing cross-validation score       0.817772\n",
      "Training RMSE score              31495.118335\n",
      "Testing RMSE score               39131.381113\n"
     ]
    }
   ],
   "source": [
    "with warnings.catch_warnings():\n",
    "    warnings.simplefilter('ignore')\n",
    "    print(model_outputs(enet, Xs_train, Xs_val, y_train, y_val))"
   ]
  },
  {
   "cell_type": "markdown",
   "id": "b9ac83ef-ce60-4c6d-8356-921ddb53cc06",
   "metadata": {},
   "source": [
    "Using gridsearch to optimize the hyperparameters of the ElasticNet model, this model performed similarly to the others above. While the expecation was that the ElasticNet model would outperform the others, the model did not appear to distinguish itself."
   ]
  },
  {
   "cell_type": "code",
   "execution_count": 41,
   "id": "64c31eb4-7d80-49d7-af6f-d17486c12ee7",
   "metadata": {
    "tags": []
   },
   "outputs": [
    {
     "data": {
      "text/plain": [
       "0.006"
      ]
     },
     "execution_count": 41,
     "metadata": {},
     "output_type": "execute_result"
    }
   ],
   "source": [
    "enet.alpha_"
   ]
  },
  {
   "cell_type": "code",
   "execution_count": 42,
   "id": "e2bcbbe3-8fe5-4fca-8fbb-73a502600edd",
   "metadata": {
    "tags": []
   },
   "outputs": [
    {
     "data": {
      "text/plain": [
       "''"
      ]
     },
     "execution_count": 42,
     "metadata": {},
     "output_type": "execute_result"
    },
    {
     "data": {
      "image/png": "[encoded data removed]",
      "text/plain": [
       "<Figure size 500x500 with 1 Axes>"
      ]
     },
     "metadata": {},
     "output_type": "display_data"
    }
   ],
   "source": [
    "enet_pred = enet.predict(Xs_val)\n",
    "\n",
    "enet_resid = y_val - enet_pred\n",
    "\n",
    "fig, ax = plt.subplots()\n",
    "fig.set_size_inches(5, 5)\n",
    "\n",
    "ax.scatter(enet_pred, y_val, s=3)\n",
    "ax.set_title('Actual Price vs ENet-Predicted Price')\n",
    "ax.set_xlabel('ENet--Predicted Sale Price')\n",
    "ax.set_ylabel('Actual Sale Price')\n",
    ";"
   ]
  },
  {
   "cell_type": "code",
   "execution_count": 43,
   "id": "fcea208e-83d0-4835-ba0d-7101019988ff",
   "metadata": {
    "tags": []
   },
   "outputs": [
    {
     "data": {
      "image/png": "[encoded data removed]",
      "text/plain": [
       "<Figure size 500x500 with 1 Axes>"
      ]
     },
     "metadata": {},
     "output_type": "display_data"
    }
   ],
   "source": [
    "sns.displot(data=enet_resid, bins=15).set(title='Distribution of ENet Residuals');"
   ]
  },
  {
   "cell_type": "markdown",
   "id": "2b310295-5a34-4cd7-a1df-9f167026de86",
   "metadata": {},
   "source": [
    "### Predictions"
   ]
  },
  {
   "cell_type": "code",
   "execution_count": 44,
   "id": "beadb8d5-8d22-48de-8960-2bb560fe2400",
   "metadata": {
    "tags": []
   },
   "outputs": [
    {
     "data": {
      "text/html": [
       "<div>\n",
       "<style scoped>\n",
       "    .dataframe tbody tr th:only-of-type {\n",
       "        vertical-align: middle;\n",
       "    }\n",
       "\n",
       "    .dataframe tbody tr th {\n",
       "        vertical-align: top;\n",
       "    }\n",
       "\n",
       "    .dataframe thead th {\n",
       "        text-align: right;\n",
       "    }\n",
       "</style>\n",
       "<table border=\"1\" class=\"dataframe\">\n",
       "  <thead>\n",
       "    <tr style=\"text-align: right;\">\n",
       "      <th></th>\n",
       "      <th>id</th>\n",
       "      <th>lot_area</th>\n",
       "      <th>overall_qual</th>\n",
       "      <th>overall_cond</th>\n",
       "      <th>1st_flr_sf</th>\n",
       "      <th>2nd_flr_sf</th>\n",
       "    </tr>\n",
       "  </thead>\n",
       "  <tbody>\n",
       "    <tr>\n",
       "      <th>0</th>\n",
       "      <td>2658</td>\n",
       "      <td>9142</td>\n",
       "      <td>6</td>\n",
       "      <td>8</td>\n",
       "      <td>908</td>\n",
       "      <td>1020</td>\n",
       "    </tr>\n",
       "  </tbody>\n",
       "</table>\n",
       "</div>"
      ],
      "text/plain": [
       "     id  lot_area  overall_qual  overall_cond  1st_flr_sf  2nd_flr_sf\n",
       "0  2658      9142             6             8         908        1020"
      ]
     },
     "execution_count": 44,
     "metadata": {},
     "output_type": "execute_result"
    }
   ],
   "source": [
    "df_test.head(1)"
   ]
  },
  {
   "cell_type": "code",
   "execution_count": 45,
   "id": "1fb17b39-7875-43d7-9636-f559828d9afd",
   "metadata": {
    "tags": []
   },
   "outputs": [],
   "source": [
    "test_id = df_test['id']"
   ]
  },
  {
   "cell_type": "code",
   "execution_count": 46,
   "id": "98c9502c-7fef-4a00-ab1a-052a672e99bd",
   "metadata": {
    "tags": []
   },
   "outputs": [],
   "source": [
    "df_test = poly.transform(df_test.drop(columns ='id'))"
   ]
  },
  {
   "cell_type": "code",
   "execution_count": 47,
   "id": "43659475-a240-4dc0-85b7-43b72e0a0d63",
   "metadata": {
    "tags": []
   },
   "outputs": [],
   "source": [
    "with warnings.catch_warnings():\n",
    "    warnings.simplefilter('ignore')\n",
    "\n",
    "    # preprocessed with standard scalar\n",
    "    Xs_test = pd.DataFrame(\n",
    "        ss.transform(df_test),\n",
    "        columns = poly.get_feature_names_out()\n",
    "    )"
   ]
  },
  {
   "cell_type": "code",
   "execution_count": 48,
   "id": "9e6f39cb-5517-435b-83a8-673159f7594e",
   "metadata": {
    "tags": []
   },
   "outputs": [],
   "source": [
    "ridge_sub = Ridge(alpha = ridge.alpha_)"
   ]
  },
  {
   "cell_type": "code",
   "execution_count": 49,
   "id": "5620b0c9-7d8a-4ec1-8824-34a514af90fe",
   "metadata": {
    "tags": []
   },
   "outputs": [],
   "source": [
    "with warnings.catch_warnings():\n",
    "    warnings.simplefilter('ignore')\n",
    "    #fit\n",
    "    ridge_sub.fit(Xs_train, y_train)"
   ]
  },
  {
   "cell_type": "code",
   "execution_count": 50,
   "id": "6a40dfc8-c4b4-49b2-989a-70d8e2fccef5",
   "metadata": {
    "tags": []
   },
   "outputs": [],
   "source": [
    "preds = ridge_sub.predict(Xs_test)"
   ]
  },
  {
   "cell_type": "code",
   "execution_count": 51,
   "id": "05552cce-d9c1-4d72-a6c1-e5c0980bd646",
   "metadata": {
    "tags": []
   },
   "outputs": [],
   "source": [
    "preds = pd.DataFrame({'Id': test_id, 'Saleprice': preds})"
   ]
  },
  {
   "cell_type": "code",
   "execution_count": 52,
   "id": "5a68a58c-2ab6-451b-81ff-d2b25980fed2",
   "metadata": {
    "tags": []
   },
   "outputs": [
    {
     "data": {
      "text/html": [
       "<div>\n",
       "<style scoped>\n",
       "    .dataframe tbody tr th:only-of-type {\n",
       "        vertical-align: middle;\n",
       "    }\n",
       "\n",
       "    .dataframe tbody tr th {\n",
       "        vertical-align: top;\n",
       "    }\n",
       "\n",
       "    .dataframe thead th {\n",
       "        text-align: right;\n",
       "    }\n",
       "</style>\n",
       "<table border=\"1\" class=\"dataframe\">\n",
       "  <thead>\n",
       "    <tr style=\"text-align: right;\">\n",
       "      <th></th>\n",
       "      <th>Id</th>\n",
       "      <th>Saleprice</th>\n",
       "    </tr>\n",
       "  </thead>\n",
       "  <tbody>\n",
       "    <tr>\n",
       "      <th>0</th>\n",
       "      <td>2658</td>\n",
       "      <td>184409.961589</td>\n",
       "    </tr>\n",
       "    <tr>\n",
       "      <th>1</th>\n",
       "      <td>2718</td>\n",
       "      <td>175081.141693</td>\n",
       "    </tr>\n",
       "    <tr>\n",
       "      <th>2</th>\n",
       "      <td>2414</td>\n",
       "      <td>222406.040267</td>\n",
       "    </tr>\n",
       "    <tr>\n",
       "      <th>3</th>\n",
       "      <td>1989</td>\n",
       "      <td>122363.495452</td>\n",
       "    </tr>\n",
       "    <tr>\n",
       "      <th>4</th>\n",
       "      <td>625</td>\n",
       "      <td>177160.072088</td>\n",
       "    </tr>\n",
       "  </tbody>\n",
       "</table>\n",
       "</div>"
      ],
      "text/plain": [
       "     Id      Saleprice\n",
       "0  2658  184409.961589\n",
       "1  2718  175081.141693\n",
       "2  2414  222406.040267\n",
       "3  1989  122363.495452\n",
       "4   625  177160.072088"
      ]
     },
     "execution_count": 52,
     "metadata": {},
     "output_type": "execute_result"
    }
   ],
   "source": [
    "preds.head()"
   ]
  },
  {
   "cell_type": "code",
   "execution_count": 53,
   "id": "08aff8a9-be91-4ada-9957-46623af96b2a",
   "metadata": {
    "tags": []
   },
   "outputs": [],
   "source": [
    "preds.to_csv('../prediction_results/ridge_1_simple.csv', index=False)"
   ]
  }
 ],
 "metadata": {
  "kernelspec": {
   "display_name": "Python 3 (ipykernel)",
   "language": "python",
   "name": "python3"
  },
  "language_info": {
   "codemirror_mode": {
    "name": "ipython",
    "version": 3
   },
   "file_extension": ".py",
   "mimetype": "text/x-python",
   "name": "python",
   "nbconvert_exporter": "python",
   "pygments_lexer": "ipython3",
   "version": "3.10.7"
  }
 },
 "nbformat": 4,
 "nbformat_minor": 5
}
