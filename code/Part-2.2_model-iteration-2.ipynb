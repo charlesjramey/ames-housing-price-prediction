{
 "cells": [
  {
   "cell_type": "markdown",
   "id": "c6eb5759-f116-45cb-b1a7-379a979f5a1a",
   "metadata": {
    "tags": []
   },
   "source": [
    "# Project 2: Ames Housing Data and Kaggle Challenge\n",
    "\n",
    "## Part II - Modeling\n",
    "\n",
    "Author: Charles Ramey\n",
    "\n",
    "Date: 03/19/2023\n",
    "\n",
    "---"
   ]
  },
  {
   "cell_type": "markdown",
   "id": "fc0f9f44-4989-46d9-9ba7-ea637ec164ed",
   "metadata": {},
   "source": [
    "#### Links\n",
    "\n",
    "For the first and third iterations, see the following notebooks:\n",
    "- [`Part-2.1_model-iteration-1.ipynb`](../code/Part-2.1_model-iteration-1.ipynb)\n",
    "- [`Part-2.3_model-iteration-3.ipynb`](../code/Part-2.3_model-iteration-3.ipynb)\n",
    "\n",
    "To see the conclusions and recommendations of this project, see the following notebook:\n",
    "- [`Part-3_conclusion-and-recommendations.ipynb`](../code/Part-3_conclusion-and-recommendations.ipynb)"
   ]
  },
  {
   "cell_type": "markdown",
   "id": "cd14adb7-8ed2-4e96-9cb6-d12692c149a7",
   "metadata": {},
   "source": [
    "### Contents\n",
    "\n",
    "- [Preprocessing](#Preprocessing)\n",
    "- [Linear Model](#Linear-Model)\n",
    "- [Ridge Model](#Ridge-Model)\n",
    "- [Lasso Model](#Lasso-Model)\n",
    "- [ElasticNet Model](#ElasticNet-Model)\n",
    "- [Predictions](#Predictions)"
   ]
  },
  {
   "cell_type": "markdown",
   "id": "2a459eca-e983-4bd6-8ff4-7ea01e943a52",
   "metadata": {},
   "source": [
    "## Model Iteration 2"
   ]
  },
  {
   "cell_type": "code",
   "execution_count": 1,
   "id": "4149ec16-822e-4e61-bf7f-376dfe5fb55b",
   "metadata": {
    "tags": []
   },
   "outputs": [],
   "source": [
    "import pandas as pd\n",
    "import numpy as np\n",
    "import matplotlib.pyplot as plt\n",
    "import seaborn as sns\n",
    "\n",
    "import scipy.stats as stats\n",
    "import statsmodels.api as sm\n",
    "\n",
    "from sklearn.linear_model import LinearRegression, Lasso, Ridge, LassoCV, RidgeCV, ElasticNet, ElasticNetCV\n",
    "from sklearn.model_selection import train_test_split, cross_val_score, GridSearchCV\n",
    "from sklearn.preprocessing import PolynomialFeatures, StandardScaler, OneHotEncoder, OrdinalEncoder\n",
    "from sklearn.compose import ColumnTransformer\n",
    "from sklearn.metrics import r2_score, mean_squared_error\n",
    "from sklearn.pipeline import Pipeline\n",
    "from sklearn import set_config\n",
    "\n",
    "import warnings"
   ]
  },
  {
   "cell_type": "code",
   "execution_count": 2,
   "id": "75228a9a-46f8-47fa-8395-c9eda59bdce8",
   "metadata": {
    "tags": []
   },
   "outputs": [],
   "source": [
    "set_config(transform_output='pandas')"
   ]
  },
  {
   "cell_type": "code",
   "execution_count": 3,
   "id": "312fda40-56ef-484a-b6dd-5aa9849e2b01",
   "metadata": {
    "tags": []
   },
   "outputs": [
    {
     "data": {
      "text/html": [
       "<div>\n",
       "<style scoped>\n",
       "    .dataframe tbody tr th:only-of-type {\n",
       "        vertical-align: middle;\n",
       "    }\n",
       "\n",
       "    .dataframe tbody tr th {\n",
       "        vertical-align: top;\n",
       "    }\n",
       "\n",
       "    .dataframe thead th {\n",
       "        text-align: right;\n",
       "    }\n",
       "</style>\n",
       "<table border=\"1\" class=\"dataframe\">\n",
       "  <thead>\n",
       "    <tr style=\"text-align: right;\">\n",
       "      <th></th>\n",
       "      <th>id</th>\n",
       "      <th>pid</th>\n",
       "      <th>ms_subclass</th>\n",
       "      <th>ms_zoning</th>\n",
       "      <th>lot_area</th>\n",
       "      <th>street</th>\n",
       "      <th>lot_shape</th>\n",
       "      <th>land_contour</th>\n",
       "      <th>utilities</th>\n",
       "      <th>lot_config</th>\n",
       "      <th>...</th>\n",
       "      <th>open_porch_sf</th>\n",
       "      <th>enclosed_porch</th>\n",
       "      <th>3ssn_porch</th>\n",
       "      <th>screen_porch</th>\n",
       "      <th>pool_area</th>\n",
       "      <th>misc_val</th>\n",
       "      <th>mo_sold</th>\n",
       "      <th>yr_sold</th>\n",
       "      <th>sale_type</th>\n",
       "      <th>saleprice</th>\n",
       "    </tr>\n",
       "  </thead>\n",
       "  <tbody>\n",
       "    <tr>\n",
       "      <th>0</th>\n",
       "      <td>109</td>\n",
       "      <td>533352170</td>\n",
       "      <td>60</td>\n",
       "      <td>RL</td>\n",
       "      <td>13517</td>\n",
       "      <td>Pave</td>\n",
       "      <td>IR1</td>\n",
       "      <td>Lvl</td>\n",
       "      <td>AllPub</td>\n",
       "      <td>CulDSac</td>\n",
       "      <td>...</td>\n",
       "      <td>44</td>\n",
       "      <td>0</td>\n",
       "      <td>0</td>\n",
       "      <td>0</td>\n",
       "      <td>0</td>\n",
       "      <td>0</td>\n",
       "      <td>3</td>\n",
       "      <td>2010</td>\n",
       "      <td>WD</td>\n",
       "      <td>130500</td>\n",
       "    </tr>\n",
       "    <tr>\n",
       "      <th>1</th>\n",
       "      <td>544</td>\n",
       "      <td>531379050</td>\n",
       "      <td>60</td>\n",
       "      <td>RL</td>\n",
       "      <td>11492</td>\n",
       "      <td>Pave</td>\n",
       "      <td>IR1</td>\n",
       "      <td>Lvl</td>\n",
       "      <td>AllPub</td>\n",
       "      <td>CulDSac</td>\n",
       "      <td>...</td>\n",
       "      <td>74</td>\n",
       "      <td>0</td>\n",
       "      <td>0</td>\n",
       "      <td>0</td>\n",
       "      <td>0</td>\n",
       "      <td>0</td>\n",
       "      <td>4</td>\n",
       "      <td>2009</td>\n",
       "      <td>WD</td>\n",
       "      <td>220000</td>\n",
       "    </tr>\n",
       "    <tr>\n",
       "      <th>2</th>\n",
       "      <td>153</td>\n",
       "      <td>535304180</td>\n",
       "      <td>20</td>\n",
       "      <td>RL</td>\n",
       "      <td>7922</td>\n",
       "      <td>Pave</td>\n",
       "      <td>Reg</td>\n",
       "      <td>Lvl</td>\n",
       "      <td>AllPub</td>\n",
       "      <td>Inside</td>\n",
       "      <td>...</td>\n",
       "      <td>52</td>\n",
       "      <td>0</td>\n",
       "      <td>0</td>\n",
       "      <td>0</td>\n",
       "      <td>0</td>\n",
       "      <td>0</td>\n",
       "      <td>1</td>\n",
       "      <td>2010</td>\n",
       "      <td>WD</td>\n",
       "      <td>109000</td>\n",
       "    </tr>\n",
       "    <tr>\n",
       "      <th>3</th>\n",
       "      <td>318</td>\n",
       "      <td>916386060</td>\n",
       "      <td>60</td>\n",
       "      <td>RL</td>\n",
       "      <td>9802</td>\n",
       "      <td>Pave</td>\n",
       "      <td>Reg</td>\n",
       "      <td>Lvl</td>\n",
       "      <td>AllPub</td>\n",
       "      <td>Inside</td>\n",
       "      <td>...</td>\n",
       "      <td>0</td>\n",
       "      <td>0</td>\n",
       "      <td>0</td>\n",
       "      <td>0</td>\n",
       "      <td>0</td>\n",
       "      <td>0</td>\n",
       "      <td>4</td>\n",
       "      <td>2010</td>\n",
       "      <td>WD</td>\n",
       "      <td>174000</td>\n",
       "    </tr>\n",
       "    <tr>\n",
       "      <th>4</th>\n",
       "      <td>255</td>\n",
       "      <td>906425045</td>\n",
       "      <td>50</td>\n",
       "      <td>RL</td>\n",
       "      <td>14235</td>\n",
       "      <td>Pave</td>\n",
       "      <td>IR1</td>\n",
       "      <td>Lvl</td>\n",
       "      <td>AllPub</td>\n",
       "      <td>Inside</td>\n",
       "      <td>...</td>\n",
       "      <td>59</td>\n",
       "      <td>0</td>\n",
       "      <td>0</td>\n",
       "      <td>0</td>\n",
       "      <td>0</td>\n",
       "      <td>0</td>\n",
       "      <td>3</td>\n",
       "      <td>2010</td>\n",
       "      <td>WD</td>\n",
       "      <td>138500</td>\n",
       "    </tr>\n",
       "    <tr>\n",
       "      <th>...</th>\n",
       "      <td>...</td>\n",
       "      <td>...</td>\n",
       "      <td>...</td>\n",
       "      <td>...</td>\n",
       "      <td>...</td>\n",
       "      <td>...</td>\n",
       "      <td>...</td>\n",
       "      <td>...</td>\n",
       "      <td>...</td>\n",
       "      <td>...</td>\n",
       "      <td>...</td>\n",
       "      <td>...</td>\n",
       "      <td>...</td>\n",
       "      <td>...</td>\n",
       "      <td>...</td>\n",
       "      <td>...</td>\n",
       "      <td>...</td>\n",
       "      <td>...</td>\n",
       "      <td>...</td>\n",
       "      <td>...</td>\n",
       "      <td>...</td>\n",
       "    </tr>\n",
       "    <tr>\n",
       "      <th>2046</th>\n",
       "      <td>1587</td>\n",
       "      <td>921126030</td>\n",
       "      <td>20</td>\n",
       "      <td>RL</td>\n",
       "      <td>11449</td>\n",
       "      <td>Pave</td>\n",
       "      <td>IR1</td>\n",
       "      <td>HLS</td>\n",
       "      <td>AllPub</td>\n",
       "      <td>Inside</td>\n",
       "      <td>...</td>\n",
       "      <td>276</td>\n",
       "      <td>0</td>\n",
       "      <td>0</td>\n",
       "      <td>0</td>\n",
       "      <td>0</td>\n",
       "      <td>0</td>\n",
       "      <td>1</td>\n",
       "      <td>2008</td>\n",
       "      <td>WD</td>\n",
       "      <td>298751</td>\n",
       "    </tr>\n",
       "    <tr>\n",
       "      <th>2047</th>\n",
       "      <td>785</td>\n",
       "      <td>905377130</td>\n",
       "      <td>30</td>\n",
       "      <td>RL</td>\n",
       "      <td>12342</td>\n",
       "      <td>Pave</td>\n",
       "      <td>IR1</td>\n",
       "      <td>Lvl</td>\n",
       "      <td>AllPub</td>\n",
       "      <td>Inside</td>\n",
       "      <td>...</td>\n",
       "      <td>0</td>\n",
       "      <td>0</td>\n",
       "      <td>0</td>\n",
       "      <td>0</td>\n",
       "      <td>0</td>\n",
       "      <td>0</td>\n",
       "      <td>3</td>\n",
       "      <td>2009</td>\n",
       "      <td>WD</td>\n",
       "      <td>82500</td>\n",
       "    </tr>\n",
       "    <tr>\n",
       "      <th>2048</th>\n",
       "      <td>916</td>\n",
       "      <td>909253010</td>\n",
       "      <td>50</td>\n",
       "      <td>RL</td>\n",
       "      <td>7558</td>\n",
       "      <td>Pave</td>\n",
       "      <td>Reg</td>\n",
       "      <td>Bnk</td>\n",
       "      <td>AllPub</td>\n",
       "      <td>Inside</td>\n",
       "      <td>...</td>\n",
       "      <td>0</td>\n",
       "      <td>0</td>\n",
       "      <td>0</td>\n",
       "      <td>0</td>\n",
       "      <td>0</td>\n",
       "      <td>0</td>\n",
       "      <td>3</td>\n",
       "      <td>2009</td>\n",
       "      <td>WD</td>\n",
       "      <td>177000</td>\n",
       "    </tr>\n",
       "    <tr>\n",
       "      <th>2049</th>\n",
       "      <td>639</td>\n",
       "      <td>535179160</td>\n",
       "      <td>20</td>\n",
       "      <td>RL</td>\n",
       "      <td>10400</td>\n",
       "      <td>Pave</td>\n",
       "      <td>Reg</td>\n",
       "      <td>Lvl</td>\n",
       "      <td>AllPub</td>\n",
       "      <td>Corner</td>\n",
       "      <td>...</td>\n",
       "      <td>189</td>\n",
       "      <td>140</td>\n",
       "      <td>0</td>\n",
       "      <td>0</td>\n",
       "      <td>0</td>\n",
       "      <td>0</td>\n",
       "      <td>11</td>\n",
       "      <td>2009</td>\n",
       "      <td>WD</td>\n",
       "      <td>144000</td>\n",
       "    </tr>\n",
       "    <tr>\n",
       "      <th>2050</th>\n",
       "      <td>10</td>\n",
       "      <td>527162130</td>\n",
       "      <td>60</td>\n",
       "      <td>RL</td>\n",
       "      <td>7500</td>\n",
       "      <td>Pave</td>\n",
       "      <td>Reg</td>\n",
       "      <td>Lvl</td>\n",
       "      <td>AllPub</td>\n",
       "      <td>Inside</td>\n",
       "      <td>...</td>\n",
       "      <td>60</td>\n",
       "      <td>0</td>\n",
       "      <td>0</td>\n",
       "      <td>0</td>\n",
       "      <td>0</td>\n",
       "      <td>0</td>\n",
       "      <td>6</td>\n",
       "      <td>2010</td>\n",
       "      <td>WD</td>\n",
       "      <td>189000</td>\n",
       "    </tr>\n",
       "  </tbody>\n",
       "</table>\n",
       "<p>2051 rows × 55 columns</p>\n",
       "</div>"
      ],
      "text/plain": [
       "        id        pid  ms_subclass ms_zoning  lot_area street lot_shape  \\\n",
       "0      109  533352170           60        RL     13517   Pave       IR1   \n",
       "1      544  531379050           60        RL     11492   Pave       IR1   \n",
       "2      153  535304180           20        RL      7922   Pave       Reg   \n",
       "3      318  916386060           60        RL      9802   Pave       Reg   \n",
       "4      255  906425045           50        RL     14235   Pave       IR1   \n",
       "...    ...        ...          ...       ...       ...    ...       ...   \n",
       "2046  1587  921126030           20        RL     11449   Pave       IR1   \n",
       "2047   785  905377130           30        RL     12342   Pave       IR1   \n",
       "2048   916  909253010           50        RL      7558   Pave       Reg   \n",
       "2049   639  535179160           20        RL     10400   Pave       Reg   \n",
       "2050    10  527162130           60        RL      7500   Pave       Reg   \n",
       "\n",
       "     land_contour utilities lot_config  ... open_porch_sf enclosed_porch  \\\n",
       "0             Lvl    AllPub    CulDSac  ...            44              0   \n",
       "1             Lvl    AllPub    CulDSac  ...            74              0   \n",
       "2             Lvl    AllPub     Inside  ...            52              0   \n",
       "3             Lvl    AllPub     Inside  ...             0              0   \n",
       "4             Lvl    AllPub     Inside  ...            59              0   \n",
       "...           ...       ...        ...  ...           ...            ...   \n",
       "2046          HLS    AllPub     Inside  ...           276              0   \n",
       "2047          Lvl    AllPub     Inside  ...             0              0   \n",
       "2048          Bnk    AllPub     Inside  ...             0              0   \n",
       "2049          Lvl    AllPub     Corner  ...           189            140   \n",
       "2050          Lvl    AllPub     Inside  ...            60              0   \n",
       "\n",
       "     3ssn_porch screen_porch pool_area misc_val  mo_sold  yr_sold  sale_type  \\\n",
       "0             0            0         0        0        3     2010        WD    \n",
       "1             0            0         0        0        4     2009        WD    \n",
       "2             0            0         0        0        1     2010        WD    \n",
       "3             0            0         0        0        4     2010        WD    \n",
       "4             0            0         0        0        3     2010        WD    \n",
       "...         ...          ...       ...      ...      ...      ...        ...   \n",
       "2046          0            0         0        0        1     2008        WD    \n",
       "2047          0            0         0        0        3     2009        WD    \n",
       "2048          0            0         0        0        3     2009        WD    \n",
       "2049          0            0         0        0       11     2009        WD    \n",
       "2050          0            0         0        0        6     2010        WD    \n",
       "\n",
       "      saleprice  \n",
       "0        130500  \n",
       "1        220000  \n",
       "2        109000  \n",
       "3        174000  \n",
       "4        138500  \n",
       "...         ...  \n",
       "2046     298751  \n",
       "2047      82500  \n",
       "2048     177000  \n",
       "2049     144000  \n",
       "2050     189000  \n",
       "\n",
       "[2051 rows x 55 columns]"
      ]
     },
     "execution_count": 3,
     "metadata": {},
     "output_type": "execute_result"
    }
   ],
   "source": [
    "df_train = pd.read_csv('../datasets/train_cleaned.csv')\n",
    "df_test = pd.read_csv('../datasets/test_cleaned.csv')\n",
    "df_train"
   ]
  },
  {
   "cell_type": "markdown",
   "id": "678303c8-64d4-452c-9a37-79b7b60d93d1",
   "metadata": {},
   "source": [
    "### Preprocessing & Feature Engineering"
   ]
  },
  {
   "cell_type": "markdown",
   "id": "73cb52c2-c77b-47d0-9be0-26118e07a870",
   "metadata": {},
   "source": [
    "After creating simple models in the first iteration, we are going to include a wider selection of features in the second iteration. This time, many of the features included in the analysis will contain categorical data. Of the categorical data, some will need to be [one-hot encoded](https://scikit-learn.org/stable/modules/generated/sklearn.preprocessing.OneHotEncoder.html), and some will need to be [ordinal encoded](https://scikit-learn.org/stable/modules/generated/sklearn.preprocessing.OrdinalEncoder.html). For example, the `street` feature contains two possible categories, paved and gravel, which will need to be one-hot encoded, whereas `exter_qual` (exteriror quality), contains five possible ordered categories: poor, fair, typical, good, and excellent."
   ]
  },
  {
   "cell_type": "code",
   "execution_count": 4,
   "id": "d820c799-c1f4-4e3a-bd34-e2ef3c30b4e3",
   "metadata": {
    "tags": []
   },
   "outputs": [
    {
     "data": {
      "text/plain": [
       "array(['Pave', 'Grvl'], dtype=object)"
      ]
     },
     "execution_count": 4,
     "metadata": {},
     "output_type": "execute_result"
    }
   ],
   "source": [
    "df_train['street'].unique()"
   ]
  },
  {
   "cell_type": "code",
   "execution_count": 5,
   "id": "d9194caa-369c-4047-baa7-bb415fe8e5ad",
   "metadata": {
    "tags": []
   },
   "outputs": [
    {
     "data": {
      "text/plain": [
       "array(['Gd', 'TA', 'Ex', 'Fa'], dtype=object)"
      ]
     },
     "execution_count": 5,
     "metadata": {},
     "output_type": "execute_result"
    }
   ],
   "source": [
    "df_train['exter_qual'].unique()"
   ]
  },
  {
   "cell_type": "code",
   "execution_count": 6,
   "id": "356999e8-19bd-45d3-b811-17d9983088a4",
   "metadata": {
    "tags": []
   },
   "outputs": [],
   "source": [
    "# features to be OneHotEncoded\n",
    "feats_for_ohe = ['street', 'utilities', 'lot_config', 'neighborhood', 'bldg_type',\n",
    "                'roof_matl', 'exterior_1st', 'heating', 'central_air','paved_drive',\n",
    "                ]\n",
    "# features to be OrdinalEncoded\n",
    "feats_for_oenc = ['land_slope', 'overall_qual', 'overall_cond', 'exter_qual',\n",
    "                 'exter_cond', 'heating_qc', 'kitchen_qual']"
   ]
  },
  {
   "cell_type": "markdown",
   "id": "5a9e4593-523d-4138-8367-1d1028eff7f0",
   "metadata": {},
   "source": [
    "Above, the features designated for one-hot encoding and ordinal encoding are defined in lists to be easily called when the data is transformed.\n",
    "\n",
    "Below, the `OrdinalEncoder()` is initialized with all of the possible categories for each categorical feature in `feats_for_oenc`."
   ]
  },
  {
   "cell_type": "code",
   "execution_count": 7,
   "id": "c01bfc32-b010-44f6-a5fa-3ee8a43119ac",
   "metadata": {
    "tags": []
   },
   "outputs": [],
   "source": [
    "oenc = OrdinalEncoder(categories = [\n",
    "    ['Gtl','Mod','Sev'],\n",
    "    [1,2,3,4,5,6,7,8,9,10],\n",
    "    [1,2,3,4,5,6,7,8,9,10],\n",
    "    ['Po','Fa','TA','Gd','Ex'],\n",
    "    ['Po','Fa','TA','Gd','Ex'],\n",
    "    ['Po','Fa','TA','Gd','Ex'],\n",
    "    ['Po','Fa','TA','Gd','Ex']]\n",
    ")"
   ]
  },
  {
   "cell_type": "code",
   "execution_count": 8,
   "id": "59c94be9-be30-4d34-abba-b9d88659b15c",
   "metadata": {
    "tags": []
   },
   "outputs": [
    {
     "data": {
      "text/plain": [
       "((2051, 7), (878, 7))"
      ]
     },
     "execution_count": 8,
     "metadata": {},
     "output_type": "execute_result"
    }
   ],
   "source": [
    "df_train_oenc = oenc.fit_transform(df_train[feats_for_oenc])\n",
    "df_test_oenc = oenc.transform(df_test[feats_for_oenc])\n",
    "\n",
    "df_train_oenc.shape, df_test_oenc.shape"
   ]
  },
  {
   "cell_type": "code",
   "execution_count": 9,
   "id": "bfad4b90-47ee-4658-b703-fceeb1516fe2",
   "metadata": {
    "tags": []
   },
   "outputs": [
    {
     "data": {
      "text/plain": [
       "((2051, 74), (878, 74))"
      ]
     },
     "execution_count": 9,
     "metadata": {},
     "output_type": "execute_result"
    }
   ],
   "source": [
    "ohe = OneHotEncoder(sparse_output=False, handle_unknown='ignore')\n",
    "df_train_ohe = ohe.fit_transform(df_train[feats_for_ohe])\n",
    "df_test_ohe = ohe.transform(df_test[feats_for_ohe])\n",
    "\n",
    "df_train_ohe.shape, df_test_ohe.shape"
   ]
  },
  {
   "cell_type": "markdown",
   "id": "877238c9-558c-486b-9a63-53a2af6498cb",
   "metadata": {},
   "source": [
    "After the appropriate features are encoded, a temporary train and test dataframe are defined below, which include all remaining numeric features to be included in the analysis. In this step, additional features are also removed from the dataframe."
   ]
  },
  {
   "cell_type": "code",
   "execution_count": 10,
   "id": "46f3bc3a-674f-4a8e-add3-f4a09aa04a73",
   "metadata": {
    "tags": []
   },
   "outputs": [],
   "source": [
    "df_train_s = df_train.drop(columns = ['land_slope', 'overall_qual', 'overall_cond', 'exter_qual',\n",
    "                            'exter_cond', 'heating_qc', 'kitchen_qual','street', 'utilities', 'lot_config',\n",
    "                            'neighborhood', 'bldg_type',\n",
    "                            'roof_matl', 'exterior_1st', 'heating', 'central_air','paved_drive','pid', \n",
    "                            'ms_subclass', 'ms_zoning','lot_shape', 'land_contour',\n",
    "                            'condition_1', 'condition_2', 'house_style', 'year_built',\n",
    "                            'roof_style', 'exterior_2nd', 'foundation', 'electrical',\n",
    "                            'totrms_abvgrd', 'functional', 'mo_sold', 'yr_sold', 'sale_type'])\n",
    "\n",
    "df_test_s = df_test.drop(columns = ['land_slope', 'overall_qual', 'overall_cond', 'exter_qual',\n",
    "                            'exter_cond', 'heating_qc', 'kitchen_qual','street', 'utilities', 'lot_config',\n",
    "                            'neighborhood', 'bldg_type',\n",
    "                            'roof_matl', 'exterior_1st', 'heating', 'central_air','paved_drive','pid', \n",
    "                            'ms_subclass', 'ms_zoning', 'lot_shape', 'land_contour',\n",
    "                            'condition_1', 'condition_2', 'house_style', 'year_built',\n",
    "                            'roof_style', 'exterior_2nd', 'foundation', 'electrical',\n",
    "                            'totrms_abvgrd', 'functional', 'mo_sold', 'yr_sold', 'sale_type'])"
   ]
  },
  {
   "cell_type": "code",
   "execution_count": 11,
   "id": "457b6ae8-3fa3-4e13-9d24-43dbb53f5c48",
   "metadata": {
    "tags": []
   },
   "outputs": [
    {
     "data": {
      "text/plain": [
       "Index(['id', 'lot_area', 'year_remod/add', '1st_flr_sf', '2nd_flr_sf',\n",
       "       'low_qual_fin_sf', 'gr_liv_area', 'full_bath', 'half_bath',\n",
       "       'bedroom_abvgr', 'kitchen_abvgr', 'fireplaces', 'wood_deck_sf',\n",
       "       'open_porch_sf', 'enclosed_porch', '3ssn_porch', 'screen_porch',\n",
       "       'pool_area', 'misc_val', 'saleprice'],\n",
       "      dtype='object')"
      ]
     },
     "execution_count": 11,
     "metadata": {},
     "output_type": "execute_result"
    }
   ],
   "source": [
    "df_train_s.columns"
   ]
  },
  {
   "cell_type": "markdown",
   "id": "7ff70ff2-2e28-489b-8453-10c4285082f9",
   "metadata": {},
   "source": [
    "At this point, we have three separate dataframes for both the train and test datasets:\n",
    "1. One-Hot Encoded Data\n",
    "2. Ordinal Encoded Data\n",
    "3. Numeric Data\n",
    "\n",
    "Before we can split the data and model it, we need to merge the three dataframes back into one. This is done for both the training data and the testing data."
   ]
  },
  {
   "cell_type": "code",
   "execution_count": 12,
   "id": "a1c8154f-98ea-4158-8c5a-f6864568dc16",
   "metadata": {
    "tags": []
   },
   "outputs": [],
   "source": [
    "df_train_oenc['id'] = df_train['id']\n",
    "df_train_ohe['id'] = df_train['id']\n",
    "\n",
    "df_test_oenc['id'] = df_test['id']\n",
    "df_test_ohe['id'] = df_test['id']"
   ]
  },
  {
   "cell_type": "code",
   "execution_count": 13,
   "id": "5fe9560d-2da2-4f3b-9a0d-53111135d53f",
   "metadata": {
    "tags": []
   },
   "outputs": [],
   "source": [
    "new_df_train = pd.merge(df_train_s, df_train_oenc, how='outer')\n",
    "new_df_train = pd.merge(new_df_train, df_train_ohe, how='outer')\n",
    "\n",
    "new_df_test = pd.merge(df_test_s, df_test_oenc, how='outer')\n",
    "new_df_test = pd.merge(new_df_test, df_test_ohe, how='outer')"
   ]
  },
  {
   "cell_type": "code",
   "execution_count": 14,
   "id": "933aa4a4-0daf-4d98-be6c-3c6a3d7f6cdf",
   "metadata": {
    "tags": []
   },
   "outputs": [
    {
     "data": {
      "text/plain": [
       "((2051, 101), (878, 100))"
      ]
     },
     "execution_count": 14,
     "metadata": {},
     "output_type": "execute_result"
    }
   ],
   "source": [
    "new_df_train.shape, new_df_test.shape"
   ]
  },
  {
   "cell_type": "code",
   "execution_count": 15,
   "id": "11b82862-65f0-4446-aa1c-bc91a57bd968",
   "metadata": {
    "tags": []
   },
   "outputs": [],
   "source": [
    "X = new_df_train.drop(columns = ['saleprice'])\n",
    "y = new_df_train['saleprice']"
   ]
  },
  {
   "cell_type": "code",
   "execution_count": 16,
   "id": "9e646c72-d26a-4dc5-a007-e8a38006f6e4",
   "metadata": {
    "tags": []
   },
   "outputs": [
    {
     "data": {
      "text/plain": [
       "((2051, 100), (2051,), (878, 100))"
      ]
     },
     "execution_count": 16,
     "metadata": {},
     "output_type": "execute_result"
    }
   ],
   "source": [
    "X.shape, y.shape, new_df_test.shape"
   ]
  },
  {
   "cell_type": "code",
   "execution_count": 17,
   "id": "2616500d-758e-4683-b6db-984f41b6b6c5",
   "metadata": {
    "tags": []
   },
   "outputs": [],
   "source": [
    "# The portion of the training data that is being split for model validation is \n",
    "# defined as X_val and y_val to avoid confusion with the test dataset.\n",
    "X_train, X_val, y_train, y_val = train_test_split(\n",
    "    X,\n",
    "    y,\n",
    "    test_size = 0.2,\n",
    "    random_state = 5)"
   ]
  },
  {
   "cell_type": "code",
   "execution_count": 18,
   "id": "003fea2f-993f-4a66-bdca-4a4447ba981e",
   "metadata": {
    "tags": []
   },
   "outputs": [],
   "source": [
    "tr_id = X_train['id']\n",
    "val_id = X_val['id']"
   ]
  },
  {
   "cell_type": "code",
   "execution_count": 19,
   "id": "4e557f7c-fe7a-4c35-ad8d-9574b2d4ab32",
   "metadata": {
    "tags": []
   },
   "outputs": [],
   "source": [
    "poly = PolynomialFeatures(\n",
    "    degree = 2,\n",
    "    interaction_only= True,\n",
    "    include_bias=False)"
   ]
  },
  {
   "cell_type": "code",
   "execution_count": 20,
   "id": "ddb83761-ad56-44d4-aa7f-c11b36275aba",
   "metadata": {
    "tags": []
   },
   "outputs": [],
   "source": [
    "X_train = poly.fit_transform(\n",
    "    X_train.drop(columns = 'id'))\n",
    "\n",
    "X_train = pd.DataFrame(X_train, columns = poly.get_feature_names_out())\n",
    "\n",
    "X_val = pd.DataFrame(\n",
    "    poly.transform(X_val.drop(columns = 'id')),\n",
    "    columns = poly.get_feature_names_out())"
   ]
  },
  {
   "cell_type": "code",
   "execution_count": 21,
   "id": "c57aad70-75b1-45ab-8472-cb0e4ecfc488",
   "metadata": {
    "tags": []
   },
   "outputs": [
    {
     "data": {
      "text/plain": [
       "((1640, 4950), (411, 4950))"
      ]
     },
     "execution_count": 21,
     "metadata": {},
     "output_type": "execute_result"
    }
   ],
   "source": [
    "X_train.shape, X_val.shape"
   ]
  },
  {
   "cell_type": "code",
   "execution_count": 22,
   "id": "496e0035-7ccb-4781-97a4-e7cdf23c5e9d",
   "metadata": {
    "tags": []
   },
   "outputs": [],
   "source": [
    "ss = StandardScaler()\n",
    "\n",
    "Xs_train = ss.fit_transform(X_train)\n",
    "Xs_train = pd.DataFrame(Xs_train, columns = ss.get_feature_names_out())\n",
    "\n",
    "Xs_val = pd.DataFrame(ss.transform(X_val), columns = ss.get_feature_names_out())"
   ]
  },
  {
   "cell_type": "code",
   "execution_count": 23,
   "id": "491cfa02-0337-478f-acb5-dcffd8cbc41c",
   "metadata": {
    "tags": []
   },
   "outputs": [],
   "source": [
    "def model_outputs(model, Xs_train, Xs_val, y_train, y_val):\n",
    "    results_dict = {'Training score': model.score(Xs_train, y_train),\n",
    "    'Testing score': model.score(Xs_val, y_val),\n",
    "    'Training cross-validation score': cross_val_score(model, Xs_train, y_train, cv=5).mean(),\n",
    "    'Testing cross-validation score': cross_val_score(model, Xs_val, y_val, cv=5).mean(),\n",
    "    'Training RMSE score': mean_squared_error(y_train, model.predict(Xs_train), squared = False),\n",
    "    'Testing RMSE score': mean_squared_error(y_val, model.predict(Xs_val), squared = False)\n",
    "    }\n",
    "    \n",
    "    return pd.DataFrame.from_dict(results_dict, orient = 'index', columns = ['score'])"
   ]
  },
  {
   "cell_type": "markdown",
   "id": "7d57caf2-9c38-4bfe-8273-de6cc78ab7e0",
   "metadata": {},
   "source": [
    "### Baseline and Linear Models"
   ]
  },
  {
   "cell_type": "code",
   "execution_count": 24,
   "id": "a02021bd-3fc2-44d9-87da-b67e1aeedac8",
   "metadata": {
    "tags": []
   },
   "outputs": [
    {
     "data": {
      "text/html": [
       "<style>#sk-container-id-1 {color: black;background-color: white;}#sk-container-id-1 pre{padding: 0;}#sk-container-id-1 div.sk-toggleable {background-color: white;}#sk-container-id-1 label.sk-toggleable__label {cursor: pointer;display: block;width: 100%;margin-bottom: 0;padding: 0.3em;box-sizing: border-box;text-align: center;}#sk-container-id-1 label.sk-toggleable__label-arrow:before {content: \"▸\";float: left;margin-right: 0.25em;color: #696969;}#sk-container-id-1 label.sk-toggleable__label-arrow:hover:before {color: black;}#sk-container-id-1 div.sk-estimator:hover label.sk-toggleable__label-arrow:before {color: black;}#sk-container-id-1 div.sk-toggleable__content {max-height: 0;max-width: 0;overflow: hidden;text-align: left;background-color: #f0f8ff;}#sk-container-id-1 div.sk-toggleable__content pre {margin: 0.2em;color: black;border-radius: 0.25em;background-color: #f0f8ff;}#sk-container-id-1 input.sk-toggleable__control:checked~div.sk-toggleable__content {max-height: 200px;max-width: 100%;overflow: auto;}#sk-container-id-1 input.sk-toggleable__control:checked~label.sk-toggleable__label-arrow:before {content: \"▾\";}#sk-container-id-1 div.sk-estimator input.sk-toggleable__control:checked~label.sk-toggleable__label {background-color: #d4ebff;}#sk-container-id-1 div.sk-label input.sk-toggleable__control:checked~label.sk-toggleable__label {background-color: #d4ebff;}#sk-container-id-1 input.sk-hidden--visually {border: 0;clip: rect(1px 1px 1px 1px);clip: rect(1px, 1px, 1px, 1px);height: 1px;margin: -1px;overflow: hidden;padding: 0;position: absolute;width: 1px;}#sk-container-id-1 div.sk-estimator {font-family: monospace;background-color: #f0f8ff;border: 1px dotted black;border-radius: 0.25em;box-sizing: border-box;margin-bottom: 0.5em;}#sk-container-id-1 div.sk-estimator:hover {background-color: #d4ebff;}#sk-container-id-1 div.sk-parallel-item::after {content: \"\";width: 100%;border-bottom: 1px solid gray;flex-grow: 1;}#sk-container-id-1 div.sk-label:hover label.sk-toggleable__label {background-color: #d4ebff;}#sk-container-id-1 div.sk-serial::before {content: \"\";position: absolute;border-left: 1px solid gray;box-sizing: border-box;top: 0;bottom: 0;left: 50%;z-index: 0;}#sk-container-id-1 div.sk-serial {display: flex;flex-direction: column;align-items: center;background-color: white;padding-right: 0.2em;padding-left: 0.2em;position: relative;}#sk-container-id-1 div.sk-item {position: relative;z-index: 1;}#sk-container-id-1 div.sk-parallel {display: flex;align-items: stretch;justify-content: center;background-color: white;position: relative;}#sk-container-id-1 div.sk-item::before, #sk-container-id-1 div.sk-parallel-item::before {content: \"\";position: absolute;border-left: 1px solid gray;box-sizing: border-box;top: 0;bottom: 0;left: 50%;z-index: -1;}#sk-container-id-1 div.sk-parallel-item {display: flex;flex-direction: column;z-index: 1;position: relative;background-color: white;}#sk-container-id-1 div.sk-parallel-item:first-child::after {align-self: flex-end;width: 50%;}#sk-container-id-1 div.sk-parallel-item:last-child::after {align-self: flex-start;width: 50%;}#sk-container-id-1 div.sk-parallel-item:only-child::after {width: 0;}#sk-container-id-1 div.sk-dashed-wrapped {border: 1px dashed gray;margin: 0 0.4em 0.5em 0.4em;box-sizing: border-box;padding-bottom: 0.4em;background-color: white;}#sk-container-id-1 div.sk-label label {font-family: monospace;font-weight: bold;display: inline-block;line-height: 1.2em;}#sk-container-id-1 div.sk-label-container {text-align: center;}#sk-container-id-1 div.sk-container {/* jupyter's `normalize.less` sets `[hidden] { display: none; }` but bootstrap.min.css set `[hidden] { display: none !important; }` so we also need the `!important` here to be able to override the default hidden behavior on the sphinx rendered scikit-learn.org. See: https://github.com/scikit-learn/scikit-learn/issues/21755 */display: inline-block !important;position: relative;}#sk-container-id-1 div.sk-text-repr-fallback {display: none;}</style><div id=\"sk-container-id-1\" class=\"sk-top-container\"><div class=\"sk-text-repr-fallback\"><pre>LinearRegression()</pre><b>In a Jupyter environment, please rerun this cell to show the HTML representation or trust the notebook. <br />On GitHub, the HTML representation is unable to render, please try loading this page with nbviewer.org.</b></div><div class=\"sk-container\" hidden><div class=\"sk-item\"><div class=\"sk-estimator sk-toggleable\"><input class=\"sk-toggleable__control sk-hidden--visually\" id=\"sk-estimator-id-1\" type=\"checkbox\" checked><label for=\"sk-estimator-id-1\" class=\"sk-toggleable__label sk-toggleable__label-arrow\">LinearRegression</label><div class=\"sk-toggleable__content\"><pre>LinearRegression()</pre></div></div></div></div></div>"
      ],
      "text/plain": [
       "LinearRegression()"
      ]
     },
     "execution_count": 24,
     "metadata": {},
     "output_type": "execute_result"
    }
   ],
   "source": [
    "lr = LinearRegression()\n",
    "\n",
    "lr.fit(Xs_train, y_train)"
   ]
  },
  {
   "cell_type": "markdown",
   "id": "949b939f-d25d-45ea-9a2a-e02faf071934",
   "metadata": {},
   "source": [
    "#### Baseline Model"
   ]
  },
  {
   "cell_type": "code",
   "execution_count": 25,
   "id": "88b99c35-99ab-476f-85fc-133f6e1f16a9",
   "metadata": {},
   "outputs": [
    {
     "name": "stdout",
     "output_type": "stream",
     "text": [
      "Baseline score: -1.816488103896273e+30\n"
     ]
    }
   ],
   "source": [
    "y_base = np.array([np.mean(y_train)] * len(y_train)).reshape(-1, 1)\n",
    "print(f\"Baseline score: {lr.score(Xs_train, y_base)}\")"
   ]
  },
  {
   "cell_type": "markdown",
   "id": "ad2b95ef-b7fe-4629-8d1b-aedee34bd4cd",
   "metadata": {},
   "source": [
    "#### Linear Model"
   ]
  },
  {
   "cell_type": "code",
   "execution_count": 26,
   "id": "1f1fe57e-9e19-41be-b183-07d58acff769",
   "metadata": {
    "tags": []
   },
   "outputs": [
    {
     "data": {
      "text/html": [
       "<div>\n",
       "<style scoped>\n",
       "    .dataframe tbody tr th:only-of-type {\n",
       "        vertical-align: middle;\n",
       "    }\n",
       "\n",
       "    .dataframe tbody tr th {\n",
       "        vertical-align: top;\n",
       "    }\n",
       "\n",
       "    .dataframe thead th {\n",
       "        text-align: right;\n",
       "    }\n",
       "</style>\n",
       "<table border=\"1\" class=\"dataframe\">\n",
       "  <thead>\n",
       "    <tr style=\"text-align: right;\">\n",
       "      <th></th>\n",
       "      <th>score</th>\n",
       "    </tr>\n",
       "  </thead>\n",
       "  <tbody>\n",
       "    <tr>\n",
       "      <th>Training score</th>\n",
       "      <td>9.852295e-01</td>\n",
       "    </tr>\n",
       "    <tr>\n",
       "      <th>Testing score</th>\n",
       "      <td>-1.008594e+26</td>\n",
       "    </tr>\n",
       "    <tr>\n",
       "      <th>Training cross-validation score</th>\n",
       "      <td>-5.892977e+22</td>\n",
       "    </tr>\n",
       "    <tr>\n",
       "      <th>Testing cross-validation score</th>\n",
       "      <td>-1.145915e+01</td>\n",
       "    </tr>\n",
       "    <tr>\n",
       "      <th>Training RMSE score</th>\n",
       "      <td>9.550305e+03</td>\n",
       "    </tr>\n",
       "    <tr>\n",
       "      <th>Testing RMSE score</th>\n",
       "      <td>8.177005e+17</td>\n",
       "    </tr>\n",
       "  </tbody>\n",
       "</table>\n",
       "</div>"
      ],
      "text/plain": [
       "                                        score\n",
       "Training score                   9.852295e-01\n",
       "Testing score                   -1.008594e+26\n",
       "Training cross-validation score -5.892977e+22\n",
       "Testing cross-validation score  -1.145915e+01\n",
       "Training RMSE score              9.550305e+03\n",
       "Testing RMSE score               8.177005e+17"
      ]
     },
     "execution_count": 26,
     "metadata": {},
     "output_type": "execute_result"
    }
   ],
   "source": [
    "model_outputs(lr, Xs_train, Xs_val, y_train, y_val)"
   ]
  },
  {
   "cell_type": "markdown",
   "id": "41049bd1-f7f8-462a-8220-74419a8ef104",
   "metadata": {},
   "source": [
    "The linear model does not appear to fit the data whatsoever, so this model will not be compared to the rest."
   ]
  },
  {
   "cell_type": "markdown",
   "id": "a739aff9-2149-4b3d-9ae6-657d625fb39d",
   "metadata": {},
   "source": [
    "### Ridge Model"
   ]
  },
  {
   "cell_type": "code",
   "execution_count": 27,
   "id": "0d71da69-e029-455d-9a79-1363b77f5a85",
   "metadata": {
    "tags": []
   },
   "outputs": [],
   "source": [
    "ridge = RidgeCV(alphas = np.logspace(0,5, 100))"
   ]
  },
  {
   "cell_type": "code",
   "execution_count": 28,
   "id": "a362c19b-d6ff-4efd-989d-32b07fe3d60f",
   "metadata": {
    "tags": []
   },
   "outputs": [],
   "source": [
    "ridge.fit(Xs_train, y_train);"
   ]
  },
  {
   "cell_type": "code",
   "execution_count": 29,
   "id": "23c634c0-66a6-4416-ae5f-5e343c20de66",
   "metadata": {
    "tags": []
   },
   "outputs": [
    {
     "data": {
      "text/html": [
       "<div>\n",
       "<style scoped>\n",
       "    .dataframe tbody tr th:only-of-type {\n",
       "        vertical-align: middle;\n",
       "    }\n",
       "\n",
       "    .dataframe tbody tr th {\n",
       "        vertical-align: top;\n",
       "    }\n",
       "\n",
       "    .dataframe thead th {\n",
       "        text-align: right;\n",
       "    }\n",
       "</style>\n",
       "<table border=\"1\" class=\"dataframe\">\n",
       "  <thead>\n",
       "    <tr style=\"text-align: right;\">\n",
       "      <th></th>\n",
       "      <th>score</th>\n",
       "    </tr>\n",
       "  </thead>\n",
       "  <tbody>\n",
       "    <tr>\n",
       "      <th>Training score</th>\n",
       "      <td>0.927786</td>\n",
       "    </tr>\n",
       "    <tr>\n",
       "      <th>Testing score</th>\n",
       "      <td>0.849927</td>\n",
       "    </tr>\n",
       "    <tr>\n",
       "      <th>Training cross-validation score</th>\n",
       "      <td>0.851124</td>\n",
       "    </tr>\n",
       "    <tr>\n",
       "      <th>Testing cross-validation score</th>\n",
       "      <td>0.822035</td>\n",
       "    </tr>\n",
       "    <tr>\n",
       "      <th>Training RMSE score</th>\n",
       "      <td>21116.862081</td>\n",
       "    </tr>\n",
       "    <tr>\n",
       "      <th>Testing RMSE score</th>\n",
       "      <td>31541.892025</td>\n",
       "    </tr>\n",
       "  </tbody>\n",
       "</table>\n",
       "</div>"
      ],
      "text/plain": [
       "                                        score\n",
       "Training score                       0.927786\n",
       "Testing score                        0.849927\n",
       "Training cross-validation score      0.851124\n",
       "Testing cross-validation score       0.822035\n",
       "Training RMSE score              21116.862081\n",
       "Testing RMSE score               31541.892025"
      ]
     },
     "execution_count": 29,
     "metadata": {},
     "output_type": "execute_result"
    }
   ],
   "source": [
    "model_outputs(ridge, Xs_train, Xs_val, y_train, y_val)"
   ]
  },
  {
   "cell_type": "markdown",
   "id": "79e27f17-abed-471f-b89e-698bd98a9ba2",
   "metadata": {},
   "source": [
    "The results of the second iteration's Ridge model are the most promising so far. With a training score over 90%, slightly varied 5-fold cross-validation scores over 82%, and the lowest RMSE we've seen. There is still some variance, but the model appears to perform the best overall. "
   ]
  },
  {
   "cell_type": "code",
   "execution_count": 30,
   "id": "22144c59-cd5a-4f58-93bc-e3b01572a156",
   "metadata": {
    "tags": []
   },
   "outputs": [
    {
     "data": {
      "text/plain": [
       "4328.761281083057"
      ]
     },
     "execution_count": 30,
     "metadata": {},
     "output_type": "execute_result"
    }
   ],
   "source": [
    "ridge.alpha_"
   ]
  },
  {
   "cell_type": "code",
   "execution_count": 31,
   "id": "05f30556-0f81-4958-959d-563ab8ec7907",
   "metadata": {
    "tags": []
   },
   "outputs": [
    {
     "data": {
      "text/plain": [
       "''"
      ]
     },
     "execution_count": 31,
     "metadata": {},
     "output_type": "execute_result"
    },
    {
     "data": {
      "image/png": "[encoded data removed]",
      "text/plain": [
       "<Figure size 500x500 with 1 Axes>"
      ]
     },
     "metadata": {},
     "output_type": "display_data"
    }
   ],
   "source": [
    "ridge_pred = ridge.predict(Xs_val)\n",
    "\n",
    "ridge_resid = y_val - ridge_pred\n",
    "\n",
    "fig, ax = plt.subplots()\n",
    "fig.set_size_inches(5, 5)\n",
    "\n",
    "ax.scatter(ridge_pred, y_val, s=3)\n",
    "ax.set_title('Actual Price vs Ridge-Predicted Price')\n",
    "ax.set_xlabel('Ridge-Predicted Sale Price')\n",
    "ax.set_ylabel('Actual Sale Price')\n",
    ";"
   ]
  },
  {
   "cell_type": "markdown",
   "id": "e1458a95-f057-4adf-8f04-2dc0713f4ab9",
   "metadata": {},
   "source": [
    "This scatterplot of the Ridge model's predicted prices vs. the actual price is also the most tightly clustered around y = x, which helps to visualize the similarity between the predicted and true values."
   ]
  },
  {
   "cell_type": "code",
   "execution_count": 32,
   "id": "3fe2ed51-c19a-41ff-958d-2a9f10d9f852",
   "metadata": {
    "tags": []
   },
   "outputs": [
    {
     "data": {
      "image/png": "[encoded data removed]",
      "text/plain": [
       "<Figure size 500x500 with 1 Axes>"
      ]
     },
     "metadata": {},
     "output_type": "display_data"
    }
   ],
   "source": [
    "sns.displot(data=ridge_resid, bins=15).set(title='Distribution of Ridge Residuals');"
   ]
  },
  {
   "cell_type": "markdown",
   "id": "745dee63-ec15-43b4-a2cb-011d98631167",
   "metadata": {},
   "source": [
    "### Lasso Model"
   ]
  },
  {
   "cell_type": "code",
   "execution_count": 33,
   "id": "ed859f47-fefc-4c79-a59c-37c40955f93b",
   "metadata": {
    "tags": []
   },
   "outputs": [],
   "source": [
    "lasso = LassoCV(alphas = np.arange(0.001, 10, 1))"
   ]
  },
  {
   "cell_type": "code",
   "execution_count": 34,
   "id": "7b58ac89-b65c-4ada-bd71-1d705e45686a",
   "metadata": {
    "tags": []
   },
   "outputs": [],
   "source": [
    "with warnings.catch_warnings():\n",
    "    warnings.simplefilter('ignore')\n",
    "    lasso.fit(Xs_train, y_train)"
   ]
  },
  {
   "cell_type": "code",
   "execution_count": 35,
   "id": "184e5895-0284-44ed-90a5-f2d300d32a01",
   "metadata": {
    "tags": []
   },
   "outputs": [
    {
     "name": "stdout",
     "output_type": "stream",
     "text": [
      "                                        score\n",
      "Training score                       0.983051\n",
      "Testing score                        0.611904\n",
      "Training cross-validation score      0.568092\n",
      "Testing cross-validation score       0.326622\n",
      "Training RMSE score              10230.349140\n",
      "Testing RMSE score               50723.095720\n"
     ]
    }
   ],
   "source": [
    "with warnings.catch_warnings():\n",
    "    warnings.simplefilter('ignore')\n",
    "    print(model_outputs(lasso, Xs_train, Xs_val, y_train, y_val))"
   ]
  },
  {
   "cell_type": "markdown",
   "id": "51cbdab9-f4f9-498f-b072-d00f7a90904f",
   "metadata": {},
   "source": [
    "This time, the Lasso model received a score over 98% for the training data. However, the model scored poorly on the testing data, and even worse when scored using 5-fold cross-validation. From this, we can tell that the Lasso model is extremely overfit to the training data and does not generalize to other data."
   ]
  },
  {
   "cell_type": "code",
   "execution_count": 36,
   "id": "33a7f104-b717-45e3-857e-7c9ac2731fa0",
   "metadata": {
    "tags": []
   },
   "outputs": [
    {
     "data": {
      "text/plain": [
       "9.000999999999998"
      ]
     },
     "execution_count": 36,
     "metadata": {},
     "output_type": "execute_result"
    }
   ],
   "source": [
    "lasso.alpha_"
   ]
  },
  {
   "cell_type": "code",
   "execution_count": 37,
   "id": "77df6668-43cd-488f-acb7-aecacf10ac5f",
   "metadata": {
    "tags": []
   },
   "outputs": [
    {
     "data": {
      "text/plain": [
       "''"
      ]
     },
     "execution_count": 37,
     "metadata": {},
     "output_type": "execute_result"
    },
    {
     "data": {
      "image/png": "[encoded data removed]",
      "text/plain": [
       "<Figure size 500x500 with 1 Axes>"
      ]
     },
     "metadata": {},
     "output_type": "display_data"
    }
   ],
   "source": [
    "lasso_pred = lasso.predict(Xs_val)\n",
    "\n",
    "lasso_resid = y_val - lasso_pred\n",
    "\n",
    "fig, ax = plt.subplots()\n",
    "fig.set_size_inches(5, 5)\n",
    "\n",
    "ax.scatter(lasso_pred, y_val, s=3)\n",
    "ax.set_title('Actual Price vs Lasso-Predicted Price')\n",
    "ax.set_xlabel('Lasso-Predicted Sale Price')\n",
    "ax.set_ylabel('Actual Sale Price')\n",
    ";"
   ]
  },
  {
   "cell_type": "code",
   "execution_count": 38,
   "id": "8bd3d24d-3abc-46ae-b7b0-91e08b0be754",
   "metadata": {
    "tags": []
   },
   "outputs": [
    {
     "data": {
      "image/png": "[encoded data removed]",
      "text/plain": [
       "<Figure size 500x500 with 1 Axes>"
      ]
     },
     "metadata": {},
     "output_type": "display_data"
    }
   ],
   "source": [
    "sns.displot(data=lasso_resid, bins=15).set(title='Distribution of Lasso Residuals');"
   ]
  },
  {
   "cell_type": "markdown",
   "id": "81bfbb98-82bf-46bf-8a97-483daa288b21",
   "metadata": {},
   "source": [
    "### ElasticNet Model"
   ]
  },
  {
   "cell_type": "code",
   "execution_count": 39,
   "id": "c26ebc9b-4973-403e-a161-8d82dc8adb15",
   "metadata": {},
   "outputs": [],
   "source": [
    "enet = ElasticNetCV(\n",
    "    l1_ratio=0.3, \n",
    "    alphas = np.arange(0.006, 0.01, 0.001))"
   ]
  },
  {
   "cell_type": "code",
   "execution_count": 40,
   "id": "0950f78d-7e33-43d2-b325-1b30fb0fabe1",
   "metadata": {
    "tags": []
   },
   "outputs": [],
   "source": [
    "with warnings.catch_warnings():\n",
    "    warnings.simplefilter('ignore')\n",
    "    enet.fit(Xs_train, y_train)"
   ]
  },
  {
   "cell_type": "code",
   "execution_count": 41,
   "id": "2eb42753-04ef-49a5-9ab9-292f4e9d716f",
   "metadata": {
    "tags": []
   },
   "outputs": [
    {
     "name": "stdout",
     "output_type": "stream",
     "text": [
      "                                        score\n",
      "Training score                       0.981151\n",
      "Testing score                        0.717206\n",
      "Training cross-validation score      0.645942\n",
      "Testing cross-validation score       0.566889\n",
      "Training RMSE score              10788.611712\n",
      "Testing RMSE score               43298.318822\n"
     ]
    }
   ],
   "source": [
    "with warnings.catch_warnings():\n",
    "    warnings.simplefilter('ignore')\n",
    "    print(model_outputs(enet, Xs_train, Xs_val, y_train, y_val))"
   ]
  },
  {
   "cell_type": "markdown",
   "id": "a4ba11d0-85e3-48f2-9ab5-cae83cc0b096",
   "metadata": {},
   "source": [
    "As expected, since the ElasticNet model combines the Ridge and Lasso models, it suffers from the same pitfalls as the Lasso model. While it does perform slightly better than the Lasso model, it is still highly overfit, and does not generalize well."
   ]
  },
  {
   "cell_type": "code",
   "execution_count": 42,
   "id": "ead409f1-fc4c-4317-be72-2dd0def6b1b8",
   "metadata": {
    "tags": []
   },
   "outputs": [
    {
     "data": {
      "text/plain": [
       "0.007"
      ]
     },
     "execution_count": 42,
     "metadata": {},
     "output_type": "execute_result"
    }
   ],
   "source": [
    "enet.alpha_"
   ]
  },
  {
   "cell_type": "code",
   "execution_count": 43,
   "id": "4cd1c9b4-982f-4829-a732-f3577ba2b48f",
   "metadata": {
    "tags": []
   },
   "outputs": [
    {
     "data": {
      "text/plain": [
       "''"
      ]
     },
     "execution_count": 43,
     "metadata": {},
     "output_type": "execute_result"
    },
    {
     "data": {
      "image/png": "[encoded data removed]",
      "text/plain": [
       "<Figure size 500x500 with 1 Axes>"
      ]
     },
     "metadata": {},
     "output_type": "display_data"
    }
   ],
   "source": [
    "enet_pred = enet.predict(Xs_val)\n",
    "\n",
    "enet_resid = y_val - enet_pred\n",
    "\n",
    "fig, ax = plt.subplots()\n",
    "fig.set_size_inches(5, 5)\n",
    "\n",
    "ax.scatter(enet_pred, y_val, s=3)\n",
    "ax.set_title('Actual Price vs ENet-Predicted Price')\n",
    "ax.set_xlabel('ENet--Predicted Sale Price')\n",
    "ax.set_ylabel('Actual Sale Price')\n",
    ";"
   ]
  },
  {
   "cell_type": "code",
   "execution_count": 44,
   "id": "9fc05dae-bbd6-4336-b901-0b32ceec94f9",
   "metadata": {
    "tags": []
   },
   "outputs": [
    {
     "data": {
      "image/png": "[encoded data removed]",
      "text/plain": [
       "<Figure size 500x500 with 1 Axes>"
      ]
     },
     "metadata": {},
     "output_type": "display_data"
    }
   ],
   "source": [
    "sns.displot(data=enet_resid, bins=15).set(title='Distribution of ENet Residuals');"
   ]
  },
  {
   "cell_type": "markdown",
   "id": "2f6aa122-fd37-49a2-bfaa-1fbad86f5531",
   "metadata": {},
   "source": [
    "### Predictions"
   ]
  },
  {
   "cell_type": "code",
   "execution_count": 45,
   "id": "f50afa41-6c27-4e80-ba63-13068803282f",
   "metadata": {
    "tags": []
   },
   "outputs": [
    {
     "data": {
      "text/html": [
       "<div>\n",
       "<style scoped>\n",
       "    .dataframe tbody tr th:only-of-type {\n",
       "        vertical-align: middle;\n",
       "    }\n",
       "\n",
       "    .dataframe tbody tr th {\n",
       "        vertical-align: top;\n",
       "    }\n",
       "\n",
       "    .dataframe thead th {\n",
       "        text-align: right;\n",
       "    }\n",
       "</style>\n",
       "<table border=\"1\" class=\"dataframe\">\n",
       "  <thead>\n",
       "    <tr style=\"text-align: right;\">\n",
       "      <th></th>\n",
       "      <th>id</th>\n",
       "      <th>pid</th>\n",
       "      <th>ms_subclass</th>\n",
       "      <th>ms_zoning</th>\n",
       "      <th>lot_area</th>\n",
       "      <th>street</th>\n",
       "      <th>lot_shape</th>\n",
       "      <th>land_contour</th>\n",
       "      <th>utilities</th>\n",
       "      <th>lot_config</th>\n",
       "      <th>...</th>\n",
       "      <th>wood_deck_sf</th>\n",
       "      <th>open_porch_sf</th>\n",
       "      <th>enclosed_porch</th>\n",
       "      <th>3ssn_porch</th>\n",
       "      <th>screen_porch</th>\n",
       "      <th>pool_area</th>\n",
       "      <th>misc_val</th>\n",
       "      <th>mo_sold</th>\n",
       "      <th>yr_sold</th>\n",
       "      <th>sale_type</th>\n",
       "    </tr>\n",
       "  </thead>\n",
       "  <tbody>\n",
       "    <tr>\n",
       "      <th>0</th>\n",
       "      <td>2658</td>\n",
       "      <td>902301120</td>\n",
       "      <td>190</td>\n",
       "      <td>RM</td>\n",
       "      <td>9142</td>\n",
       "      <td>Pave</td>\n",
       "      <td>Reg</td>\n",
       "      <td>Lvl</td>\n",
       "      <td>AllPub</td>\n",
       "      <td>Inside</td>\n",
       "      <td>...</td>\n",
       "      <td>0</td>\n",
       "      <td>60</td>\n",
       "      <td>112</td>\n",
       "      <td>0</td>\n",
       "      <td>0</td>\n",
       "      <td>0</td>\n",
       "      <td>0</td>\n",
       "      <td>4</td>\n",
       "      <td>2006</td>\n",
       "      <td>WD</td>\n",
       "    </tr>\n",
       "  </tbody>\n",
       "</table>\n",
       "<p>1 rows × 54 columns</p>\n",
       "</div>"
      ],
      "text/plain": [
       "     id        pid  ms_subclass ms_zoning  lot_area street lot_shape  \\\n",
       "0  2658  902301120          190        RM      9142   Pave       Reg   \n",
       "\n",
       "  land_contour utilities lot_config  ... wood_deck_sf open_porch_sf  \\\n",
       "0          Lvl    AllPub     Inside  ...            0            60   \n",
       "\n",
       "  enclosed_porch 3ssn_porch screen_porch pool_area  misc_val  mo_sold  \\\n",
       "0            112          0            0         0         0        4   \n",
       "\n",
       "   yr_sold  sale_type  \n",
       "0     2006        WD   \n",
       "\n",
       "[1 rows x 54 columns]"
      ]
     },
     "execution_count": 45,
     "metadata": {},
     "output_type": "execute_result"
    }
   ],
   "source": [
    "df_test.head(1)"
   ]
  },
  {
   "cell_type": "code",
   "execution_count": 46,
   "id": "8949254a-6e02-4f28-bd65-3dc7128a6b97",
   "metadata": {
    "tags": []
   },
   "outputs": [],
   "source": [
    "test_id = new_df_test['id']"
   ]
  },
  {
   "cell_type": "code",
   "execution_count": 47,
   "id": "2a15b6ba-5ce2-42f9-833f-cccdb3036431",
   "metadata": {
    "tags": []
   },
   "outputs": [],
   "source": [
    "new_df_test = poly.transform(new_df_test.drop(columns ='id'))"
   ]
  },
  {
   "cell_type": "code",
   "execution_count": 48,
   "id": "f4e5e8e1-74d4-4d36-ad96-2d1f2b6608be",
   "metadata": {
    "tags": []
   },
   "outputs": [],
   "source": [
    "with warnings.catch_warnings():\n",
    "    warnings.simplefilter('ignore')\n",
    "\n",
    "    # preprocessed with standard scalar\n",
    "    Xs_test = pd.DataFrame(\n",
    "        ss.transform(new_df_test),\n",
    "        columns = poly.get_feature_names_out()\n",
    "    )"
   ]
  },
  {
   "cell_type": "code",
   "execution_count": 49,
   "id": "7cefdfa8-9785-447a-a11c-4fb4a9fe2774",
   "metadata": {
    "tags": []
   },
   "outputs": [],
   "source": [
    "ridge_sub = Ridge(alpha = ridge.alpha_)"
   ]
  },
  {
   "cell_type": "code",
   "execution_count": 50,
   "id": "243c919f-ffeb-46a1-9179-cd21b607a967",
   "metadata": {
    "tags": []
   },
   "outputs": [],
   "source": [
    "with warnings.catch_warnings():\n",
    "    warnings.simplefilter('ignore')\n",
    "    #fit\n",
    "    ridge_sub.fit(Xs_train, y_train)"
   ]
  },
  {
   "cell_type": "code",
   "execution_count": 51,
   "id": "03f431ff-018c-44ca-a19a-4d58ac0a7052",
   "metadata": {
    "tags": []
   },
   "outputs": [],
   "source": [
    "preds = ridge_sub.predict(Xs_test)"
   ]
  },
  {
   "cell_type": "code",
   "execution_count": 52,
   "id": "60f5e83e-3dd9-4898-9fa2-6309231f9a43",
   "metadata": {
    "tags": []
   },
   "outputs": [],
   "source": [
    "preds = pd.DataFrame({'Id': test_id, 'Saleprice': preds})"
   ]
  },
  {
   "cell_type": "code",
   "execution_count": 53,
   "id": "1cc5622e-864d-474c-91f5-219469188af4",
   "metadata": {
    "tags": []
   },
   "outputs": [
    {
     "data": {
      "text/html": [
       "<div>\n",
       "<style scoped>\n",
       "    .dataframe tbody tr th:only-of-type {\n",
       "        vertical-align: middle;\n",
       "    }\n",
       "\n",
       "    .dataframe tbody tr th {\n",
       "        vertical-align: top;\n",
       "    }\n",
       "\n",
       "    .dataframe thead th {\n",
       "        text-align: right;\n",
       "    }\n",
       "</style>\n",
       "<table border=\"1\" class=\"dataframe\">\n",
       "  <thead>\n",
       "    <tr style=\"text-align: right;\">\n",
       "      <th></th>\n",
       "      <th>Id</th>\n",
       "      <th>Saleprice</th>\n",
       "    </tr>\n",
       "  </thead>\n",
       "  <tbody>\n",
       "    <tr>\n",
       "      <th>0</th>\n",
       "      <td>2658</td>\n",
       "      <td>117549.571786</td>\n",
       "    </tr>\n",
       "    <tr>\n",
       "      <th>1</th>\n",
       "      <td>2718</td>\n",
       "      <td>156583.948858</td>\n",
       "    </tr>\n",
       "    <tr>\n",
       "      <th>2</th>\n",
       "      <td>2414</td>\n",
       "      <td>201028.529846</td>\n",
       "    </tr>\n",
       "    <tr>\n",
       "      <th>3</th>\n",
       "      <td>1989</td>\n",
       "      <td>102033.418305</td>\n",
       "    </tr>\n",
       "    <tr>\n",
       "      <th>4</th>\n",
       "      <td>625</td>\n",
       "      <td>175007.593292</td>\n",
       "    </tr>\n",
       "  </tbody>\n",
       "</table>\n",
       "</div>"
      ],
      "text/plain": [
       "     Id      Saleprice\n",
       "0  2658  117549.571786\n",
       "1  2718  156583.948858\n",
       "2  2414  201028.529846\n",
       "3  1989  102033.418305\n",
       "4   625  175007.593292"
      ]
     },
     "execution_count": 53,
     "metadata": {},
     "output_type": "execute_result"
    }
   ],
   "source": [
    "preds.head()"
   ]
  },
  {
   "cell_type": "code",
   "execution_count": 54,
   "id": "12cfb225-ee52-46bf-9f18-d9d673f8c1c4",
   "metadata": {
    "tags": []
   },
   "outputs": [],
   "source": [
    "preds.to_csv('../prediction_results/ridge_2_complex.csv', index=False)"
   ]
  }
 ],
 "metadata": {
  "kernelspec": {
   "display_name": "Python 3 (ipykernel)",
   "language": "python",
   "name": "python3"
  },
  "language_info": {
   "codemirror_mode": {
    "name": "ipython",
    "version": 3
   },
   "file_extension": ".py",
   "mimetype": "text/x-python",
   "name": "python",
   "nbconvert_exporter": "python",
   "pygments_lexer": "ipython3",
   "version": "3.10.7"
  }
 },
 "nbformat": 4,
 "nbformat_minor": 5
}
